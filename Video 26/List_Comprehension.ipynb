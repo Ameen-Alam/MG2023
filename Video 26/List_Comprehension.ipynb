{
 "cells": [
  {
   "cell_type": "markdown",
   "id": "4a358907",
   "metadata": {},
   "source": [
    "# <center style='color:darkgoldenrod'> List Comprehension in Python </center>"
   ]
  },
  {
   "cell_type": "markdown",
   "id": "21570a11",
   "metadata": {},
   "source": [
    "# 1. Create a list"
   ]
  },
  {
   "cell_type": "code",
   "execution_count": 1,
   "id": "cb00eaad",
   "metadata": {},
   "outputs": [
    {
     "data": {
      "text/plain": [
       "['apple', 2, 5.1, True, 3j, (2+5j), 'tuna']"
      ]
     },
     "execution_count": 1,
     "metadata": {},
     "output_type": "execute_result"
    }
   ],
   "source": [
    "list1 = ['apple', 2, 5.1, True, 3j, 2 + 5j, 'tuna']\n",
    "list1"
   ]
  },
  {
   "cell_type": "markdown",
   "id": "5b00c0de",
   "metadata": {},
   "source": [
    "# 2. Iterate through the elements using list comprehension "
   ]
  },
  {
   "cell_type": "code",
   "execution_count": 2,
   "id": "e69feb3f",
   "metadata": {},
   "outputs": [
    {
     "name": "stdout",
     "output_type": "stream",
     "text": [
      "apple\n",
      "2\n",
      "5.1\n",
      "True\n",
      "3j\n",
      "(2+5j)\n",
      "tuna\n"
     ]
    }
   ],
   "source": [
    "for item in list1:\n",
    "    print(item) # conventional way "
   ]
  },
  {
   "cell_type": "code",
   "execution_count": 3,
   "id": "93f3043f",
   "metadata": {},
   "outputs": [
    {
     "name": "stdout",
     "output_type": "stream",
     "text": [
      "apple\n",
      "2\n",
      "5.1\n",
      "True\n",
      "3j\n",
      "(2+5j)\n",
      "tuna\n"
     ]
    }
   ],
   "source": [
    "a = [print(item) for item in list1] # list comprehension"
   ]
  },
  {
   "cell_type": "markdown",
   "id": "41e6666a",
   "metadata": {},
   "source": [
    "# 3. `if` statement within list comprehension"
   ]
  },
  {
   "cell_type": "code",
   "execution_count": 4,
   "id": "fcffd55c",
   "metadata": {},
   "outputs": [
    {
     "data": {
      "text/plain": [
       "[1, 2, 3, 4, 5, 6, 7, 8, 9, 10]"
      ]
     },
     "execution_count": 4,
     "metadata": {},
     "output_type": "execute_result"
    }
   ],
   "source": [
    "numbers = [1, 2, 3, 4, 5, 6, 7, 8, 9, 10]\n",
    "numbers"
   ]
  },
  {
   "cell_type": "code",
   "execution_count": 5,
   "id": "a190fd86",
   "metadata": {},
   "outputs": [
    {
     "name": "stdout",
     "output_type": "stream",
     "text": [
      "2\n",
      "4\n",
      "6\n",
      "8\n",
      "10\n"
     ]
    }
   ],
   "source": [
    "b = [print(num) for num in numbers if num % 2 == 0]"
   ]
  },
  {
   "cell_type": "markdown",
   "id": "57b56dbf",
   "metadata": {},
   "source": [
    "# 4. `if-else` statement within list comprehension"
   ]
  },
  {
   "cell_type": "code",
   "execution_count": 6,
   "id": "2b0f0d36",
   "metadata": {},
   "outputs": [
    {
     "name": "stdout",
     "output_type": "stream",
     "text": [
      "ODD number: 1\n",
      "EVEN number: 2\n",
      "ODD number: 3\n",
      "EVEN number: 4\n",
      "ODD number: 5\n",
      "EVEN number: 6\n",
      "ODD number: 7\n",
      "EVEN number: 8\n",
      "ODD number: 9\n",
      "EVEN number: 10\n"
     ]
    }
   ],
   "source": [
    "c = [print('ODD number:', num) if num % 2 != 0 else print('EVEN number:', num) for num in numbers]"
   ]
  },
  {
   "cell_type": "markdown",
   "id": "fb7ecc59",
   "metadata": {},
   "source": [
    "# 5. `range` function within list comprehension"
   ]
  },
  {
   "cell_type": "code",
   "execution_count": 7,
   "id": "96f3a456",
   "metadata": {},
   "outputs": [
    {
     "name": "stdout",
     "output_type": "stream",
     "text": [
      "10\n",
      "12\n",
      "14\n",
      "16\n",
      "18\n"
     ]
    }
   ],
   "source": [
    "d = [print(digit) for digit in range(10, 20, 2)]"
   ]
  },
  {
   "cell_type": "code",
   "execution_count": 8,
   "id": "d45e7cf5",
   "metadata": {},
   "outputs": [
    {
     "name": "stdout",
     "output_type": "stream",
     "text": [
      "11\n",
      "13\n",
      "15\n",
      "17\n",
      "19\n"
     ]
    }
   ],
   "source": [
    "d = [print(digit) for digit in range(10, 20) if digit % 2 != 0]"
   ]
  },
  {
   "cell_type": "code",
   "execution_count": 9,
   "id": "30a09037",
   "metadata": {},
   "outputs": [
    {
     "data": {
      "text/plain": [
       "[1, 2, 3, 4, 5, 6, 7, 8, 9, 10]"
      ]
     },
     "execution_count": 9,
     "metadata": {},
     "output_type": "execute_result"
    }
   ],
   "source": [
    "numbers # check 'numbers' list again "
   ]
  },
  {
   "cell_type": "code",
   "execution_count": 10,
   "id": "4cac8870",
   "metadata": {},
   "outputs": [
    {
     "name": "stdout",
     "output_type": "stream",
     "text": [
      "100\n",
      "144\n",
      "196\n",
      "256\n",
      "324\n"
     ]
    }
   ],
   "source": [
    "squares = [print(digit ** 2) for digit in range(10, 20, 2)]"
   ]
  },
  {
   "cell_type": "markdown",
   "id": "873aa992",
   "metadata": {},
   "source": [
    "# 6. Iterate through a string using list comprehension "
   ]
  },
  {
   "cell_type": "code",
   "execution_count": 11,
   "id": "a987e2ac",
   "metadata": {},
   "outputs": [
    {
     "data": {
      "text/plain": [
       "'tokyo'"
      ]
     },
     "execution_count": 11,
     "metadata": {},
     "output_type": "execute_result"
    }
   ],
   "source": [
    "city = 'tokyo'\n",
    "city"
   ]
  },
  {
   "cell_type": "code",
   "execution_count": 12,
   "id": "f56495be",
   "metadata": {},
   "outputs": [
    {
     "name": "stdout",
     "output_type": "stream",
     "text": [
      "t\n",
      "o\n",
      "k\n",
      "y\n",
      "o\n"
     ]
    }
   ],
   "source": [
    "f = [print(character) for character in city]"
   ]
  },
  {
   "cell_type": "code",
   "execution_count": 13,
   "id": "c50007f7",
   "metadata": {},
   "outputs": [
    {
     "name": "stdout",
     "output_type": "stream",
     "text": [
      "T\n",
      "O\n",
      "K\n",
      "Y\n",
      "O\n"
     ]
    }
   ],
   "source": [
    "g = [print(character) for character in city.upper()] # convert string characters to UPPERCASE"
   ]
  },
  {
   "cell_type": "markdown",
   "id": "d4055113",
   "metadata": {},
   "source": [
    "# 7. Reverse string using list comprehension"
   ]
  },
  {
   "cell_type": "code",
   "execution_count": 14,
   "id": "a25ba44b",
   "metadata": {},
   "outputs": [
    {
     "name": "stdout",
     "output_type": "stream",
     "text": [
      "o\n",
      "y\n",
      "k\n",
      "o\n",
      "t\n"
     ]
    }
   ],
   "source": [
    "reverse_1 = [print(character) for character in city[::-1]]"
   ]
  },
  {
   "cell_type": "code",
   "execution_count": 15,
   "id": "d9ff95d4",
   "metadata": {},
   "outputs": [
    {
     "name": "stdout",
     "output_type": "stream",
     "text": [
      "O\n",
      "Y\n",
      "K\n",
      "O\n",
      "T\n"
     ]
    }
   ],
   "source": [
    "reverse_2 = [print(character) for character in city.upper()[::-1]]"
   ]
  },
  {
   "cell_type": "markdown",
   "id": "ef38ca35",
   "metadata": {},
   "source": [
    "# 8. Nested `if` statements within list comprehension "
   ]
  },
  {
   "cell_type": "code",
   "execution_count": 16,
   "id": "16272279",
   "metadata": {},
   "outputs": [
    {
     "name": "stdout",
     "output_type": "stream",
     "text": [
      "0 4 8 12 16 "
     ]
    }
   ],
   "source": [
    "h = [print(num, end=' ') for num in range(20) if num % 2 == 0 if num % 4 == 0] # print horizontally"
   ]
  },
  {
   "cell_type": "code",
   "execution_count": 17,
   "id": "c8a2ca30",
   "metadata": {},
   "outputs": [
    {
     "name": "stdout",
     "output_type": "stream",
     "text": [
      "0\n",
      "4\n",
      "8\n",
      "12\n",
      "16\n"
     ]
    }
   ],
   "source": [
    "i = [print(num) for num in range(20) if num % 2 == 0 if num % 4 == 0] # print vertically"
   ]
  },
  {
   "cell_type": "markdown",
   "id": "948b2427",
   "metadata": {},
   "source": [
    "# 9. Nested list comprehension"
   ]
  },
  {
   "cell_type": "code",
   "execution_count": 18,
   "id": "8c4497de",
   "metadata": {},
   "outputs": [
    {
     "name": "stdout",
     "output_type": "stream",
     "text": [
      "[0, 1, 2, 3, 4, 5, 6, 7, 8, 9]\n",
      "[0, 1, 2, 3, 4, 5, 6, 7, 8, 9]\n",
      "[0, 1, 2, 3, 4, 5, 6, 7, 8, 9]\n",
      "[0, 1, 2, 3, 4, 5, 6, 7, 8, 9]\n",
      "[0, 1, 2, 3, 4, 5, 6, 7, 8, 9]\n"
     ]
    }
   ],
   "source": [
    "j = [print([y for y in range(10)]) for z in range(5)]"
   ]
  }
 ],
 "metadata": {
  "kernelspec": {
   "display_name": "Python 3 (ipykernel)",
   "language": "python",
   "name": "python3"
  },
  "language_info": {
   "codemirror_mode": {
    "name": "ipython",
    "version": 3
   },
   "file_extension": ".py",
   "mimetype": "text/x-python",
   "name": "python",
   "nbconvert_exporter": "python",
   "pygments_lexer": "ipython3",
   "version": "3.9.13"
  }
 },
 "nbformat": 4,
 "nbformat_minor": 5
}
