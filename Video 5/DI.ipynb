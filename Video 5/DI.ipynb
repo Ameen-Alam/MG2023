{
 "cells": [
  {
   "cell_type": "markdown",
   "id": "dce026e5",
   "metadata": {},
   "source": [
    "# <center style='color:navy'> Internal Cluster Validation: `Dunn index (DI)` </center>"
   ]
  },
  {
   "cell_type": "markdown",
   "id": "ec690af9",
   "metadata": {},
   "source": [
    "# 1. Import required libraries"
   ]
  },
  {
   "cell_type": "code",
   "execution_count": 1,
   "id": "84f639dc",
   "metadata": {},
   "outputs": [],
   "source": [
    "from sklearn import datasets\n",
    "from sklearn.cluster import KMeans\n",
    "from sklearn.preprocessing import StandardScaler\n",
    "\n",
    "import pandas as pd\n",
    "import numpy as np"
   ]
  },
  {
   "cell_type": "markdown",
   "id": "e095c25b",
   "metadata": {},
   "source": [
    "# 2. Create dataset "
   ]
  },
  {
   "cell_type": "code",
   "execution_count": 2,
   "id": "1129e0f0",
   "metadata": {},
   "outputs": [],
   "source": [
    "features, _ = datasets.make_classification(n_samples=150, n_features=4, random_state=32)"
   ]
  },
  {
   "cell_type": "markdown",
   "id": "f4b764f0",
   "metadata": {},
   "source": [
    "#### `Internal cluster validation` is applicaple in situations where ground truth information is absent. Hence, we didn't generate any labels while creating our dataset. "
   ]
  },
  {
   "cell_type": "code",
   "execution_count": 3,
   "id": "ae6b7d3b",
   "metadata": {},
   "outputs": [
    {
     "data": {
      "text/plain": [
       "(150, 4)"
      ]
     },
     "execution_count": 3,
     "metadata": {},
     "output_type": "execute_result"
    }
   ],
   "source": [
    "features.shape # (samples, features)"
   ]
  },
  {
   "cell_type": "markdown",
   "id": "3147faab",
   "metadata": {},
   "source": [
    "# 3. Perform preprocessing"
   ]
  },
  {
   "cell_type": "code",
   "execution_count": 4,
   "id": "bd80d954",
   "metadata": {},
   "outputs": [],
   "source": [
    "scaler = StandardScaler()\n",
    "scaled = scaler.fit_transform(features)"
   ]
  },
  {
   "cell_type": "markdown",
   "id": "8d55d073",
   "metadata": {},
   "source": [
    "# 4. Create a dataframe"
   ]
  },
  {
   "cell_type": "code",
   "execution_count": 5,
   "id": "2f43bc4a",
   "metadata": {},
   "outputs": [
    {
     "data": {
      "text/html": [
       "<div>\n",
       "<style scoped>\n",
       "    .dataframe tbody tr th:only-of-type {\n",
       "        vertical-align: middle;\n",
       "    }\n",
       "\n",
       "    .dataframe tbody tr th {\n",
       "        vertical-align: top;\n",
       "    }\n",
       "\n",
       "    .dataframe thead th {\n",
       "        text-align: right;\n",
       "    }\n",
       "</style>\n",
       "<table border=\"1\" class=\"dataframe\">\n",
       "  <thead>\n",
       "    <tr style=\"text-align: right;\">\n",
       "      <th></th>\n",
       "      <th>0</th>\n",
       "      <th>1</th>\n",
       "      <th>2</th>\n",
       "      <th>3</th>\n",
       "    </tr>\n",
       "  </thead>\n",
       "  <tbody>\n",
       "    <tr>\n",
       "      <th>0</th>\n",
       "      <td>-0.710192</td>\n",
       "      <td>-0.509800</td>\n",
       "      <td>-0.408410</td>\n",
       "      <td>-0.746329</td>\n",
       "    </tr>\n",
       "    <tr>\n",
       "      <th>1</th>\n",
       "      <td>0.939765</td>\n",
       "      <td>-0.539092</td>\n",
       "      <td>-0.717751</td>\n",
       "      <td>0.815132</td>\n",
       "    </tr>\n",
       "    <tr>\n",
       "      <th>2</th>\n",
       "      <td>2.099509</td>\n",
       "      <td>0.032460</td>\n",
       "      <td>-0.321335</td>\n",
       "      <td>1.996811</td>\n",
       "    </tr>\n",
       "    <tr>\n",
       "      <th>3</th>\n",
       "      <td>-0.476136</td>\n",
       "      <td>0.793959</td>\n",
       "      <td>0.903570</td>\n",
       "      <td>-0.338987</td>\n",
       "    </tr>\n",
       "    <tr>\n",
       "      <th>4</th>\n",
       "      <td>-0.684644</td>\n",
       "      <td>-1.358334</td>\n",
       "      <td>-1.292370</td>\n",
       "      <td>-0.842655</td>\n",
       "    </tr>\n",
       "  </tbody>\n",
       "</table>\n",
       "</div>"
      ],
      "text/plain": [
       "          0         1         2         3\n",
       "0 -0.710192 -0.509800 -0.408410 -0.746329\n",
       "1  0.939765 -0.539092 -0.717751  0.815132\n",
       "2  2.099509  0.032460 -0.321335  1.996811\n",
       "3 -0.476136  0.793959  0.903570 -0.338987\n",
       "4 -0.684644 -1.358334 -1.292370 -0.842655"
      ]
     },
     "execution_count": 5,
     "metadata": {},
     "output_type": "execute_result"
    }
   ],
   "source": [
    "df = pd.DataFrame(scaled)\n",
    "df.head()"
   ]
  },
  {
   "cell_type": "code",
   "execution_count": 6,
   "id": "32ce689b",
   "metadata": {},
   "outputs": [
    {
     "data": {
      "text/plain": [
       "(150, 4)"
      ]
     },
     "execution_count": 6,
     "metadata": {},
     "output_type": "execute_result"
    }
   ],
   "source": [
    "df.shape"
   ]
  },
  {
   "cell_type": "markdown",
   "id": "f26e03e0",
   "metadata": {},
   "source": [
    "# 5. Perform K-Means clustering considering 3 clusters"
   ]
  },
  {
   "cell_type": "code",
   "execution_count": 7,
   "id": "ee754413",
   "metadata": {},
   "outputs": [],
   "source": [
    "kmeans1 = KMeans(n_clusters=3, n_init='auto', random_state=32)\n",
    "kmeans1.fit(df)\n",
    "preds1 = kmeans1.labels_"
   ]
  },
  {
   "cell_type": "markdown",
   "id": "33b9b807",
   "metadata": {},
   "source": [
    "# 6. Perform K-Means clustering considering 4 clusters"
   ]
  },
  {
   "cell_type": "code",
   "execution_count": 8,
   "id": "f8427995",
   "metadata": {},
   "outputs": [],
   "source": [
    "kmeans2 = KMeans(n_clusters=4, n_init='auto', random_state=32)\n",
    "kmeans2.fit(df)\n",
    "preds2 = kmeans2.labels_"
   ]
  },
  {
   "cell_type": "markdown",
   "id": "8eb442ab",
   "metadata": {},
   "source": [
    "# 7. Add two new columns to the dataframe"
   ]
  },
  {
   "cell_type": "code",
   "execution_count": 9,
   "id": "8451208c",
   "metadata": {},
   "outputs": [
    {
     "data": {
      "text/html": [
       "<div>\n",
       "<style scoped>\n",
       "    .dataframe tbody tr th:only-of-type {\n",
       "        vertical-align: middle;\n",
       "    }\n",
       "\n",
       "    .dataframe tbody tr th {\n",
       "        vertical-align: top;\n",
       "    }\n",
       "\n",
       "    .dataframe thead th {\n",
       "        text-align: right;\n",
       "    }\n",
       "</style>\n",
       "<table border=\"1\" class=\"dataframe\">\n",
       "  <thead>\n",
       "    <tr style=\"text-align: right;\">\n",
       "      <th></th>\n",
       "      <th>0</th>\n",
       "      <th>1</th>\n",
       "      <th>2</th>\n",
       "      <th>3</th>\n",
       "      <th>Prediction1</th>\n",
       "      <th>Prediction2</th>\n",
       "    </tr>\n",
       "  </thead>\n",
       "  <tbody>\n",
       "    <tr>\n",
       "      <th>0</th>\n",
       "      <td>-0.710192</td>\n",
       "      <td>-0.509800</td>\n",
       "      <td>-0.408410</td>\n",
       "      <td>-0.746329</td>\n",
       "      <td>0</td>\n",
       "      <td>3</td>\n",
       "    </tr>\n",
       "    <tr>\n",
       "      <th>1</th>\n",
       "      <td>0.939765</td>\n",
       "      <td>-0.539092</td>\n",
       "      <td>-0.717751</td>\n",
       "      <td>0.815132</td>\n",
       "      <td>2</td>\n",
       "      <td>2</td>\n",
       "    </tr>\n",
       "    <tr>\n",
       "      <th>2</th>\n",
       "      <td>2.099509</td>\n",
       "      <td>0.032460</td>\n",
       "      <td>-0.321335</td>\n",
       "      <td>1.996811</td>\n",
       "      <td>2</td>\n",
       "      <td>2</td>\n",
       "    </tr>\n",
       "    <tr>\n",
       "      <th>3</th>\n",
       "      <td>-0.476136</td>\n",
       "      <td>0.793959</td>\n",
       "      <td>0.903570</td>\n",
       "      <td>-0.338987</td>\n",
       "      <td>1</td>\n",
       "      <td>3</td>\n",
       "    </tr>\n",
       "    <tr>\n",
       "      <th>4</th>\n",
       "      <td>-0.684644</td>\n",
       "      <td>-1.358334</td>\n",
       "      <td>-1.292370</td>\n",
       "      <td>-0.842655</td>\n",
       "      <td>0</td>\n",
       "      <td>0</td>\n",
       "    </tr>\n",
       "  </tbody>\n",
       "</table>\n",
       "</div>"
      ],
      "text/plain": [
       "          0         1         2         3  Prediction1  Prediction2\n",
       "0 -0.710192 -0.509800 -0.408410 -0.746329            0            3\n",
       "1  0.939765 -0.539092 -0.717751  0.815132            2            2\n",
       "2  2.099509  0.032460 -0.321335  1.996811            2            2\n",
       "3 -0.476136  0.793959  0.903570 -0.338987            1            3\n",
       "4 -0.684644 -1.358334 -1.292370 -0.842655            0            0"
      ]
     },
     "execution_count": 9,
     "metadata": {},
     "output_type": "execute_result"
    }
   ],
   "source": [
    "df['Prediction1'] = preds1\n",
    "df['Prediction2'] = preds2\n",
    "df.head()"
   ]
  },
  {
   "cell_type": "code",
   "execution_count": 10,
   "id": "6d5cac69",
   "metadata": {},
   "outputs": [
    {
     "name": "stdout",
     "output_type": "stream",
     "text": [
      "[0 2 1]\n",
      "[3 2 0 1]\n"
     ]
    }
   ],
   "source": [
    "print(df['Prediction1'].unique())\n",
    "print(df['Prediction2'].unique())"
   ]
  },
  {
   "cell_type": "markdown",
   "id": "f2e13a06",
   "metadata": {},
   "source": [
    "The two lines shown above are displaying the unique labels present in the `K-Means` clustering outcome considering 3 and 4 clusters, respectively."
   ]
  },
  {
   "cell_type": "markdown",
   "id": "3b5fac98",
   "metadata": {},
   "source": [
    "# 8. Extract different clusters and create separate dataframes"
   ]
  },
  {
   "cell_type": "code",
   "execution_count": 11,
   "id": "1f1dd897",
   "metadata": {},
   "outputs": [],
   "source": [
    "C3_1 = df[df.Prediction1 == 0]\n",
    "C3_2 = df[df.Prediction1 == 1]\n",
    "C3_3 = df[df.Prediction1 == 2]"
   ]
  },
  {
   "cell_type": "code",
   "execution_count": 12,
   "id": "7fbf5adb",
   "metadata": {},
   "outputs": [],
   "source": [
    "C4_1 = df[df.Prediction2 == 0]\n",
    "C4_2 = df[df.Prediction2 == 1]\n",
    "C4_3 = df[df.Prediction2 == 2]\n",
    "C4_4 = df[df.Prediction2 == 3]"
   ]
  },
  {
   "cell_type": "markdown",
   "id": "7becef4f",
   "metadata": {},
   "source": [
    "# 9. Drop the labels from the clusters"
   ]
  },
  {
   "cell_type": "code",
   "execution_count": 13,
   "id": "e36de254",
   "metadata": {},
   "outputs": [],
   "source": [
    "clus3_1 = C3_1.iloc[:, :-2].values\n",
    "clus3_2 = C3_2.iloc[:, :-2].values\n",
    "clus3_3 = C3_3.iloc[:, :-2].values"
   ]
  },
  {
   "cell_type": "code",
   "execution_count": 14,
   "id": "1fd69684",
   "metadata": {},
   "outputs": [],
   "source": [
    "clus4_1 = C4_1.iloc[:, :-2].values\n",
    "clus4_2 = C4_2.iloc[:, :-2].values\n",
    "clus4_3 = C4_3.iloc[:, :-2].values\n",
    "clus4_4 = C4_4.iloc[:, :-2].values"
   ]
  },
  {
   "cell_type": "markdown",
   "id": "f595f28e",
   "metadata": {},
   "source": [
    "# 10. Create a list of all the clusters"
   ]
  },
  {
   "cell_type": "code",
   "execution_count": 15,
   "id": "1a3d49c9",
   "metadata": {},
   "outputs": [],
   "source": [
    "C3_list = [clus3_1, clus3_2, clus3_3]\n",
    "C4_list = [clus4_1, clus4_2, clus4_3, clus4_4]"
   ]
  },
  {
   "cell_type": "markdown",
   "id": "8a8e865f",
   "metadata": {},
   "source": [
    "# 11. Custom function for calculating `Euclidean` distance"
   ]
  },
  {
   "cell_type": "code",
   "execution_count": 16,
   "id": "e9956717",
   "metadata": {},
   "outputs": [],
   "source": [
    "def euclidean(x, y):\n",
    "    return (np.sqrt(np.sum(np.square(x - y))))"
   ]
  },
  {
   "cell_type": "markdown",
   "id": "ea561949",
   "metadata": {},
   "source": [
    "# 12. Custom function for calculating `inter-cluster` distance"
   ]
  },
  {
   "cell_type": "code",
   "execution_count": 17,
   "id": "64f00e04",
   "metadata": {},
   "outputs": [],
   "source": [
    "# inter[a, b] ---> a & b are denoting row and column positions in inter\n",
    "\n",
    "def inter_cluster(x, y): # distance between clusters\n",
    "    inter = np.ones([len(x), len(y)])\n",
    "    for a in range(len(x)):\n",
    "        for b in range(len(y)):\n",
    "            inter[a, b] = euclidean(x[a], y[b])\n",
    "    return np.min(inter)"
   ]
  },
  {
   "cell_type": "markdown",
   "id": "f677329e",
   "metadata": {},
   "source": [
    "# 13. Custom function for calculating `intra-cluster` distance"
   ]
  },
  {
   "cell_type": "code",
   "execution_count": 18,
   "id": "8ba05f35",
   "metadata": {},
   "outputs": [],
   "source": [
    "# intra[a, b] ---> a & b are denoting row and column positions in intra\n",
    "\n",
    "def intra_cluster(x): # distance within the same cluster\n",
    "    intra = np.zeros([len(x), len(x)])\n",
    "    for a in range(len(x)):\n",
    "        for b in range(len(x)):\n",
    "            intra[a, b] = euclidean(x[a], x[b])\n",
    "    return np.max(intra)"
   ]
  },
  {
   "cell_type": "markdown",
   "id": "4f3dadf0",
   "metadata": {},
   "source": [
    "# 14. Calculate `Dunn index (DI)`"
   ]
  },
  {
   "cell_type": "code",
   "execution_count": 19,
   "id": "5ea5960e",
   "metadata": {},
   "outputs": [],
   "source": [
    "def dunn(_list_):\n",
    "    inter = np.ones([len(_list_), len(_list_)])\n",
    "    intra = np.zeros([len(_list_), 1])\n",
    "    clus_range = list(range(len(_list_)))\n",
    "    for a in clus_range:\n",
    "        for b in (clus_range[0:a] + clus_range[a+1:]):\n",
    "            inter[a, b] = inter_cluster(_list_[a], _list_[b])\n",
    "            intra[a] = intra_cluster(_list_[a])\n",
    "            DI = np.min(inter) / np.max(intra)\n",
    "    return DI"
   ]
  },
  {
   "cell_type": "code",
   "execution_count": 20,
   "id": "494415eb",
   "metadata": {},
   "outputs": [
    {
     "name": "stdout",
     "output_type": "stream",
     "text": [
      "Dunn index (DI) value for 3-clusters: 0.03291829616950834\n",
      "Dunn index (DI) value for 4-clusters: 0.04968299613527416\n"
     ]
    }
   ],
   "source": [
    "print('Dunn index (DI) value for 3-clusters:', dunn(C3_list))\n",
    "print('Dunn index (DI) value for 4-clusters:', dunn(C4_list))"
   ]
  },
  {
   "cell_type": "markdown",
   "id": "708aea73",
   "metadata": {},
   "source": [
    "## A higher value of `Dunn index (DI)` indicates better clustering"
   ]
  }
 ],
 "metadata": {
  "kernelspec": {
   "display_name": "Python 3 (ipykernel)",
   "language": "python",
   "name": "python3"
  },
  "language_info": {
   "codemirror_mode": {
    "name": "ipython",
    "version": 3
   },
   "file_extension": ".py",
   "mimetype": "text/x-python",
   "name": "python",
   "nbconvert_exporter": "python",
   "pygments_lexer": "ipython3",
   "version": "3.9.13"
  }
 },
 "nbformat": 4,
 "nbformat_minor": 5
}
