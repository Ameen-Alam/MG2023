{
 "cells": [
  {
   "cell_type": "markdown",
   "id": "0f7c3334",
   "metadata": {},
   "source": [
    "# <center style='color:blue'> `random` Module in Python</center>"
   ]
  },
  {
   "cell_type": "code",
   "execution_count": 1,
   "id": "622ea2dd",
   "metadata": {},
   "outputs": [],
   "source": [
    "# import random module\n",
    "\n",
    "import random"
   ]
  },
  {
   "cell_type": "code",
   "execution_count": 2,
   "id": "ef2dc239",
   "metadata": {},
   "outputs": [
    {
     "data": {
      "text/plain": [
       "0.538459290233826"
      ]
     },
     "execution_count": 2,
     "metadata": {},
     "output_type": "execute_result"
    }
   ],
   "source": [
    "random.random() # generates random floating-point number between 0 and 1"
   ]
  },
  {
   "cell_type": "code",
   "execution_count": 3,
   "id": "a721004f",
   "metadata": {},
   "outputs": [
    {
     "data": {
      "text/plain": [
       "0.048062793925636615"
      ]
     },
     "execution_count": 3,
     "metadata": {},
     "output_type": "execute_result"
    }
   ],
   "source": [
    "random.random()"
   ]
  },
  {
   "cell_type": "code",
   "execution_count": 4,
   "id": "430795be",
   "metadata": {},
   "outputs": [
    {
     "data": {
      "text/plain": [
       "0.8444218515250481"
      ]
     },
     "execution_count": 4,
     "metadata": {},
     "output_type": "execute_result"
    }
   ],
   "source": [
    "random.seed(0) # generates the same number\n",
    "random.random()"
   ]
  },
  {
   "cell_type": "code",
   "execution_count": 5,
   "id": "ba8de857",
   "metadata": {},
   "outputs": [
    {
     "data": {
      "text/plain": [
       "0.8444218515250481"
      ]
     },
     "execution_count": 5,
     "metadata": {},
     "output_type": "execute_result"
    }
   ],
   "source": [
    "random.seed(0)\n",
    "random.random()"
   ]
  },
  {
   "cell_type": "code",
   "execution_count": 6,
   "id": "665d645c",
   "metadata": {},
   "outputs": [
    {
     "data": {
      "text/plain": [
       "0.5714025946899135"
      ]
     },
     "execution_count": 6,
     "metadata": {},
     "output_type": "execute_result"
    }
   ],
   "source": [
    "random.seed(10) # generates the same number\n",
    "random.random()"
   ]
  },
  {
   "cell_type": "code",
   "execution_count": 7,
   "id": "1f371320",
   "metadata": {},
   "outputs": [
    {
     "data": {
      "text/plain": [
       "0.5714025946899135"
      ]
     },
     "execution_count": 7,
     "metadata": {},
     "output_type": "execute_result"
    }
   ],
   "source": [
    "random.seed(10)\n",
    "random.random()"
   ]
  },
  {
   "cell_type": "code",
   "execution_count": 8,
   "id": "018f1157",
   "metadata": {},
   "outputs": [
    {
     "data": {
      "text/plain": [
       "0.4288890546751146"
      ]
     },
     "execution_count": 8,
     "metadata": {},
     "output_type": "execute_result"
    }
   ],
   "source": [
    "state = random.getstate() # returns the current initial state\n",
    "random.random()"
   ]
  },
  {
   "cell_type": "code",
   "execution_count": 9,
   "id": "e55c7b7b",
   "metadata": {},
   "outputs": [
    {
     "data": {
      "text/plain": [
       "0.4288890546751146"
      ]
     },
     "execution_count": 9,
     "metadata": {},
     "output_type": "execute_result"
    }
   ],
   "source": [
    "random.setstate(state) # restores the initial state\n",
    "random.random()"
   ]
  },
  {
   "cell_type": "code",
   "execution_count": 10,
   "id": "f8d4c34a",
   "metadata": {},
   "outputs": [
    {
     "name": "stdout",
     "output_type": "stream",
     "text": [
      "9\n",
      "5\n",
      "4\n"
     ]
    }
   ],
   "source": [
    "# return a randomly selected element from a specified range\n",
    "\n",
    "print(random.randrange(10))\n",
    "print(random.randrange(5, 10))\n",
    "print(random.randrange(2, 10, 2))"
   ]
  },
  {
   "cell_type": "code",
   "execution_count": 11,
   "id": "fc392c28",
   "metadata": {},
   "outputs": [
    {
     "data": {
      "text/plain": [
       "1"
      ]
     },
     "execution_count": 11,
     "metadata": {},
     "output_type": "execute_result"
    }
   ],
   "source": [
    "random.getrandbits(2) # returns a number with random bits"
   ]
  },
  {
   "cell_type": "code",
   "execution_count": 12,
   "id": "ab068c5b",
   "metadata": {},
   "outputs": [
    {
     "data": {
      "text/plain": [
       "[4, 3, 5]"
      ]
     },
     "execution_count": 12,
     "metadata": {},
     "output_type": "execute_result"
    }
   ],
   "source": [
    "# return particular items from chosen sequence\n",
    "\n",
    "random.sample([1, 2, 3, 4, 5], k=3)"
   ]
  },
  {
   "cell_type": "code",
   "execution_count": 13,
   "id": "e4eea33a",
   "metadata": {},
   "outputs": [
    {
     "data": {
      "text/plain": [
       "[4, 5, 3, 1, 2]"
      ]
     },
     "execution_count": 13,
     "metadata": {},
     "output_type": "execute_result"
    }
   ],
   "source": [
    "# reorganize the order of the items\n",
    "\n",
    "L = [1, 2, 3, 4, 5]\n",
    "random.shuffle(L)\n",
    "L"
   ]
  },
  {
   "cell_type": "code",
   "execution_count": 14,
   "id": "ddb47fb5",
   "metadata": {},
   "outputs": [
    {
     "data": {
      "text/plain": [
       "3"
      ]
     },
     "execution_count": 14,
     "metadata": {},
     "output_type": "execute_result"
    }
   ],
   "source": [
    "# return a random element from a sequence\n",
    "\n",
    "random.choice(L)"
   ]
  },
  {
   "cell_type": "code",
   "execution_count": 15,
   "id": "1b2cee90",
   "metadata": {},
   "outputs": [
    {
     "data": {
      "text/plain": [
       "[4, 2, 1, 5, 3, 4, 5, 3, 2, 5]"
      ]
     },
     "execution_count": 15,
     "metadata": {},
     "output_type": "execute_result"
    }
   ],
   "source": [
    "# return multiple random elements from a sequence\n",
    "\n",
    "random.choices(L, k=10)"
   ]
  },
  {
   "cell_type": "code",
   "execution_count": 16,
   "id": "5ee8aece",
   "metadata": {},
   "outputs": [
    {
     "data": {
      "text/plain": [
       "11.746705896099023"
      ]
     },
     "execution_count": 16,
     "metadata": {},
     "output_type": "execute_result"
    }
   ],
   "source": [
    "# return a random floating-point number between two specified values\n",
    "\n",
    "random.uniform(10, 20)"
   ]
  },
  {
   "cell_type": "code",
   "execution_count": 17,
   "id": "1f017ce8",
   "metadata": {},
   "outputs": [
    {
     "data": {
      "text/plain": [
       "29.16467559382285"
      ]
     },
     "execution_count": 17,
     "metadata": {},
     "output_type": "execute_result"
    }
   ],
   "source": [
    "# return a random floating-point number within a range with a bias towards one\n",
    "\n",
    "random.triangular(10, 100, 20)"
   ]
  },
  {
   "cell_type": "code",
   "execution_count": 18,
   "id": "e5723ca2",
   "metadata": {},
   "outputs": [
    {
     "data": {
      "text/plain": [
       "6"
      ]
     },
     "execution_count": 18,
     "metadata": {},
     "output_type": "execute_result"
    }
   ],
   "source": [
    "# return a random integer within a range\n",
    "\n",
    "random.randint(1, 10)"
   ]
  },
  {
   "cell_type": "code",
   "execution_count": 19,
   "id": "376ad723",
   "metadata": {},
   "outputs": [
    {
     "data": {
      "text/plain": [
       "0.3984524492088765"
      ]
     },
     "execution_count": 19,
     "metadata": {},
     "output_type": "execute_result"
    }
   ],
   "source": [
    "# return a random floating-point number with beta distribution between 0 and 1\n",
    "\n",
    "random.betavariate(5, 1)"
   ]
  },
  {
   "cell_type": "code",
   "execution_count": 20,
   "id": "d94dc833",
   "metadata": {},
   "outputs": [
    {
     "data": {
      "text/plain": [
       "1.7431842149920627"
      ]
     },
     "execution_count": 20,
     "metadata": {},
     "output_type": "execute_result"
    }
   ],
   "source": [
    "# return a random floating-point number with exponential distribution\n",
    "\n",
    "random.expovariate(2)"
   ]
  },
  {
   "cell_type": "code",
   "execution_count": 21,
   "id": "3e95ffd8",
   "metadata": {},
   "outputs": [
    {
     "data": {
      "text/plain": [
       "10.441452211458323"
      ]
     },
     "execution_count": 21,
     "metadata": {},
     "output_type": "execute_result"
    }
   ],
   "source": [
    "# return a random floating-point number with gamma distribution\n",
    "\n",
    "random.gammavariate(2, 4)"
   ]
  },
  {
   "cell_type": "code",
   "execution_count": 22,
   "id": "532925cf",
   "metadata": {},
   "outputs": [
    {
     "data": {
      "text/plain": [
       "0.5361814775711928"
      ]
     },
     "execution_count": 22,
     "metadata": {},
     "output_type": "execute_result"
    }
   ],
   "source": [
    "# return a random floating-point number with gauss distribution\n",
    "\n",
    "random.gauss(0, 1)"
   ]
  },
  {
   "cell_type": "code",
   "execution_count": 23,
   "id": "98f7f0ab",
   "metadata": {},
   "outputs": [
    {
     "data": {
      "text/plain": [
       "1.0852228434815978"
      ]
     },
     "execution_count": 23,
     "metadata": {},
     "output_type": "execute_result"
    }
   ],
   "source": [
    "# return a random floating-point number with normal distribution\n",
    "\n",
    "random.normalvariate(0, 1)"
   ]
  },
  {
   "cell_type": "code",
   "execution_count": 24,
   "id": "2a2a10f8",
   "metadata": {},
   "outputs": [
    {
     "data": {
      "text/plain": [
       "0.10480818135948743"
      ]
     },
     "execution_count": 24,
     "metadata": {},
     "output_type": "execute_result"
    }
   ],
   "source": [
    "# return a random floating-point number with log-normal distribution\n",
    "\n",
    "random.lognormvariate(0, 1)"
   ]
  },
  {
   "cell_type": "code",
   "execution_count": 25,
   "id": "f2dd342d",
   "metadata": {},
   "outputs": [
    {
     "data": {
      "text/plain": [
       "5.77157703817561"
      ]
     },
     "execution_count": 25,
     "metadata": {},
     "output_type": "execute_result"
    }
   ],
   "source": [
    "# return a random floating-point number with von mises distribution or circular normal distribution\n",
    "\n",
    "random.vonmisesvariate(0, 1)"
   ]
  },
  {
   "cell_type": "code",
   "execution_count": 26,
   "id": "3f9d827a",
   "metadata": {},
   "outputs": [
    {
     "data": {
      "text/plain": [
       "1.0341721591996151"
      ]
     },
     "execution_count": 26,
     "metadata": {},
     "output_type": "execute_result"
    }
   ],
   "source": [
    "# return a random floating-point number with pareto distribution\n",
    "\n",
    "random.paretovariate(2)"
   ]
  },
  {
   "cell_type": "code",
   "execution_count": 27,
   "id": "a63ed6c8",
   "metadata": {},
   "outputs": [
    {
     "data": {
      "text/plain": [
       "0.937221384769524"
      ]
     },
     "execution_count": 27,
     "metadata": {},
     "output_type": "execute_result"
    }
   ],
   "source": [
    "# return a random floating-point number with weibull distribution\n",
    "\n",
    "random.weibullvariate(1, 2)"
   ]
  }
 ],
 "metadata": {
  "kernelspec": {
   "display_name": "Python 3 (ipykernel)",
   "language": "python",
   "name": "python3"
  },
  "language_info": {
   "codemirror_mode": {
    "name": "ipython",
    "version": 3
   },
   "file_extension": ".py",
   "mimetype": "text/x-python",
   "name": "python",
   "nbconvert_exporter": "python",
   "pygments_lexer": "ipython3",
   "version": "3.9.13"
  }
 },
 "nbformat": 4,
 "nbformat_minor": 5
}
