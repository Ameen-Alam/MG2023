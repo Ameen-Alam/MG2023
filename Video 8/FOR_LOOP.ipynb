{
 "cells": [
  {
   "cell_type": "markdown",
   "id": "997300f2",
   "metadata": {},
   "source": [
    "# <center style='color:orchid'> Different uses of `for` loop in Python programming language </center>"
   ]
  },
  {
   "cell_type": "markdown",
   "id": "ca10bc25",
   "metadata": {},
   "source": [
    "## 1. Iterate through a `string`"
   ]
  },
  {
   "cell_type": "code",
   "execution_count": 1,
   "id": "f0677fc8",
   "metadata": {},
   "outputs": [
    {
     "name": "stdout",
     "output_type": "stream",
     "text": [
      "t\n",
      "o\n",
      "k\n",
      "y\n",
      "o\n"
     ]
    }
   ],
   "source": [
    "city = 'tokyo'\n",
    "\n",
    "for letter in city:\n",
    "    print(letter) # print vertically"
   ]
  },
  {
   "cell_type": "code",
   "execution_count": 2,
   "id": "0bb4982e",
   "metadata": {},
   "outputs": [
    {
     "name": "stdout",
     "output_type": "stream",
     "text": [
      "t o k y o "
     ]
    }
   ],
   "source": [
    "for letter in city:\n",
    "    print(letter, end=' ') # print horizontally"
   ]
  },
  {
   "cell_type": "code",
   "execution_count": 3,
   "id": "7412d7f6",
   "metadata": {},
   "outputs": [
    {
     "name": "stdout",
     "output_type": "stream",
     "text": [
      "o\n",
      "y\n",
      "k\n",
      "o\n",
      "t\n"
     ]
    }
   ],
   "source": [
    "for letter in city[::-1]:\n",
    "    print(letter) # print backwards vertically"
   ]
  },
  {
   "cell_type": "code",
   "execution_count": 4,
   "id": "b5959fc9",
   "metadata": {},
   "outputs": [
    {
     "name": "stdout",
     "output_type": "stream",
     "text": [
      "o y k o t "
     ]
    }
   ],
   "source": [
    "for letter in city[::-1]:\n",
    "    print(letter, end=' ') # print backwards horizontally"
   ]
  },
  {
   "cell_type": "code",
   "execution_count": 5,
   "id": "fff7580f",
   "metadata": {},
   "outputs": [
    {
     "name": "stdout",
     "output_type": "stream",
     "text": [
      "t\n",
      "k\n",
      "o\n"
     ]
    }
   ],
   "source": [
    "for letter in city[::2]:\n",
    "    print(letter) # skip a letter and print vertically"
   ]
  },
  {
   "cell_type": "code",
   "execution_count": 6,
   "id": "fa0c7eb3",
   "metadata": {},
   "outputs": [
    {
     "name": "stdout",
     "output_type": "stream",
     "text": [
      "t k o "
     ]
    }
   ],
   "source": [
    "for letter in city[::2]:\n",
    "    print(letter, end=' ') # skip a letter and print horizontally"
   ]
  },
  {
   "cell_type": "code",
   "execution_count": 7,
   "id": "df61a7e8",
   "metadata": {},
   "outputs": [
    {
     "name": "stdout",
     "output_type": "stream",
     "text": [
      "o\n",
      "k\n",
      "t\n"
     ]
    }
   ],
   "source": [
    "for letter in reversed(city[::2]):\n",
    "    print(letter) # skip a letter and print backwards vertically"
   ]
  },
  {
   "cell_type": "code",
   "execution_count": 8,
   "id": "c0f9da3c",
   "metadata": {},
   "outputs": [
    {
     "name": "stdout",
     "output_type": "stream",
     "text": [
      "o k t "
     ]
    }
   ],
   "source": [
    "for letter in reversed(city[::2]):\n",
    "    print(letter, end=' ') # skip a letter and print backwards horizontally"
   ]
  },
  {
   "cell_type": "code",
   "execution_count": 9,
   "id": "78f23b46",
   "metadata": {},
   "outputs": [
    {
     "name": "stdout",
     "output_type": "stream",
     "text": [
      "0 | t\n",
      "1 | o\n",
      "2 | k\n",
      "3 | y\n",
      "4 | o\n"
     ]
    }
   ],
   "source": [
    "for index, letter in enumerate(city):\n",
    "    print(index, '|', letter) # print both index and letters"
   ]
  },
  {
   "cell_type": "markdown",
   "id": "ce8fd9e5",
   "metadata": {},
   "source": [
    "## 2. Iterate through a `list`"
   ]
  },
  {
   "cell_type": "code",
   "execution_count": 10,
   "id": "c00bfd76",
   "metadata": {},
   "outputs": [
    {
     "name": "stdout",
     "output_type": "stream",
     "text": [
      "5\n",
      "osaka\n",
      "0.1\n",
      "8j\n",
      "(2+3j)\n",
      "sakura\n"
     ]
    }
   ],
   "source": [
    "gather = [5, 'osaka', 0.1, 8j, 2 + 3j, 'sakura']\n",
    "\n",
    "for item in gather:\n",
    "    print(item) # print vertically"
   ]
  },
  {
   "cell_type": "code",
   "execution_count": 11,
   "id": "d29bfe65",
   "metadata": {},
   "outputs": [
    {
     "name": "stdout",
     "output_type": "stream",
     "text": [
      "5 osaka 0.1 8j (2+3j) sakura "
     ]
    }
   ],
   "source": [
    "for item in gather:\n",
    "    print(item, end=' ') # print horizontally"
   ]
  },
  {
   "cell_type": "code",
   "execution_count": 12,
   "id": "7886dfe6",
   "metadata": {},
   "outputs": [
    {
     "name": "stdout",
     "output_type": "stream",
     "text": [
      "5 \t <class 'int'>\n",
      "osaka \t <class 'str'>\n",
      "0.1 \t <class 'float'>\n",
      "8j \t <class 'complex'>\n",
      "(2+3j) \t <class 'complex'>\n",
      "sakura \t <class 'str'>\n"
     ]
    }
   ],
   "source": [
    "for item in gather:\n",
    "    print(item, '\\t', type(item)) # print items and their data types"
   ]
  },
  {
   "cell_type": "code",
   "execution_count": 13,
   "id": "17aeef01",
   "metadata": {},
   "outputs": [
    {
     "name": "stdout",
     "output_type": "stream",
     "text": [
      "0 | 5\n",
      "1 | osaka\n",
      "2 | 0.1\n",
      "3 | 8j\n",
      "4 | (2+3j)\n",
      "5 | sakura\n"
     ]
    }
   ],
   "source": [
    "for index, item in enumerate(gather):\n",
    "    print(index, '|', item) # print both index and items"
   ]
  },
  {
   "cell_type": "code",
   "execution_count": 14,
   "id": "150c90fc",
   "metadata": {},
   "outputs": [
    {
     "name": "stdout",
     "output_type": "stream",
     "text": [
      "5\n",
      "osaka\n",
      "0.1\n",
      "8j\n",
      "(2+3j)\n",
      "sakura\n"
     ]
    }
   ],
   "source": [
    "collect = [print(item) for item in gather] # print items using list comprehension"
   ]
  },
  {
   "cell_type": "code",
   "execution_count": 15,
   "id": "0eb9592c",
   "metadata": {},
   "outputs": [
    {
     "name": "stdout",
     "output_type": "stream",
     "text": [
      "0 | 5\n",
      "1 | osaka\n",
      "2 | 0.1\n",
      "3 | 8j\n",
      "4 | (2+3j)\n",
      "5 | sakura\n"
     ]
    }
   ],
   "source": [
    "# print index and items using list comprehension\n",
    "\n",
    "collect = [print(index, '|', item) for index, item in enumerate(gather)]"
   ]
  },
  {
   "cell_type": "markdown",
   "id": "69b27822",
   "metadata": {},
   "source": [
    "## 3. Iterate through a `tuple`"
   ]
  },
  {
   "cell_type": "code",
   "execution_count": 16,
   "id": "4df87291",
   "metadata": {},
   "outputs": [
    {
     "name": "stdout",
     "output_type": "stream",
     "text": [
      "4\n",
      "2.1\n",
      "kyoto\n",
      "2j\n",
      "(3+5j)\n",
      "katana\n"
     ]
    }
   ],
   "source": [
    "save = (4, 2.1, 'kyoto', 2j, 3 + 5j, 'katana')\n",
    "\n",
    "for item in save:\n",
    "    print(item) # print vertically"
   ]
  },
  {
   "cell_type": "code",
   "execution_count": 17,
   "id": "4531224a",
   "metadata": {},
   "outputs": [
    {
     "name": "stdout",
     "output_type": "stream",
     "text": [
      "4 \t <class 'int'>\n",
      "2.1 \t <class 'float'>\n",
      "kyoto \t <class 'str'>\n",
      "2j \t <class 'complex'>\n",
      "(3+5j) \t <class 'complex'>\n",
      "katana \t <class 'str'>\n"
     ]
    }
   ],
   "source": [
    "for item in save:\n",
    "    print(item, '\\t', type(item)) # print items and their data types"
   ]
  },
  {
   "cell_type": "code",
   "execution_count": 18,
   "id": "d6c14b67",
   "metadata": {},
   "outputs": [
    {
     "name": "stdout",
     "output_type": "stream",
     "text": [
      "0 | 4\n",
      "1 | 2.1\n",
      "2 | kyoto\n",
      "3 | 2j\n",
      "4 | (3+5j)\n",
      "5 | katana\n"
     ]
    }
   ],
   "source": [
    "for index, item in enumerate(save):\n",
    "    print(index, '|', item) # print both index and items"
   ]
  },
  {
   "cell_type": "code",
   "execution_count": 19,
   "id": "cb511310",
   "metadata": {},
   "outputs": [
    {
     "name": "stdout",
     "output_type": "stream",
     "text": [
      "4\n",
      "2.1\n",
      "kyoto\n",
      "2j\n",
      "(3+5j)\n",
      "katana\n"
     ]
    }
   ],
   "source": [
    "fetch = [print(item) for item in save] # print items using list comprehension"
   ]
  },
  {
   "cell_type": "code",
   "execution_count": 20,
   "id": "db908307",
   "metadata": {},
   "outputs": [
    {
     "name": "stdout",
     "output_type": "stream",
     "text": [
      "0 | 4\n",
      "1 | 2.1\n",
      "2 | kyoto\n",
      "3 | 2j\n",
      "4 | (3+5j)\n",
      "5 | katana\n"
     ]
    }
   ],
   "source": [
    "# print index and items using list comprehension\n",
    "\n",
    "fetch = [print(index, '|', item) for index, item in enumerate(save)]"
   ]
  },
  {
   "cell_type": "markdown",
   "id": "c322a957",
   "metadata": {},
   "source": [
    "## 4. Iterate through a `dictionary`"
   ]
  },
  {
   "cell_type": "code",
   "execution_count": 21,
   "id": "55eb8fd7",
   "metadata": {},
   "outputs": [
    {
     "name": "stdout",
     "output_type": "stream",
     "text": [
      "a\n",
      "b\n",
      "c\n",
      "d\n",
      "e\n"
     ]
    }
   ],
   "source": [
    "note = {'a': 'MARVEL', 'b': 'DC', 'c': 'UNIVERSAL', 'd': 'DISNEY', 'e': 'NETFLIX'}\n",
    "\n",
    "for key in note.keys():\n",
    "    print(key) # print vertically"
   ]
  },
  {
   "cell_type": "code",
   "execution_count": 22,
   "id": "c7906225",
   "metadata": {},
   "outputs": [
    {
     "name": "stdout",
     "output_type": "stream",
     "text": [
      "MARVEL\n",
      "DC\n",
      "UNIVERSAL\n",
      "DISNEY\n",
      "NETFLIX\n"
     ]
    }
   ],
   "source": [
    "for value in note.values():\n",
    "    print(value) # print vertically"
   ]
  },
  {
   "cell_type": "code",
   "execution_count": 23,
   "id": "c751143f",
   "metadata": {},
   "outputs": [
    {
     "name": "stdout",
     "output_type": "stream",
     "text": [
      "a | MARVEL\n",
      "b | DC\n",
      "c | UNIVERSAL\n",
      "d | DISNEY\n",
      "e | NETFLIX\n"
     ]
    }
   ],
   "source": [
    "for key, value in note.items():\n",
    "    print(key, '|', value)"
   ]
  },
  {
   "cell_type": "code",
   "execution_count": 24,
   "id": "557f7594",
   "metadata": {},
   "outputs": [
    {
     "name": "stdout",
     "output_type": "stream",
     "text": [
      "<class 'str'>\n",
      "<class 'str'>\n",
      "<class 'str'>\n",
      "<class 'str'>\n",
      "<class 'str'>\n"
     ]
    }
   ],
   "source": [
    "for value in note.values():\n",
    "    print(type(value)) # print the value data types in dictionary"
   ]
  },
  {
   "cell_type": "code",
   "execution_count": 25,
   "id": "889077bc",
   "metadata": {},
   "outputs": [
    {
     "name": "stdout",
     "output_type": "stream",
     "text": [
      "('a', 'MARVEL')\n",
      "('b', 'DC')\n",
      "('c', 'UNIVERSAL')\n",
      "('d', 'DISNEY')\n",
      "('e', 'NETFLIX')\n"
     ]
    }
   ],
   "source": [
    "get = [print(items) for items in note.items()] # print dictionary items using list comprehension"
   ]
  },
  {
   "cell_type": "code",
   "execution_count": 26,
   "id": "e947d4b9",
   "metadata": {},
   "outputs": [
    {
     "name": "stdout",
     "output_type": "stream",
     "text": [
      "0 | ('a', 'MARVEL')\n",
      "1 | ('b', 'DC')\n",
      "2 | ('c', 'UNIVERSAL')\n",
      "3 | ('d', 'DISNEY')\n",
      "4 | ('e', 'NETFLIX')\n"
     ]
    }
   ],
   "source": [
    "# print index and items using list comprehension\n",
    "\n",
    "get = [print(index, '|', items) for index, items in enumerate(note.items())]"
   ]
  },
  {
   "cell_type": "markdown",
   "id": "d1b266f4",
   "metadata": {},
   "source": [
    "## 5. Iterate through a `set`"
   ]
  },
  {
   "cell_type": "code",
   "execution_count": 27,
   "id": "83b23a51",
   "metadata": {},
   "outputs": [
    {
     "data": {
      "text/plain": [
       "set"
      ]
     },
     "execution_count": 27,
     "metadata": {},
     "output_type": "execute_result"
    }
   ],
   "source": [
    "flowers = {'rose', 'lily', 'orchid', 'tulip', 'daisy'}\n",
    "\n",
    "type(flowers) # type of the variable"
   ]
  },
  {
   "cell_type": "code",
   "execution_count": 28,
   "id": "3395c98b",
   "metadata": {},
   "outputs": [
    {
     "name": "stdout",
     "output_type": "stream",
     "text": [
      "tulip\n",
      "orchid\n",
      "rose\n",
      "lily\n",
      "daisy\n"
     ]
    }
   ],
   "source": [
    "for item in flowers:\n",
    "    print(item) # print vertically"
   ]
  },
  {
   "cell_type": "markdown",
   "id": "e0e76ecb",
   "metadata": {},
   "source": [
    "#### serials of the items within a `set` are not maintained while printing "
   ]
  },
  {
   "cell_type": "code",
   "execution_count": 29,
   "id": "cc74077e",
   "metadata": {},
   "outputs": [
    {
     "name": "stdout",
     "output_type": "stream",
     "text": [
      "tulip \t <class 'str'>\n",
      "orchid \t <class 'str'>\n",
      "rose \t <class 'str'>\n",
      "lily \t <class 'str'>\n",
      "daisy \t <class 'str'>\n"
     ]
    }
   ],
   "source": [
    "for item in flowers:\n",
    "    print(item, '\\t', type(item)) # print items and their data types"
   ]
  },
  {
   "cell_type": "code",
   "execution_count": 30,
   "id": "b1f6515a",
   "metadata": {},
   "outputs": [
    {
     "name": "stdout",
     "output_type": "stream",
     "text": [
      "tulip\n",
      "orchid\n",
      "rose\n",
      "lily\n",
      "daisy\n"
     ]
    }
   ],
   "source": [
    "# print items using list comprehension\n",
    "\n",
    "recover = [print(item) for item in flowers]"
   ]
  },
  {
   "cell_type": "code",
   "execution_count": 31,
   "id": "ce0dd5d9",
   "metadata": {},
   "outputs": [
    {
     "name": "stdout",
     "output_type": "stream",
     "text": [
      "0 | tulip\n",
      "1 | orchid\n",
      "2 | rose\n",
      "3 | lily\n",
      "4 | daisy\n"
     ]
    }
   ],
   "source": [
    "# print index and items using list comprehension\n",
    "\n",
    "recover = [print(index, '|', item) for index, item in enumerate(flowers)]"
   ]
  },
  {
   "cell_type": "markdown",
   "id": "5bf3a413",
   "metadata": {},
   "source": [
    "## 6. `for` loop and `range` function "
   ]
  },
  {
   "cell_type": "code",
   "execution_count": 32,
   "id": "3bfdf4bf",
   "metadata": {},
   "outputs": [
    {
     "name": "stdout",
     "output_type": "stream",
     "text": [
      "0\n",
      "1\n",
      "2\n",
      "3\n",
      "4\n",
      "5\n",
      "6\n",
      "7\n",
      "8\n",
      "9\n"
     ]
    }
   ],
   "source": [
    "for digit in range(10):\n",
    "    print(digit) # print vertically"
   ]
  },
  {
   "cell_type": "code",
   "execution_count": 33,
   "id": "841090aa",
   "metadata": {},
   "outputs": [
    {
     "name": "stdout",
     "output_type": "stream",
     "text": [
      "0 1 2 3 4 5 6 7 8 9 "
     ]
    }
   ],
   "source": [
    "for digit in range(10):\n",
    "    print(digit, end=' ') # print horizontally"
   ]
  },
  {
   "cell_type": "code",
   "execution_count": 34,
   "id": "fd55d82e",
   "metadata": {},
   "outputs": [
    {
     "name": "stdout",
     "output_type": "stream",
     "text": [
      "0\n",
      "2\n",
      "4\n",
      "6\n",
      "8\n"
     ]
    }
   ],
   "source": [
    "for digit in range(0, 10, 2):\n",
    "    print(digit) # skip by one digit and print vertically"
   ]
  },
  {
   "cell_type": "code",
   "execution_count": 35,
   "id": "014edb52",
   "metadata": {},
   "outputs": [
    {
     "name": "stdout",
     "output_type": "stream",
     "text": [
      "3 4 5 6 7 8 9 10 11 12 13 14 15 16 17 18 19 "
     ]
    }
   ],
   "source": [
    "for digit in range(3, 20):\n",
    "    print(digit, end=' ') # print digits within a certain range horizontally"
   ]
  },
  {
   "cell_type": "code",
   "execution_count": 36,
   "id": "9bcb6e17",
   "metadata": {},
   "outputs": [
    {
     "name": "stdout",
     "output_type": "stream",
     "text": [
      "9 8 7 6 5 4 3 2 1 0 "
     ]
    }
   ],
   "source": [
    "for digit in range(9, -1, -1):\n",
    "    print(digit, end=' ') # print digits backwards horizontally"
   ]
  },
  {
   "cell_type": "code",
   "execution_count": 37,
   "id": "2ee5ee4e",
   "metadata": {},
   "outputs": [
    {
     "name": "stdout",
     "output_type": "stream",
     "text": [
      "0 1 2 3 4 5 6 7 8 9 "
     ]
    }
   ],
   "source": [
    "digits = [0, 1, 2, 3, 4, 5, 6, 7, 8, 9]\n",
    "\n",
    "for digit in range(len(digits)):\n",
    "    print(digit, end=' ') # iterate through a list using range function    "
   ]
  },
  {
   "cell_type": "markdown",
   "id": "146d8cd0",
   "metadata": {},
   "source": [
    "## 7. `break` and `continue` statements within `for` loop"
   ]
  },
  {
   "cell_type": "code",
   "execution_count": 38,
   "id": "8775f187",
   "metadata": {},
   "outputs": [
    {
     "name": "stdout",
     "output_type": "stream",
     "text": [
      "tiger\n",
      "lion\n",
      "jaguar\n",
      "cougar\n",
      "leopard\n"
     ]
    }
   ],
   "source": [
    "animals = ['tiger', 'lion', 'jaguar', 'cougar', 'leopard']\n",
    "\n",
    "for animal in animals:\n",
    "    print(animal) # print vertically"
   ]
  },
  {
   "cell_type": "code",
   "execution_count": 39,
   "id": "3c9d4788",
   "metadata": {},
   "outputs": [
    {
     "name": "stdout",
     "output_type": "stream",
     "text": [
      "tiger\n",
      "lion\n",
      "jaguar\n",
      "leopard\n"
     ]
    }
   ],
   "source": [
    "for animal in animals:\n",
    "    if animal == 'cougar': continue\n",
    "    print(animal) # will not print 'cougar'"
   ]
  },
  {
   "cell_type": "code",
   "execution_count": 40,
   "id": "d301210b",
   "metadata": {},
   "outputs": [
    {
     "name": "stdout",
     "output_type": "stream",
     "text": [
      "tiger\n",
      "lion\n",
      "jaguar\n"
     ]
    }
   ],
   "source": [
    "for animal in animals:\n",
    "    if animal == 'cougar': break\n",
    "    print(animal) # loop is terminated after 'jaguar'"
   ]
  },
  {
   "cell_type": "markdown",
   "id": "1cd8b99d",
   "metadata": {},
   "source": [
    "## 8. `if-else` statements within `for` loop"
   ]
  },
  {
   "cell_type": "code",
   "execution_count": 41,
   "id": "6dd8028b",
   "metadata": {},
   "outputs": [
    {
     "name": "stdout",
     "output_type": "stream",
     "text": [
      "0 is EVEN\n",
      "1 is ODD\n",
      "2 is EVEN\n",
      "3 is ODD\n",
      "4 is EVEN\n",
      "5 is ODD\n",
      "6 is EVEN\n",
      "7 is ODD\n",
      "8 is EVEN\n",
      "9 is ODD\n"
     ]
    }
   ],
   "source": [
    "for i in range(10):\n",
    "    if i % 2 == 0:\n",
    "        print(i, 'is EVEN')\n",
    "    else: print(i, 'is ODD')"
   ]
  },
  {
   "cell_type": "markdown",
   "id": "c8b122b5",
   "metadata": {},
   "source": [
    "## 9. `else` statement with `for` loop"
   ]
  },
  {
   "cell_type": "code",
   "execution_count": 42,
   "id": "422d3331",
   "metadata": {},
   "outputs": [
    {
     "name": "stdout",
     "output_type": "stream",
     "text": [
      "0\n",
      "1\n",
      "2\n",
      "3\n",
      "4\n",
      "DONE!\n"
     ]
    }
   ],
   "source": [
    "for i in range(5):\n",
    "    print(i)\n",
    "else: print('DONE!') # 'else' statement is executed after loop is terminated"
   ]
  },
  {
   "cell_type": "markdown",
   "id": "bc2af3d5",
   "metadata": {},
   "source": [
    "## 10. Nested `for` loops"
   ]
  },
  {
   "cell_type": "code",
   "execution_count": 43,
   "id": "cdb39504",
   "metadata": {},
   "outputs": [
    {
     "name": "stdout",
     "output_type": "stream",
     "text": [
      "('a', 'a')\n",
      "('a', 'b')\n",
      "('a', 'c')\n",
      "('b', 'a')\n",
      "('b', 'b')\n",
      "('b', 'c')\n",
      "('c', 'a')\n",
      "('c', 'b')\n",
      "('c', 'c')\n"
     ]
    }
   ],
   "source": [
    "for i in ['a', 'b', 'c']:\n",
    "    for j in ['a', 'b', 'c']:\n",
    "        print((i, j))"
   ]
  },
  {
   "cell_type": "markdown",
   "id": "ca317212",
   "metadata": {},
   "source": [
    "## 11. `for` loop and `zip` function"
   ]
  },
  {
   "cell_type": "code",
   "execution_count": 44,
   "id": "f3c818d5",
   "metadata": {},
   "outputs": [
    {
     "name": "stdout",
     "output_type": "stream",
     "text": [
      "PHYSICS is being taught in section A at room number 101\n",
      "CHEMISTRY is being taught in section B at room number 102\n",
      "BIOLOGY is being taught in section C at room number 103\n"
     ]
    }
   ],
   "source": [
    "subjects = ['PHYSICS', 'CHEMISTRY', 'BIOLOGY']\n",
    "section = ['A', 'B', 'C']\n",
    "classroom = [101, 102, 103]\n",
    "\n",
    "for a, b, c in zip(subjects, section, classroom):\n",
    "    print(a, 'is being taught in section', b, 'at room number', c)"
   ]
  }
 ],
 "metadata": {
  "kernelspec": {
   "display_name": "Python 3",
   "language": "python",
   "name": "python3"
  },
  "language_info": {
   "codemirror_mode": {
    "name": "ipython",
    "version": 3
   },
   "file_extension": ".py",
   "mimetype": "text/x-python",
   "name": "python",
   "nbconvert_exporter": "python",
   "pygments_lexer": "ipython3",
   "version": "3.8.13"
  }
 },
 "nbformat": 4,
 "nbformat_minor": 5
}
