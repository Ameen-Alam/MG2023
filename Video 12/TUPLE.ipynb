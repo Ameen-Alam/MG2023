{
 "cells": [
  {
   "cell_type": "markdown",
   "id": "c2d2b6e3",
   "metadata": {},
   "source": [
    "# <center style='color:indianred'> `Tuples` in Python </center>"
   ]
  },
  {
   "cell_type": "markdown",
   "id": "03894ae1",
   "metadata": {},
   "source": [
    "## 1. Create a `tuple`"
   ]
  },
  {
   "cell_type": "code",
   "execution_count": 1,
   "id": "e39884ed",
   "metadata": {},
   "outputs": [
    {
     "data": {
      "text/plain": [
       "('orange', 21, 7.8, 78j, False, 'whale')"
      ]
     },
     "execution_count": 1,
     "metadata": {},
     "output_type": "execute_result"
    }
   ],
   "source": [
    "tuple_1 = ('orange', 21, 7.8, 78j, False, 'whale')\n",
    "tuple_1"
   ]
  },
  {
   "cell_type": "code",
   "execution_count": 2,
   "id": "24086fa3",
   "metadata": {},
   "outputs": [
    {
     "data": {
      "text/plain": [
       "tuple"
      ]
     },
     "execution_count": 2,
     "metadata": {},
     "output_type": "execute_result"
    }
   ],
   "source": [
    "type(tuple_1)"
   ]
  },
  {
   "cell_type": "markdown",
   "id": "b421f01d",
   "metadata": {},
   "source": [
    "## 2. Check the length of the `tuple`"
   ]
  },
  {
   "cell_type": "code",
   "execution_count": 3,
   "id": "8461c51f",
   "metadata": {},
   "outputs": [
    {
     "data": {
      "text/plain": [
       "6"
      ]
     },
     "execution_count": 3,
     "metadata": {},
     "output_type": "execute_result"
    }
   ],
   "source": [
    "len(tuple_1)"
   ]
  },
  {
   "cell_type": "markdown",
   "id": "18a38eb9",
   "metadata": {},
   "source": [
    "## 3. Iterate through the `tuple` using `for` loop "
   ]
  },
  {
   "cell_type": "code",
   "execution_count": 4,
   "id": "8ec74b1a",
   "metadata": {},
   "outputs": [
    {
     "name": "stdout",
     "output_type": "stream",
     "text": [
      "orange \t <class 'str'>\n",
      "21 \t <class 'int'>\n",
      "7.8 \t <class 'float'>\n",
      "78j \t <class 'complex'>\n",
      "False \t <class 'bool'>\n",
      "whale \t <class 'str'>\n"
     ]
    }
   ],
   "source": [
    "for item in tuple_1:\n",
    "    print(item, '\\t', type(item))"
   ]
  },
  {
   "cell_type": "markdown",
   "id": "0783cab9",
   "metadata": {},
   "source": [
    "## 4. Iterate through the `tuple` using `while` loop "
   ]
  },
  {
   "cell_type": "code",
   "execution_count": 5,
   "id": "88cc4288",
   "metadata": {},
   "outputs": [
    {
     "name": "stdout",
     "output_type": "stream",
     "text": [
      "orange\n",
      "21\n",
      "7.8\n",
      "78j\n",
      "False\n",
      "whale\n"
     ]
    }
   ],
   "source": [
    "n = 0\n",
    "\n",
    "while n < len(tuple_1):\n",
    "    print(tuple_1[n])\n",
    "    n += 1"
   ]
  },
  {
   "cell_type": "markdown",
   "id": "c7d8f806",
   "metadata": {},
   "source": [
    "## 5. Create a `tuple` using `tuple()` function"
   ]
  },
  {
   "cell_type": "code",
   "execution_count": 6,
   "id": "b1aa8725",
   "metadata": {},
   "outputs": [
    {
     "data": {
      "text/plain": [
       "['tiger', 'lion', 'jaguar', 'cougar', 'leopard']"
      ]
     },
     "execution_count": 6,
     "metadata": {},
     "output_type": "execute_result"
    }
   ],
   "source": [
    "animal = ['tiger', 'lion', 'jaguar', 'cougar', 'leopard']\n",
    "animal"
   ]
  },
  {
   "cell_type": "code",
   "execution_count": 7,
   "id": "1ff185ad",
   "metadata": {},
   "outputs": [
    {
     "data": {
      "text/plain": [
       "list"
      ]
     },
     "execution_count": 7,
     "metadata": {},
     "output_type": "execute_result"
    }
   ],
   "source": [
    "type(animal)"
   ]
  },
  {
   "cell_type": "code",
   "execution_count": 8,
   "id": "44872f26",
   "metadata": {},
   "outputs": [
    {
     "data": {
      "text/plain": [
       "('tiger', 'lion', 'jaguar', 'cougar', 'leopard')"
      ]
     },
     "execution_count": 8,
     "metadata": {},
     "output_type": "execute_result"
    }
   ],
   "source": [
    "list_to_tuple = tuple(animal)\n",
    "list_to_tuple"
   ]
  },
  {
   "cell_type": "code",
   "execution_count": 9,
   "id": "3a42f05c",
   "metadata": {},
   "outputs": [
    {
     "data": {
      "text/plain": [
       "tuple"
      ]
     },
     "execution_count": 9,
     "metadata": {},
     "output_type": "execute_result"
    }
   ],
   "source": [
    "type(list_to_tuple)"
   ]
  },
  {
   "cell_type": "markdown",
   "id": "e28bf028",
   "metadata": {},
   "source": [
    "## 6. Create an empty `tuple`"
   ]
  },
  {
   "cell_type": "code",
   "execution_count": 10,
   "id": "c8d93b96",
   "metadata": {},
   "outputs": [
    {
     "data": {
      "text/plain": [
       "()"
      ]
     },
     "execution_count": 10,
     "metadata": {},
     "output_type": "execute_result"
    }
   ],
   "source": [
    "empty_1 = ()\n",
    "empty_1"
   ]
  },
  {
   "cell_type": "code",
   "execution_count": 11,
   "id": "97f38e72",
   "metadata": {},
   "outputs": [
    {
     "data": {
      "text/plain": [
       "()"
      ]
     },
     "execution_count": 11,
     "metadata": {},
     "output_type": "execute_result"
    }
   ],
   "source": [
    "empty_2 = tuple()\n",
    "empty_2"
   ]
  },
  {
   "cell_type": "markdown",
   "id": "dbd89571",
   "metadata": {},
   "source": [
    "## 7. Create a one element `tuple`"
   ]
  },
  {
   "cell_type": "code",
   "execution_count": 12,
   "id": "8e2c3a97",
   "metadata": {},
   "outputs": [
    {
     "data": {
      "text/plain": [
       "('ship',)"
      ]
     },
     "execution_count": 12,
     "metadata": {},
     "output_type": "execute_result"
    }
   ],
   "source": [
    "one = ('ship',) # comma is a must\n",
    "one"
   ]
  },
  {
   "cell_type": "code",
   "execution_count": 13,
   "id": "1ff682c1",
   "metadata": {},
   "outputs": [
    {
     "data": {
      "text/plain": [
       "tuple"
      ]
     },
     "execution_count": 13,
     "metadata": {},
     "output_type": "execute_result"
    }
   ],
   "source": [
    "type(one)"
   ]
  },
  {
   "cell_type": "markdown",
   "id": "71f6188b",
   "metadata": {},
   "source": [
    "## 8. Access elements within a `tuple`"
   ]
  },
  {
   "cell_type": "code",
   "execution_count": 14,
   "id": "cfcaf554",
   "metadata": {},
   "outputs": [
    {
     "data": {
      "text/plain": [
       "('orange', 21, 7.8, 78j, False, 'whale')"
      ]
     },
     "execution_count": 14,
     "metadata": {},
     "output_type": "execute_result"
    }
   ],
   "source": [
    "tuple_1"
   ]
  },
  {
   "cell_type": "code",
   "execution_count": 15,
   "id": "164527c1",
   "metadata": {},
   "outputs": [
    {
     "data": {
      "text/plain": [
       "21"
      ]
     },
     "execution_count": 15,
     "metadata": {},
     "output_type": "execute_result"
    }
   ],
   "source": [
    "tuple_1[1] # positive indexing"
   ]
  },
  {
   "cell_type": "code",
   "execution_count": 16,
   "id": "941fa14c",
   "metadata": {},
   "outputs": [
    {
     "data": {
      "text/plain": [
       "False"
      ]
     },
     "execution_count": 16,
     "metadata": {},
     "output_type": "execute_result"
    }
   ],
   "source": [
    "tuple_1[-2] # nagative indexing"
   ]
  },
  {
   "cell_type": "code",
   "execution_count": 17,
   "id": "e927870a",
   "metadata": {},
   "outputs": [
    {
     "data": {
      "text/plain": [
       "(7.8, 78j, False, 'whale')"
      ]
     },
     "execution_count": 17,
     "metadata": {},
     "output_type": "execute_result"
    }
   ],
   "source": [
    "tuple_1[2:6] # slicing"
   ]
  },
  {
   "cell_type": "code",
   "execution_count": 18,
   "id": "df0f9e63",
   "metadata": {},
   "outputs": [
    {
     "data": {
      "text/plain": [
       "('orange', 21, 7.8)"
      ]
     },
     "execution_count": 18,
     "metadata": {},
     "output_type": "execute_result"
    }
   ],
   "source": [
    "tuple_1[:3]"
   ]
  },
  {
   "cell_type": "code",
   "execution_count": 19,
   "id": "64c6bce3",
   "metadata": {},
   "outputs": [
    {
     "data": {
      "text/plain": [
       "('orange', 21, 7.8)"
      ]
     },
     "execution_count": 19,
     "metadata": {},
     "output_type": "execute_result"
    }
   ],
   "source": [
    "tuple_1[:-3]"
   ]
  },
  {
   "cell_type": "code",
   "execution_count": 20,
   "id": "09f20025",
   "metadata": {},
   "outputs": [
    {
     "data": {
      "text/plain": [
       "('whale', False, 78j, 7.8, 21, 'orange')"
      ]
     },
     "execution_count": 20,
     "metadata": {},
     "output_type": "execute_result"
    }
   ],
   "source": [
    "tuple_1[::-1] # prints in reverse"
   ]
  },
  {
   "cell_type": "markdown",
   "id": "558235da",
   "metadata": {},
   "source": [
    "## 9. Add elements to a `tuple`"
   ]
  },
  {
   "cell_type": "code",
   "execution_count": 21,
   "id": "eaaf5f5e",
   "metadata": {},
   "outputs": [
    {
     "data": {
      "text/plain": [
       "['orange', 21, 7.8, 78j, False, 'whale']"
      ]
     },
     "execution_count": 21,
     "metadata": {},
     "output_type": "execute_result"
    }
   ],
   "source": [
    "list_ = list(tuple_1)\n",
    "list_"
   ]
  },
  {
   "cell_type": "code",
   "execution_count": 22,
   "id": "bdaafd33",
   "metadata": {},
   "outputs": [
    {
     "data": {
      "text/plain": [
       "['orange', 21, 7.8, 78j, False, 'whale', True]"
      ]
     },
     "execution_count": 22,
     "metadata": {},
     "output_type": "execute_result"
    }
   ],
   "source": [
    "list_.append(True)\n",
    "list_"
   ]
  },
  {
   "cell_type": "code",
   "execution_count": 23,
   "id": "fb5debf3",
   "metadata": {},
   "outputs": [
    {
     "data": {
      "text/plain": [
       "('orange', 21, 7.8, 78j, False, 'whale', True)"
      ]
     },
     "execution_count": 23,
     "metadata": {},
     "output_type": "execute_result"
    }
   ],
   "source": [
    "tuple_2 = tuple(list_)\n",
    "tuple_2"
   ]
  },
  {
   "cell_type": "code",
   "execution_count": 24,
   "id": "8ede8d0f",
   "metadata": {},
   "outputs": [
    {
     "data": {
      "text/plain": [
       "tuple"
      ]
     },
     "execution_count": 24,
     "metadata": {},
     "output_type": "execute_result"
    }
   ],
   "source": [
    "type(tuple_2)"
   ]
  },
  {
   "cell_type": "markdown",
   "id": "b3a5d593",
   "metadata": {},
   "source": [
    "## 10. Concatenate `tuples`"
   ]
  },
  {
   "cell_type": "code",
   "execution_count": 25,
   "id": "05a83b08",
   "metadata": {},
   "outputs": [
    {
     "data": {
      "text/plain": [
       "(1, 2, 3, 4, 5, 6)"
      ]
     },
     "execution_count": 25,
     "metadata": {},
     "output_type": "execute_result"
    }
   ],
   "source": [
    "tuple_3 = (1, 2, 3)\n",
    "tuple_4 = (4, 5, 6)\n",
    "\n",
    "tuple_5 = tuple_3 + tuple_4\n",
    "tuple_5"
   ]
  },
  {
   "cell_type": "markdown",
   "id": "d45beb63",
   "metadata": {},
   "source": [
    "## 11. Repeat the elements within a `tuple` "
   ]
  },
  {
   "cell_type": "code",
   "execution_count": 26,
   "id": "b0a14ea6",
   "metadata": {},
   "outputs": [
    {
     "data": {
      "text/plain": [
       "(10, 20, 30, 10, 20, 30, 10, 20, 30)"
      ]
     },
     "execution_count": 26,
     "metadata": {},
     "output_type": "execute_result"
    }
   ],
   "source": [
    "tuple_6 = (10, 20, 30)\n",
    "repeated_tuple_6 = tuple_6 * 3\n",
    "repeated_tuple_6"
   ]
  },
  {
   "cell_type": "markdown",
   "id": "b207d336",
   "metadata": {},
   "source": [
    "## 12. Count the frequency of an element using `count()` method "
   ]
  },
  {
   "cell_type": "code",
   "execution_count": 27,
   "id": "af686b76",
   "metadata": {},
   "outputs": [
    {
     "data": {
      "text/plain": [
       "(4, 5, 4, 3, 4, 7, 4, 8, 4)"
      ]
     },
     "execution_count": 27,
     "metadata": {},
     "output_type": "execute_result"
    }
   ],
   "source": [
    "tuple_7 = (4, 5, 4, 3, 4, 7, 4, 8, 4)\n",
    "tuple_7"
   ]
  },
  {
   "cell_type": "code",
   "execution_count": 28,
   "id": "99f330d1",
   "metadata": {},
   "outputs": [
    {
     "data": {
      "text/plain": [
       "5"
      ]
     },
     "execution_count": 28,
     "metadata": {},
     "output_type": "execute_result"
    }
   ],
   "source": [
    "tuple_7.count(4)"
   ]
  },
  {
   "cell_type": "markdown",
   "id": "ad050446",
   "metadata": {},
   "source": [
    "## 13. Find the position of an element using `index()` method"
   ]
  },
  {
   "cell_type": "code",
   "execution_count": 29,
   "id": "5d475223",
   "metadata": {},
   "outputs": [
    {
     "data": {
      "text/plain": [
       "(1, 2, 3, 4, 5)"
      ]
     },
     "execution_count": 29,
     "metadata": {},
     "output_type": "execute_result"
    }
   ],
   "source": [
    "tuple_8 = (1, 2, 3, 4, 5)\n",
    "tuple_8"
   ]
  },
  {
   "cell_type": "code",
   "execution_count": 30,
   "id": "9ed4d8d6",
   "metadata": {},
   "outputs": [
    {
     "data": {
      "text/plain": [
       "1"
      ]
     },
     "execution_count": 30,
     "metadata": {},
     "output_type": "execute_result"
    }
   ],
   "source": [
    "tuple_8.index(2)"
   ]
  },
  {
   "cell_type": "markdown",
   "id": "0761ed1b",
   "metadata": {},
   "source": [
    "## 14. Nested `tuples`"
   ]
  },
  {
   "cell_type": "code",
   "execution_count": 31,
   "id": "ecbb0861",
   "metadata": {},
   "outputs": [
    {
     "data": {
      "text/plain": [
       "((1, 2), ('A', 'B'), (True, False))"
      ]
     },
     "execution_count": 31,
     "metadata": {},
     "output_type": "execute_result"
    }
   ],
   "source": [
    "create1 = (1, 2)\n",
    "create2 = ('A', 'B')\n",
    "create3 = (True, False)\n",
    "\n",
    "create = (create1, create2, create3)\n",
    "create"
   ]
  },
  {
   "cell_type": "code",
   "execution_count": 32,
   "id": "ae903e91",
   "metadata": {},
   "outputs": [
    {
     "data": {
      "text/plain": [
       "(1, 2)"
      ]
     },
     "execution_count": 32,
     "metadata": {},
     "output_type": "execute_result"
    }
   ],
   "source": [
    "create[0]"
   ]
  },
  {
   "cell_type": "code",
   "execution_count": 33,
   "id": "d4da227f",
   "metadata": {},
   "outputs": [
    {
     "data": {
      "text/plain": [
       "2"
      ]
     },
     "execution_count": 33,
     "metadata": {},
     "output_type": "execute_result"
    }
   ],
   "source": [
    "create[0][1]"
   ]
  }
 ],
 "metadata": {
  "kernelspec": {
   "display_name": "Python 3 (ipykernel)",
   "language": "python",
   "name": "python3"
  },
  "language_info": {
   "codemirror_mode": {
    "name": "ipython",
    "version": 3
   },
   "file_extension": ".py",
   "mimetype": "text/x-python",
   "name": "python",
   "nbconvert_exporter": "python",
   "pygments_lexer": "ipython3",
   "version": "3.9.13"
  }
 },
 "nbformat": 4,
 "nbformat_minor": 5
}
