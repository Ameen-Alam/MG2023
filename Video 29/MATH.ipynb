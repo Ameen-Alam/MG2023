{
 "cells": [
  {
   "cell_type": "markdown",
   "id": "e683adca",
   "metadata": {},
   "source": [
    "# <center style='color:red'> `math` Module in Python</center>"
   ]
  },
  {
   "cell_type": "code",
   "execution_count": 1,
   "id": "d29c3393",
   "metadata": {},
   "outputs": [],
   "source": [
    "# import math module\n",
    "\n",
    "import math"
   ]
  },
  {
   "cell_type": "code",
   "execution_count": 2,
   "id": "ac8339be",
   "metadata": {},
   "outputs": [
    {
     "name": "stdout",
     "output_type": "stream",
     "text": [
      "1.0\n",
      "1.0\n",
      "0.9999999999999999\n"
     ]
    }
   ],
   "source": [
    "# calculate cosine, sine and tangent value of a number\n",
    "\n",
    "print(math.cos(0))\n",
    "print(math.sin(math.pi / 2))\n",
    "print(math.tan(math.pi / 4))"
   ]
  },
  {
   "cell_type": "code",
   "execution_count": 3,
   "id": "2cfaeeaa",
   "metadata": {},
   "outputs": [
    {
     "name": "stdout",
     "output_type": "stream",
     "text": [
      "0.0\n",
      "1.5707963267948966\n",
      "0.7853981633974483\n"
     ]
    }
   ],
   "source": [
    "# calculate inverse cosine, sine and tangent value of a number\n",
    "\n",
    "print(math.acos(1))\n",
    "print(math.asin(1))\n",
    "print(math.atan(0.9999999999999999))"
   ]
  },
  {
   "cell_type": "code",
   "execution_count": 4,
   "id": "ac9fd955",
   "metadata": {},
   "outputs": [
    {
     "data": {
      "text/plain": [
       "1.5707963267948966"
      ]
     },
     "execution_count": 4,
     "metadata": {},
     "output_type": "execute_result"
    }
   ],
   "source": [
    "math.pi / 2"
   ]
  },
  {
   "cell_type": "code",
   "execution_count": 5,
   "id": "682965f4",
   "metadata": {},
   "outputs": [
    {
     "data": {
      "text/plain": [
       "0.7853981633974483"
      ]
     },
     "execution_count": 5,
     "metadata": {},
     "output_type": "execute_result"
    }
   ],
   "source": [
    "math.pi / 4"
   ]
  },
  {
   "cell_type": "code",
   "execution_count": 6,
   "id": "08b1b82a",
   "metadata": {},
   "outputs": [
    {
     "name": "stdout",
     "output_type": "stream",
     "text": [
      "1.5430806348152437\n",
      "1.1752011936438014\n",
      "0.7615941559557649\n"
     ]
    }
   ],
   "source": [
    "# calculate hyperbolic cosine, sine and tangent value of a number\n",
    "\n",
    "print(math.cosh(1))\n",
    "print(math.sinh(1))\n",
    "print(math.tanh(0.9999999999999999))"
   ]
  },
  {
   "cell_type": "code",
   "execution_count": 7,
   "id": "62566074",
   "metadata": {},
   "outputs": [
    {
     "data": {
      "text/plain": [
       "1.5430806348152437"
      ]
     },
     "execution_count": 7,
     "metadata": {},
     "output_type": "execute_result"
    }
   ],
   "source": [
    "(math.exp(1) + math.exp(-1)) / 2 # hyperbolic cosine"
   ]
  },
  {
   "cell_type": "code",
   "execution_count": 8,
   "id": "e274943d",
   "metadata": {},
   "outputs": [
    {
     "data": {
      "text/plain": [
       "1.1752011936438014"
      ]
     },
     "execution_count": 8,
     "metadata": {},
     "output_type": "execute_result"
    }
   ],
   "source": [
    "(math.exp(1) - math.exp(-1)) / 2 # hyperbolic sine"
   ]
  },
  {
   "cell_type": "code",
   "execution_count": 9,
   "id": "5f8672c6",
   "metadata": {},
   "outputs": [
    {
     "data": {
      "text/plain": [
       "0.7615941559557649"
      ]
     },
     "execution_count": 9,
     "metadata": {},
     "output_type": "execute_result"
    }
   ],
   "source": [
    "(1 - math.exp(-2*1)) / (1 + math.exp(-2*1)) # hyperbolic tangent"
   ]
  },
  {
   "cell_type": "code",
   "execution_count": 10,
   "id": "030a59ba",
   "metadata": {},
   "outputs": [
    {
     "name": "stdout",
     "output_type": "stream",
     "text": [
      "1.0\n",
      "1.0\n",
      "0.9999999999999999\n"
     ]
    }
   ],
   "source": [
    "# calculate inverse hyperbolic cosine, sine and tangent value of a number\n",
    "\n",
    "print(math.acosh(1.5430806348152437))\n",
    "print(math.asinh(1.1752011936438014))\n",
    "print(math.atanh(0.7615941559557649))"
   ]
  },
  {
   "cell_type": "code",
   "execution_count": 11,
   "id": "da32d948",
   "metadata": {},
   "outputs": [
    {
     "data": {
      "text/plain": [
       "1.1071487177940904"
      ]
     },
     "execution_count": 11,
     "metadata": {},
     "output_type": "execute_result"
    }
   ],
   "source": [
    "# calculate arc tangent of b/a in radians\n",
    "\n",
    "math.atan2(10, 5)"
   ]
  },
  {
   "cell_type": "code",
   "execution_count": 12,
   "id": "201ffa5e",
   "metadata": {},
   "outputs": [
    {
     "data": {
      "text/plain": [
       "1.1071487177940904"
      ]
     },
     "execution_count": 12,
     "metadata": {},
     "output_type": "execute_result"
    }
   ],
   "source": [
    "math.atan(2)"
   ]
  },
  {
   "cell_type": "code",
   "execution_count": 13,
   "id": "85ba9b84",
   "metadata": {},
   "outputs": [
    {
     "data": {
      "text/plain": [
       "12"
      ]
     },
     "execution_count": 13,
     "metadata": {},
     "output_type": "execute_result"
    }
   ],
   "source": [
    "# do permutation\n",
    "\n",
    "math.perm(4, 2)"
   ]
  },
  {
   "cell_type": "markdown",
   "id": "05ad3cbd",
   "metadata": {},
   "source": [
    "n! / (n - r)!"
   ]
  },
  {
   "cell_type": "code",
   "execution_count": 14,
   "id": "aedc2f93",
   "metadata": {},
   "outputs": [
    {
     "data": {
      "text/plain": [
       "12.0"
      ]
     },
     "execution_count": 14,
     "metadata": {},
     "output_type": "execute_result"
    }
   ],
   "source": [
    "math.factorial(4) / math.factorial(4 - 2)"
   ]
  },
  {
   "cell_type": "code",
   "execution_count": 15,
   "id": "a455d712",
   "metadata": {},
   "outputs": [
    {
     "data": {
      "text/plain": [
       "6"
      ]
     },
     "execution_count": 15,
     "metadata": {},
     "output_type": "execute_result"
    }
   ],
   "source": [
    "# calculate total number of combinations\n",
    "\n",
    "math.comb(4, 2)"
   ]
  },
  {
   "cell_type": "markdown",
   "id": "c0a850fe",
   "metadata": {},
   "source": [
    "n! / (r! * (n - r)!)"
   ]
  },
  {
   "cell_type": "code",
   "execution_count": 16,
   "id": "ebdabcf8",
   "metadata": {},
   "outputs": [
    {
     "data": {
      "text/plain": [
       "6.0"
      ]
     },
     "execution_count": 16,
     "metadata": {},
     "output_type": "execute_result"
    }
   ],
   "source": [
    "math.factorial(4) / (math.factorial(2) * math.factorial(4 - 2))"
   ]
  },
  {
   "cell_type": "code",
   "execution_count": 17,
   "id": "cb3391bb",
   "metadata": {},
   "outputs": [
    {
     "data": {
      "text/plain": [
       "24"
      ]
     },
     "execution_count": 17,
     "metadata": {},
     "output_type": "execute_result"
    }
   ],
   "source": [
    "# calculate the factorial of a number\n",
    "\n",
    "math.factorial(4)"
   ]
  },
  {
   "cell_type": "code",
   "execution_count": 18,
   "id": "7cf517d0",
   "metadata": {},
   "outputs": [
    {
     "data": {
      "text/plain": [
       "2"
      ]
     },
     "execution_count": 18,
     "metadata": {},
     "output_type": "execute_result"
    }
   ],
   "source": [
    "# round a number down to the nearest integer\n",
    "\n",
    "math.floor(2.9)"
   ]
  },
  {
   "cell_type": "code",
   "execution_count": 19,
   "id": "6091a7b9",
   "metadata": {},
   "outputs": [
    {
     "data": {
      "text/plain": [
       "3"
      ]
     },
     "execution_count": 19,
     "metadata": {},
     "output_type": "execute_result"
    }
   ],
   "source": [
    "# round a number up to the nearest integer\n",
    "\n",
    "math.ceil(2.9)"
   ]
  },
  {
   "cell_type": "code",
   "execution_count": 20,
   "id": "8647a106",
   "metadata": {},
   "outputs": [
    {
     "data": {
      "text/plain": [
       "80.0"
      ]
     },
     "execution_count": 20,
     "metadata": {},
     "output_type": "execute_result"
    }
   ],
   "source": [
    "# return the value of the first parameter and the sign of the second parameter\n",
    "\n",
    "math.copysign(-80, 1)"
   ]
  },
  {
   "cell_type": "code",
   "execution_count": 21,
   "id": "542a3c04",
   "metadata": {},
   "outputs": [
    {
     "data": {
      "text/plain": [
       "0.017453292519943295"
      ]
     },
     "execution_count": 21,
     "metadata": {},
     "output_type": "execute_result"
    }
   ],
   "source": [
    "# convert from degrees to radians\n",
    "\n",
    "math.radians(1)"
   ]
  },
  {
   "cell_type": "code",
   "execution_count": 22,
   "id": "8faa5ca7",
   "metadata": {},
   "outputs": [
    {
     "data": {
      "text/plain": [
       "0.017453292519943295"
      ]
     },
     "execution_count": 22,
     "metadata": {},
     "output_type": "execute_result"
    }
   ],
   "source": [
    "1 * math.pi / 180"
   ]
  },
  {
   "cell_type": "code",
   "execution_count": 23,
   "id": "631b227e",
   "metadata": {},
   "outputs": [
    {
     "data": {
      "text/plain": [
       "57.29577951308232"
      ]
     },
     "execution_count": 23,
     "metadata": {},
     "output_type": "execute_result"
    }
   ],
   "source": [
    "# convert from radians to degrees\n",
    "\n",
    "math.degrees(1)"
   ]
  },
  {
   "cell_type": "code",
   "execution_count": 24,
   "id": "49d87cee",
   "metadata": {},
   "outputs": [
    {
     "data": {
      "text/plain": [
       "57.29577951308232"
      ]
     },
     "execution_count": 24,
     "metadata": {},
     "output_type": "execute_result"
    }
   ],
   "source": [
    "1 * 180 / math.pi"
   ]
  },
  {
   "cell_type": "code",
   "execution_count": 25,
   "id": "f82a9455",
   "metadata": {},
   "outputs": [
    {
     "data": {
      "text/plain": [
       "2.8284271247461903"
      ]
     },
     "execution_count": 25,
     "metadata": {},
     "output_type": "execute_result"
    }
   ],
   "source": [
    "# calculate euclidean distance\n",
    "\n",
    "math.dist([1, 2], [3, 4])"
   ]
  },
  {
   "cell_type": "code",
   "execution_count": 26,
   "id": "e8f05d14",
   "metadata": {},
   "outputs": [
    {
     "data": {
      "text/plain": [
       "2.8284271247461903"
      ]
     },
     "execution_count": 26,
     "metadata": {},
     "output_type": "execute_result"
    }
   ],
   "source": [
    "math.sqrt((1 - 3)**2 + (2 - 4)**2)"
   ]
  },
  {
   "cell_type": "code",
   "execution_count": 27,
   "id": "800ef683",
   "metadata": {},
   "outputs": [
    {
     "data": {
      "text/plain": [
       "100.0"
      ]
     },
     "execution_count": 27,
     "metadata": {},
     "output_type": "execute_result"
    }
   ],
   "source": [
    "# calculate the absolute value of a number\n",
    "\n",
    "math.fabs(-100)"
   ]
  },
  {
   "cell_type": "code",
   "execution_count": 28,
   "id": "8b528b69",
   "metadata": {},
   "outputs": [
    {
     "data": {
      "text/plain": [
       "3.0"
      ]
     },
     "execution_count": 28,
     "metadata": {},
     "output_type": "execute_result"
    }
   ],
   "source": [
    "# calculate the remainder of a/b\n",
    "\n",
    "math.fmod(24, 7)"
   ]
  },
  {
   "cell_type": "code",
   "execution_count": 29,
   "id": "6176f03f",
   "metadata": {},
   "outputs": [
    {
     "data": {
      "text/plain": [
       "(0.625, 4)"
      ]
     },
     "execution_count": 29,
     "metadata": {},
     "output_type": "execute_result"
    }
   ],
   "source": [
    "# calculate the mantissa and exponent of a number\n",
    "\n",
    "math.frexp(10)"
   ]
  },
  {
   "cell_type": "code",
   "execution_count": 30,
   "id": "3ac4fe90",
   "metadata": {},
   "outputs": [
    {
     "data": {
      "text/plain": [
       "10.0"
      ]
     },
     "execution_count": 30,
     "metadata": {},
     "output_type": "execute_result"
    }
   ],
   "source": [
    "0.625 * 2**4"
   ]
  },
  {
   "cell_type": "code",
   "execution_count": 31,
   "id": "61588a93",
   "metadata": {},
   "outputs": [
    {
     "data": {
      "text/plain": [
       "16.0"
      ]
     },
     "execution_count": 31,
     "metadata": {},
     "output_type": "execute_result"
    }
   ],
   "source": [
    "# calculate x * 2**i\n",
    "\n",
    "math.ldexp(4, 2)"
   ]
  },
  {
   "cell_type": "code",
   "execution_count": 32,
   "id": "dd64dc8c",
   "metadata": {},
   "outputs": [
    {
     "data": {
      "text/plain": [
       "16"
      ]
     },
     "execution_count": 32,
     "metadata": {},
     "output_type": "execute_result"
    }
   ],
   "source": [
    "4 * 2**2"
   ]
  },
  {
   "cell_type": "code",
   "execution_count": 33,
   "id": "d4abbdca",
   "metadata": {},
   "outputs": [
    {
     "data": {
      "text/plain": [
       "1.0"
      ]
     },
     "execution_count": 33,
     "metadata": {},
     "output_type": "execute_result"
    }
   ],
   "source": [
    "# calculate the error function of a number\n",
    "\n",
    "math.erf(10) # returns a value between -1 and 1"
   ]
  },
  {
   "cell_type": "code",
   "execution_count": 34,
   "id": "d0fdb0b0",
   "metadata": {},
   "outputs": [
    {
     "data": {
      "text/plain": [
       "2.0"
      ]
     },
     "execution_count": 34,
     "metadata": {},
     "output_type": "execute_result"
    }
   ],
   "source": [
    "# calculate the complementary error function of a number\n",
    "\n",
    "math.erfc(-100) # returns a value between 0 and 2"
   ]
  },
  {
   "cell_type": "code",
   "execution_count": 35,
   "id": "03647563",
   "metadata": {},
   "outputs": [
    {
     "data": {
      "text/plain": [
       "7.38905609893065"
      ]
     },
     "execution_count": 35,
     "metadata": {},
     "output_type": "execute_result"
    }
   ],
   "source": [
    "# calculate the exponential value\n",
    "\n",
    "math.exp(2)"
   ]
  },
  {
   "cell_type": "code",
   "execution_count": 36,
   "id": "34569ba6",
   "metadata": {},
   "outputs": [
    {
     "data": {
      "text/plain": [
       "7.3890560989306495"
      ]
     },
     "execution_count": 36,
     "metadata": {},
     "output_type": "execute_result"
    }
   ],
   "source": [
    "math.e**2"
   ]
  },
  {
   "cell_type": "code",
   "execution_count": 37,
   "id": "e1d7e4ba",
   "metadata": {},
   "outputs": [
    {
     "data": {
      "text/plain": [
       "6.38905609893065"
      ]
     },
     "execution_count": 37,
     "metadata": {},
     "output_type": "execute_result"
    }
   ],
   "source": [
    "# calculate the exponential value minus 1\n",
    "\n",
    "math.expm1(2)"
   ]
  },
  {
   "cell_type": "code",
   "execution_count": 38,
   "id": "16d154bd",
   "metadata": {},
   "outputs": [
    {
     "data": {
      "text/plain": [
       "6.38905609893065"
      ]
     },
     "execution_count": 38,
     "metadata": {},
     "output_type": "execute_result"
    }
   ],
   "source": [
    "math.exp(2) - 1"
   ]
  },
  {
   "cell_type": "code",
   "execution_count": 39,
   "id": "2b9b6c7f",
   "metadata": {},
   "outputs": [
    {
     "data": {
      "text/plain": [
       "6.3890560989306495"
      ]
     },
     "execution_count": 39,
     "metadata": {},
     "output_type": "execute_result"
    }
   ],
   "source": [
    "math.e**2 - 1"
   ]
  },
  {
   "cell_type": "code",
   "execution_count": 40,
   "id": "6e943366",
   "metadata": {},
   "outputs": [
    {
     "data": {
      "text/plain": [
       "15.0"
      ]
     },
     "execution_count": 40,
     "metadata": {},
     "output_type": "execute_result"
    }
   ],
   "source": [
    "# calculate the sum of items\n",
    "\n",
    "math.fsum([1, 2, 3, 4, 5])"
   ]
  },
  {
   "cell_type": "code",
   "execution_count": 41,
   "id": "8bb5dfd4",
   "metadata": {},
   "outputs": [
    {
     "data": {
      "text/plain": [
       "15.0"
      ]
     },
     "execution_count": 41,
     "metadata": {},
     "output_type": "execute_result"
    }
   ],
   "source": [
    "math.fsum((1, 2, 3, 4, 5))"
   ]
  },
  {
   "cell_type": "code",
   "execution_count": 42,
   "id": "241a61be",
   "metadata": {},
   "outputs": [
    {
     "data": {
      "text/plain": [
       "24.0"
      ]
     },
     "execution_count": 42,
     "metadata": {},
     "output_type": "execute_result"
    }
   ],
   "source": [
    "# calculate the gamma value of a number\n",
    "\n",
    "math.gamma(5)"
   ]
  },
  {
   "cell_type": "markdown",
   "id": "a6fe83f0",
   "metadata": {},
   "source": [
    "(n - 1)!"
   ]
  },
  {
   "cell_type": "code",
   "execution_count": 43,
   "id": "8ec5b859",
   "metadata": {},
   "outputs": [
    {
     "data": {
      "text/plain": [
       "24"
      ]
     },
     "execution_count": 43,
     "metadata": {},
     "output_type": "execute_result"
    }
   ],
   "source": [
    "math.factorial(5 - 1)"
   ]
  },
  {
   "cell_type": "code",
   "execution_count": 44,
   "id": "585f28e5",
   "metadata": {},
   "outputs": [
    {
     "data": {
      "text/plain": [
       "3.178053830347945"
      ]
     },
     "execution_count": 44,
     "metadata": {},
     "output_type": "execute_result"
    }
   ],
   "source": [
    "# calculate the log gamma value of a number\n",
    "\n",
    "math.lgamma(5)"
   ]
  },
  {
   "cell_type": "code",
   "execution_count": 45,
   "id": "25826efd",
   "metadata": {},
   "outputs": [
    {
     "data": {
      "text/plain": [
       "3.1780538303479458"
      ]
     },
     "execution_count": 45,
     "metadata": {},
     "output_type": "execute_result"
    }
   ],
   "source": [
    "math.log(math.gamma(5))"
   ]
  },
  {
   "cell_type": "code",
   "execution_count": 46,
   "id": "3a3d056d",
   "metadata": {},
   "outputs": [
    {
     "data": {
      "text/plain": [
       "3.1780538303479458"
      ]
     },
     "execution_count": 46,
     "metadata": {},
     "output_type": "execute_result"
    }
   ],
   "source": [
    "math.log(math.factorial(5 - 1))"
   ]
  },
  {
   "cell_type": "code",
   "execution_count": 47,
   "id": "9f55a3b2",
   "metadata": {},
   "outputs": [
    {
     "data": {
      "text/plain": [
       "False"
      ]
     },
     "execution_count": 47,
     "metadata": {},
     "output_type": "execute_result"
    }
   ],
   "source": [
    "# check the closeness of two values\n",
    "\n",
    "math.isclose(1.0, 1.1)"
   ]
  },
  {
   "cell_type": "code",
   "execution_count": 48,
   "id": "53986f48",
   "metadata": {},
   "outputs": [
    {
     "data": {
      "text/plain": [
       "True"
      ]
     },
     "execution_count": 48,
     "metadata": {},
     "output_type": "execute_result"
    }
   ],
   "source": [
    "math.isclose(1.0, 1.0)"
   ]
  },
  {
   "cell_type": "code",
   "execution_count": 49,
   "id": "00e1aa16",
   "metadata": {},
   "outputs": [
    {
     "data": {
      "text/plain": [
       "True"
      ]
     },
     "execution_count": 49,
     "metadata": {},
     "output_type": "execute_result"
    }
   ],
   "source": [
    "# check whether a number is finite or not\n",
    "\n",
    "math.isfinite(100)"
   ]
  },
  {
   "cell_type": "code",
   "execution_count": 50,
   "id": "c5ec83f0",
   "metadata": {},
   "outputs": [
    {
     "data": {
      "text/plain": [
       "False"
      ]
     },
     "execution_count": 50,
     "metadata": {},
     "output_type": "execute_result"
    }
   ],
   "source": [
    "math.isfinite(math.inf)"
   ]
  },
  {
   "cell_type": "code",
   "execution_count": 51,
   "id": "dfae2e8b",
   "metadata": {},
   "outputs": [
    {
     "data": {
      "text/plain": [
       "False"
      ]
     },
     "execution_count": 51,
     "metadata": {},
     "output_type": "execute_result"
    }
   ],
   "source": [
    "# check whether a number is infinite or not\n",
    "\n",
    "math.isinf(100)"
   ]
  },
  {
   "cell_type": "code",
   "execution_count": 52,
   "id": "3a8021fd",
   "metadata": {},
   "outputs": [
    {
     "data": {
      "text/plain": [
       "True"
      ]
     },
     "execution_count": 52,
     "metadata": {},
     "output_type": "execute_result"
    }
   ],
   "source": [
    "math.isinf(math.inf)"
   ]
  },
  {
   "cell_type": "code",
   "execution_count": 53,
   "id": "4b10025e",
   "metadata": {},
   "outputs": [
    {
     "data": {
      "text/plain": [
       "False"
      ]
     },
     "execution_count": 53,
     "metadata": {},
     "output_type": "execute_result"
    }
   ],
   "source": [
    "# check whether a number is NaN (Not a Number) or not\n",
    "\n",
    "math.isnan(100)"
   ]
  },
  {
   "cell_type": "code",
   "execution_count": 54,
   "id": "d97450ae",
   "metadata": {},
   "outputs": [
    {
     "data": {
      "text/plain": [
       "2.23606797749979"
      ]
     },
     "execution_count": 54,
     "metadata": {},
     "output_type": "execute_result"
    }
   ],
   "source": [
    "# calculate the square root of a number\n",
    "\n",
    "math.sqrt(5)"
   ]
  },
  {
   "cell_type": "code",
   "execution_count": 55,
   "id": "b85d44e9",
   "metadata": {},
   "outputs": [
    {
     "data": {
      "text/plain": [
       "2"
      ]
     },
     "execution_count": 55,
     "metadata": {},
     "output_type": "execute_result"
    }
   ],
   "source": [
    "# round the square root of a number to the nearest integer\n",
    "\n",
    "math.isqrt(5)"
   ]
  },
  {
   "cell_type": "code",
   "execution_count": 56,
   "id": "6ca3a7e3",
   "metadata": {},
   "outputs": [
    {
     "data": {
      "text/plain": [
       "0.6931471805599453"
      ]
     },
     "execution_count": 56,
     "metadata": {},
     "output_type": "execute_result"
    }
   ],
   "source": [
    "# calculate natural logarithm\n",
    "\n",
    "math.log(2)"
   ]
  },
  {
   "cell_type": "code",
   "execution_count": 57,
   "id": "8d821185",
   "metadata": {},
   "outputs": [
    {
     "data": {
      "text/plain": [
       "0.3010299956639812"
      ]
     },
     "execution_count": 57,
     "metadata": {},
     "output_type": "execute_result"
    }
   ],
   "source": [
    "# calculate base-10 logarithm\n",
    "\n",
    "math.log10(2)"
   ]
  },
  {
   "cell_type": "code",
   "execution_count": 58,
   "id": "f91fde15",
   "metadata": {},
   "outputs": [
    {
     "data": {
      "text/plain": [
       "1.0986122886681096"
      ]
     },
     "execution_count": 58,
     "metadata": {},
     "output_type": "execute_result"
    }
   ],
   "source": [
    "# calculate natural logarithm of 1+x\n",
    "\n",
    "math.log1p(2)"
   ]
  },
  {
   "cell_type": "code",
   "execution_count": 59,
   "id": "11be95c2",
   "metadata": {},
   "outputs": [
    {
     "data": {
      "text/plain": [
       "1.0986122886681098"
      ]
     },
     "execution_count": 59,
     "metadata": {},
     "output_type": "execute_result"
    }
   ],
   "source": [
    "math.log(1 + 2)"
   ]
  },
  {
   "cell_type": "code",
   "execution_count": 60,
   "id": "7870f408",
   "metadata": {},
   "outputs": [
    {
     "data": {
      "text/plain": [
       "1.0"
      ]
     },
     "execution_count": 60,
     "metadata": {},
     "output_type": "execute_result"
    }
   ],
   "source": [
    "# calculate base-2 logarithm\n",
    "\n",
    "math.log2(2)"
   ]
  },
  {
   "cell_type": "code",
   "execution_count": 61,
   "id": "172956c1",
   "metadata": {},
   "outputs": [
    {
     "data": {
      "text/plain": [
       "8.0"
      ]
     },
     "execution_count": 61,
     "metadata": {},
     "output_type": "execute_result"
    }
   ],
   "source": [
    "# calculate x**y\n",
    "\n",
    "math.pow(2, 3)"
   ]
  },
  {
   "cell_type": "code",
   "execution_count": 62,
   "id": "6ccb238e",
   "metadata": {},
   "outputs": [
    {
     "data": {
      "text/plain": [
       "120"
      ]
     },
     "execution_count": 62,
     "metadata": {},
     "output_type": "execute_result"
    }
   ],
   "source": [
    "# calculate the product of elements\n",
    "\n",
    "math.prod([1, 2, 3, 4, 5])"
   ]
  },
  {
   "cell_type": "code",
   "execution_count": 63,
   "id": "7e1546fd",
   "metadata": {},
   "outputs": [
    {
     "data": {
      "text/plain": [
       "999"
      ]
     },
     "execution_count": 63,
     "metadata": {},
     "output_type": "execute_result"
    }
   ],
   "source": [
    "# return the truncated integer\n",
    "\n",
    "math.trunc(999.999)"
   ]
  },
  {
   "cell_type": "code",
   "execution_count": 64,
   "id": "925439e6",
   "metadata": {},
   "outputs": [
    {
     "data": {
      "text/plain": [
       "10"
      ]
     },
     "execution_count": 64,
     "metadata": {},
     "output_type": "execute_result"
    }
   ],
   "source": [
    "# find the greatest common divisor between two integers\n",
    "\n",
    "math.gcd(20, 10)"
   ]
  },
  {
   "cell_type": "code",
   "execution_count": 65,
   "id": "d1dadacd",
   "metadata": {},
   "outputs": [
    {
     "data": {
      "text/plain": [
       "5.0"
      ]
     },
     "execution_count": 65,
     "metadata": {},
     "output_type": "execute_result"
    }
   ],
   "source": [
    "# calculate the hypotenuse of a right-angled triangle\n",
    "\n",
    "math.hypot(4, 3)"
   ]
  },
  {
   "cell_type": "code",
   "execution_count": 66,
   "id": "80a84d77",
   "metadata": {},
   "outputs": [
    {
     "data": {
      "text/plain": [
       "5.0"
      ]
     },
     "execution_count": 66,
     "metadata": {},
     "output_type": "execute_result"
    }
   ],
   "source": [
    "math.sqrt(4**2 + 3**2)"
   ]
  },
  {
   "cell_type": "code",
   "execution_count": 67,
   "id": "f97a5be5",
   "metadata": {},
   "outputs": [
    {
     "name": "stdout",
     "output_type": "stream",
     "text": [
      "3.141592653589793\n",
      "inf\n",
      "2.718281828459045\n",
      "6.283185307179586\n",
      "nan\n"
     ]
    }
   ],
   "source": [
    "# check constants\n",
    "\n",
    "print(math.pi) # returns the value of pi\n",
    "print(math.inf) # returns positive infinity\n",
    "print(math.e) # returns Euler number\n",
    "print(math.tau) # returns the value of tau\n",
    "print(math.nan) # returns NaN value"
   ]
  },
  {
   "cell_type": "code",
   "execution_count": 68,
   "id": "79b3231d",
   "metadata": {},
   "outputs": [
    {
     "data": {
      "text/plain": [
       "6.283185307179586"
      ]
     },
     "execution_count": 68,
     "metadata": {},
     "output_type": "execute_result"
    }
   ],
   "source": [
    "# tau\n",
    "\n",
    "math.pi * 2"
   ]
  }
 ],
 "metadata": {
  "kernelspec": {
   "display_name": "Python 3 (ipykernel)",
   "language": "python",
   "name": "python3"
  },
  "language_info": {
   "codemirror_mode": {
    "name": "ipython",
    "version": 3
   },
   "file_extension": ".py",
   "mimetype": "text/x-python",
   "name": "python",
   "nbconvert_exporter": "python",
   "pygments_lexer": "ipython3",
   "version": "3.9.13"
  }
 },
 "nbformat": 4,
 "nbformat_minor": 5
}
