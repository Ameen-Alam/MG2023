{
 "cells": [
  {
   "cell_type": "markdown",
   "id": "305ae680",
   "metadata": {},
   "source": [
    "# <center style='color:mediumblue'> `Dictionaries` in Python </center>"
   ]
  },
  {
   "cell_type": "markdown",
   "id": "1399e4dd",
   "metadata": {},
   "source": [
    "## 1. Create a `dictionary`"
   ]
  },
  {
   "cell_type": "code",
   "execution_count": 1,
   "id": "b638675c",
   "metadata": {},
   "outputs": [
    {
     "data": {
      "text/plain": [
       "{'Name': 'Federer', 'Age': 42, 'G_S': 20, 'ATP_F': 6}"
      ]
     },
     "execution_count": 1,
     "metadata": {},
     "output_type": "execute_result"
    }
   ],
   "source": [
    "dict_1 = {'Name': 'Federer', 'Age': 42, 'G_S': 20, 'ATP_F': 6}\n",
    "dict_1"
   ]
  },
  {
   "cell_type": "code",
   "execution_count": 2,
   "id": "7dfad53f",
   "metadata": {},
   "outputs": [
    {
     "data": {
      "text/plain": [
       "dict"
      ]
     },
     "execution_count": 2,
     "metadata": {},
     "output_type": "execute_result"
    }
   ],
   "source": [
    "type(dict_1)"
   ]
  },
  {
   "cell_type": "markdown",
   "id": "d6cb4c3a",
   "metadata": {},
   "source": [
    "## 2. Check the length of the `dictionary`"
   ]
  },
  {
   "cell_type": "code",
   "execution_count": 3,
   "id": "286f90b4",
   "metadata": {},
   "outputs": [
    {
     "data": {
      "text/plain": [
       "4"
      ]
     },
     "execution_count": 3,
     "metadata": {},
     "output_type": "execute_result"
    }
   ],
   "source": [
    "len(dict_1)"
   ]
  },
  {
   "cell_type": "markdown",
   "id": "0d55d771",
   "metadata": {},
   "source": [
    "## 3. Iterate through the `dictionary` using `for` loop "
   ]
  },
  {
   "cell_type": "code",
   "execution_count": 4,
   "id": "d36c8378",
   "metadata": {},
   "outputs": [
    {
     "name": "stdout",
     "output_type": "stream",
     "text": [
      "Name \t Federer\n",
      "Age \t 42\n",
      "G_S \t 20\n",
      "ATP_F \t 6\n"
     ]
    }
   ],
   "source": [
    "for key, value in dict_1.items():\n",
    "    print(key, '\\t', value)"
   ]
  },
  {
   "cell_type": "markdown",
   "id": "dd286c97",
   "metadata": {},
   "source": [
    "## 4. Iterate through the `dictionary` using `while` loop "
   ]
  },
  {
   "cell_type": "code",
   "execution_count": 5,
   "id": "42932efb",
   "metadata": {},
   "outputs": [
    {
     "name": "stdout",
     "output_type": "stream",
     "text": [
      "Name \t Federer\n",
      "Age \t 42\n",
      "G_S \t 20\n",
      "ATP_F \t 6\n"
     ]
    }
   ],
   "source": [
    "n = 0\n",
    "\n",
    "while dict_1:\n",
    "    get = next(item for item in dict_1)\n",
    "    print(get, '\\t', dict_1.pop(get))\n",
    "    n += 1"
   ]
  },
  {
   "cell_type": "markdown",
   "id": "91f9255e",
   "metadata": {},
   "source": [
    "## 5. Create an empty `dictionary`"
   ]
  },
  {
   "cell_type": "code",
   "execution_count": 6,
   "id": "6b5af590",
   "metadata": {},
   "outputs": [
    {
     "data": {
      "text/plain": [
       "{}"
      ]
     },
     "execution_count": 6,
     "metadata": {},
     "output_type": "execute_result"
    }
   ],
   "source": [
    "empty = {}\n",
    "empty"
   ]
  },
  {
   "cell_type": "code",
   "execution_count": 7,
   "id": "2c4bc44f",
   "metadata": {},
   "outputs": [
    {
     "data": {
      "text/plain": [
       "dict"
      ]
     },
     "execution_count": 7,
     "metadata": {},
     "output_type": "execute_result"
    }
   ],
   "source": [
    "type(empty)"
   ]
  },
  {
   "cell_type": "markdown",
   "id": "4e713a24",
   "metadata": {},
   "source": [
    "## 6. Use `dict()` function to create a `dictionary`"
   ]
  },
  {
   "cell_type": "code",
   "execution_count": 8,
   "id": "a3ea51ec",
   "metadata": {},
   "outputs": [
    {
     "data": {
      "text/plain": [
       "{'Name': 'Federer', 'Age': 42, 'G_S': 20, 'ATP_F': 6}"
      ]
     },
     "execution_count": 8,
     "metadata": {},
     "output_type": "execute_result"
    }
   ],
   "source": [
    "new_dict = dict(Name = 'Federer', Age = 42, G_S = 20, ATP_F = 6)\n",
    "new_dict"
   ]
  },
  {
   "cell_type": "code",
   "execution_count": 9,
   "id": "60820698",
   "metadata": {},
   "outputs": [
    {
     "data": {
      "text/plain": [
       "dict"
      ]
     },
     "execution_count": 9,
     "metadata": {},
     "output_type": "execute_result"
    }
   ],
   "source": [
    "type(new_dict)"
   ]
  },
  {
   "cell_type": "markdown",
   "id": "2c85e7cd",
   "metadata": {},
   "source": [
    "The order of the elements within the `set` is not maintained while printing"
   ]
  },
  {
   "cell_type": "markdown",
   "id": "03f81dcc",
   "metadata": {},
   "source": [
    "## 7. Get the keys using `keys()` method"
   ]
  },
  {
   "cell_type": "code",
   "execution_count": 10,
   "id": "9068265d",
   "metadata": {},
   "outputs": [
    {
     "data": {
      "text/plain": [
       "dict_keys(['Name', 'Age', 'G_S', 'ATP_F'])"
      ]
     },
     "execution_count": 10,
     "metadata": {},
     "output_type": "execute_result"
    }
   ],
   "source": [
    "new_dict.keys()"
   ]
  },
  {
   "cell_type": "markdown",
   "id": "c0888678",
   "metadata": {},
   "source": [
    "## 8. Get the values using `values()` method"
   ]
  },
  {
   "cell_type": "code",
   "execution_count": 11,
   "id": "ed8119ad",
   "metadata": {},
   "outputs": [
    {
     "data": {
      "text/plain": [
       "dict_values(['Federer', 42, 20, 6])"
      ]
     },
     "execution_count": 11,
     "metadata": {},
     "output_type": "execute_result"
    }
   ],
   "source": [
    "new_dict.values()"
   ]
  },
  {
   "cell_type": "markdown",
   "id": "2991eefb",
   "metadata": {},
   "source": [
    "## 9. Get the key-value pairs using `items()` method"
   ]
  },
  {
   "cell_type": "code",
   "execution_count": 12,
   "id": "6bde3b86",
   "metadata": {},
   "outputs": [
    {
     "data": {
      "text/plain": [
       "dict_items([('Name', 'Federer'), ('Age', 42), ('G_S', 20), ('ATP_F', 6)])"
      ]
     },
     "execution_count": 12,
     "metadata": {},
     "output_type": "execute_result"
    }
   ],
   "source": [
    "new_dict.items()"
   ]
  },
  {
   "cell_type": "markdown",
   "id": "765f21fd",
   "metadata": {},
   "source": [
    "## 10. Access an element using its `key`"
   ]
  },
  {
   "cell_type": "code",
   "execution_count": 13,
   "id": "d0962bbc",
   "metadata": {},
   "outputs": [
    {
     "data": {
      "text/plain": [
       "20"
      ]
     },
     "execution_count": 13,
     "metadata": {},
     "output_type": "execute_result"
    }
   ],
   "source": [
    "new_dict['G_S']"
   ]
  },
  {
   "cell_type": "markdown",
   "id": "9547cea7",
   "metadata": {},
   "source": [
    "## 11. Access an element using `get()` method"
   ]
  },
  {
   "cell_type": "code",
   "execution_count": 14,
   "id": "65eee745",
   "metadata": {},
   "outputs": [
    {
     "data": {
      "text/plain": [
       "'Federer'"
      ]
     },
     "execution_count": 14,
     "metadata": {},
     "output_type": "execute_result"
    }
   ],
   "source": [
    "new_dict.get('Name')"
   ]
  },
  {
   "cell_type": "markdown",
   "id": "08653963",
   "metadata": {},
   "source": [
    "## 12. Create a new `dictionary` using `copy()` method"
   ]
  },
  {
   "cell_type": "code",
   "execution_count": 15,
   "id": "fd5e1923",
   "metadata": {},
   "outputs": [
    {
     "data": {
      "text/plain": [
       "{'Name': 'Federer', 'Age': 42, 'G_S': 20, 'ATP_F': 6}"
      ]
     },
     "execution_count": 15,
     "metadata": {},
     "output_type": "execute_result"
    }
   ],
   "source": [
    "another_dict = new_dict.copy()\n",
    "another_dict"
   ]
  },
  {
   "cell_type": "code",
   "execution_count": 16,
   "id": "dfe60200",
   "metadata": {},
   "outputs": [
    {
     "data": {
      "text/plain": [
       "{'Name': 'Federer', 'Age': 42, 'G_S': 20, 'ATP_F': 6}"
      ]
     },
     "execution_count": 16,
     "metadata": {},
     "output_type": "execute_result"
    }
   ],
   "source": [
    "new_dict"
   ]
  },
  {
   "cell_type": "code",
   "execution_count": 17,
   "id": "19c8893d",
   "metadata": {},
   "outputs": [
    {
     "data": {
      "text/plain": [
       "{'Name': 'Federer', 'Age': 42, 'G_S': 20, 'ATP_F': 6, 'ATP_1000': 28}"
      ]
     },
     "execution_count": 17,
     "metadata": {},
     "output_type": "execute_result"
    }
   ],
   "source": [
    "another_dict['ATP_1000'] = 28\n",
    "another_dict"
   ]
  },
  {
   "cell_type": "code",
   "execution_count": 18,
   "id": "4e076528",
   "metadata": {},
   "outputs": [
    {
     "data": {
      "text/plain": [
       "{'Name': 'Federer', 'Age': 42, 'G_S': 20, 'ATP_F': 6}"
      ]
     },
     "execution_count": 18,
     "metadata": {},
     "output_type": "execute_result"
    }
   ],
   "source": [
    "new_dict"
   ]
  },
  {
   "cell_type": "markdown",
   "id": "33cb6737",
   "metadata": {},
   "source": [
    "## 13. Add items to a `dictionary` using `update()` method"
   ]
  },
  {
   "cell_type": "code",
   "execution_count": 19,
   "id": "0b5977cd",
   "metadata": {},
   "outputs": [
    {
     "data": {
      "text/plain": [
       "{1: 'A', 2: 'B', 3: 'C'}"
      ]
     },
     "execution_count": 19,
     "metadata": {},
     "output_type": "execute_result"
    }
   ],
   "source": [
    "dict_2 = {1: 'A', 2: 'B', 3: 'C'}\n",
    "dict_2"
   ]
  },
  {
   "cell_type": "code",
   "execution_count": 20,
   "id": "a22edbd9",
   "metadata": {},
   "outputs": [
    {
     "data": {
      "text/plain": [
       "{1: 'A', 2: 'B', 3: 'C', 4: 'D', 5: 'E'}"
      ]
     },
     "execution_count": 20,
     "metadata": {},
     "output_type": "execute_result"
    }
   ],
   "source": [
    "dict_2.update({4: 'D', 5: 'E'})\n",
    "dict_2"
   ]
  },
  {
   "cell_type": "markdown",
   "id": "be406130",
   "metadata": {},
   "source": [
    "## 14. Remove an item from `dictionary` using `pop()` method"
   ]
  },
  {
   "cell_type": "code",
   "execution_count": 21,
   "id": "74e930cd",
   "metadata": {},
   "outputs": [
    {
     "data": {
      "text/plain": [
       "{1: 'A', 2: 'B', 3: 'C', 4: 'D', 5: 'E'}"
      ]
     },
     "execution_count": 21,
     "metadata": {},
     "output_type": "execute_result"
    }
   ],
   "source": [
    "dict_2"
   ]
  },
  {
   "cell_type": "code",
   "execution_count": 22,
   "id": "e422b4d1",
   "metadata": {},
   "outputs": [
    {
     "data": {
      "text/plain": [
       "{2: 'B', 3: 'C', 4: 'D', 5: 'E'}"
      ]
     },
     "execution_count": 22,
     "metadata": {},
     "output_type": "execute_result"
    }
   ],
   "source": [
    "dict_2.pop(1)\n",
    "dict_2"
   ]
  },
  {
   "cell_type": "markdown",
   "id": "1b2b91ff",
   "metadata": {},
   "source": [
    "## 15. Remove the last item from `dictionary` using `popitem()` method"
   ]
  },
  {
   "cell_type": "code",
   "execution_count": 23,
   "id": "5551f44d",
   "metadata": {},
   "outputs": [
    {
     "data": {
      "text/plain": [
       "{2: 'B', 3: 'C', 4: 'D', 5: 'E'}"
      ]
     },
     "execution_count": 23,
     "metadata": {},
     "output_type": "execute_result"
    }
   ],
   "source": [
    "dict_2"
   ]
  },
  {
   "cell_type": "code",
   "execution_count": 24,
   "id": "162d04fc",
   "metadata": {},
   "outputs": [
    {
     "data": {
      "text/plain": [
       "{2: 'B', 3: 'C', 4: 'D'}"
      ]
     },
     "execution_count": 24,
     "metadata": {},
     "output_type": "execute_result"
    }
   ],
   "source": [
    "dict_2.popitem()\n",
    "dict_2"
   ]
  },
  {
   "cell_type": "markdown",
   "id": "256212ae",
   "metadata": {},
   "source": [
    "## 16. Map keys with specific values using `fromkeys()` method"
   ]
  },
  {
   "cell_type": "code",
   "execution_count": 25,
   "id": "73a1979a",
   "metadata": {},
   "outputs": [
    {
     "data": {
      "text/plain": [
       "{'X': (10, 20, 30), 'Y': (10, 20, 30), 'Z': (10, 20, 30)}"
      ]
     },
     "execution_count": 25,
     "metadata": {},
     "output_type": "execute_result"
    }
   ],
   "source": [
    "keys = ('X', 'Y', 'Z')\n",
    "values = (10, 20, 30)\n",
    "\n",
    "dict_3 = dict.fromkeys(keys, values)\n",
    "dict_3"
   ]
  },
  {
   "cell_type": "markdown",
   "id": "25eae7a0",
   "metadata": {},
   "source": [
    "## 17. Return the value of a key using `setdefault()` method"
   ]
  },
  {
   "cell_type": "code",
   "execution_count": 26,
   "id": "b2ebc89c",
   "metadata": {},
   "outputs": [
    {
     "data": {
      "text/plain": [
       "{'Name': 'Federer', 'Age': 42, 'G_S': 20, 'ATP_F': 6, 'ATP_1000': 28}"
      ]
     },
     "execution_count": 26,
     "metadata": {},
     "output_type": "execute_result"
    }
   ],
   "source": [
    "another_dict"
   ]
  },
  {
   "cell_type": "code",
   "execution_count": 27,
   "id": "1d5db2c9",
   "metadata": {},
   "outputs": [
    {
     "data": {
      "text/plain": [
       "'Federer'"
      ]
     },
     "execution_count": 27,
     "metadata": {},
     "output_type": "execute_result"
    }
   ],
   "source": [
    "z = another_dict.setdefault('Name')\n",
    "z"
   ]
  },
  {
   "cell_type": "markdown",
   "id": "86ddfaf3",
   "metadata": {},
   "source": [
    "## 18. Remove everything from a `dictionary` using `clear()` method"
   ]
  },
  {
   "cell_type": "code",
   "execution_count": 28,
   "id": "bc3f85f3",
   "metadata": {},
   "outputs": [
    {
     "data": {
      "text/plain": [
       "{'Name': 'Federer', 'Age': 42, 'G_S': 20, 'ATP_F': 6, 'ATP_1000': 28}"
      ]
     },
     "execution_count": 28,
     "metadata": {},
     "output_type": "execute_result"
    }
   ],
   "source": [
    "another_dict"
   ]
  },
  {
   "cell_type": "code",
   "execution_count": 29,
   "id": "f901caa1",
   "metadata": {},
   "outputs": [
    {
     "data": {
      "text/plain": [
       "{}"
      ]
     },
     "execution_count": 29,
     "metadata": {},
     "output_type": "execute_result"
    }
   ],
   "source": [
    "another_dict.clear()\n",
    "another_dict"
   ]
  },
  {
   "cell_type": "markdown",
   "id": "3c217368",
   "metadata": {},
   "source": [
    "## 19. Change the value of an existing item "
   ]
  },
  {
   "cell_type": "code",
   "execution_count": 30,
   "id": "d7a3d474",
   "metadata": {},
   "outputs": [
    {
     "data": {
      "text/plain": [
       "{2: 'B', 3: 'C', 4: 'D'}"
      ]
     },
     "execution_count": 30,
     "metadata": {},
     "output_type": "execute_result"
    }
   ],
   "source": [
    "dict_2"
   ]
  },
  {
   "cell_type": "code",
   "execution_count": 31,
   "id": "a59e59ab",
   "metadata": {},
   "outputs": [
    {
     "data": {
      "text/plain": [
       "{2: 'J', 3: 'C', 4: 'D'}"
      ]
     },
     "execution_count": 31,
     "metadata": {},
     "output_type": "execute_result"
    }
   ],
   "source": [
    "dict_2.update({2: 'J'})\n",
    "dict_2"
   ]
  },
  {
   "cell_type": "markdown",
   "id": "20fcaeb9",
   "metadata": {},
   "source": [
    "## 20. Nested `dictionary`"
   ]
  },
  {
   "cell_type": "code",
   "execution_count": 32,
   "id": "e540d06b",
   "metadata": {},
   "outputs": [
    {
     "data": {
      "text/plain": [
       "{'P': {'Subject1': 'Physics'},\n",
       " 'Q': {'Subject2': 'Chemistry'},\n",
       " 'R': {'Subject3': 'Biology'}}"
      ]
     },
     "execution_count": 32,
     "metadata": {},
     "output_type": "execute_result"
    }
   ],
   "source": [
    "nested = {'P': {'Subject1': 'Physics'}, 'Q': {'Subject2': 'Chemistry'}, 'R': {'Subject3': 'Biology'}}\n",
    "nested"
   ]
  },
  {
   "cell_type": "code",
   "execution_count": 33,
   "id": "1d54d7c0",
   "metadata": {},
   "outputs": [
    {
     "data": {
      "text/plain": [
       "{'Subject1': 'Physics'}"
      ]
     },
     "execution_count": 33,
     "metadata": {},
     "output_type": "execute_result"
    }
   ],
   "source": [
    "nested['P']"
   ]
  },
  {
   "cell_type": "code",
   "execution_count": 34,
   "id": "0ff2c2fc",
   "metadata": {},
   "outputs": [
    {
     "data": {
      "text/plain": [
       "'Physics'"
      ]
     },
     "execution_count": 34,
     "metadata": {},
     "output_type": "execute_result"
    }
   ],
   "source": [
    "nested['P']['Subject1']"
   ]
  },
  {
   "cell_type": "code",
   "execution_count": 35,
   "id": "bc5e532d",
   "metadata": {},
   "outputs": [
    {
     "data": {
      "text/plain": [
       "'Biology'"
      ]
     },
     "execution_count": 35,
     "metadata": {},
     "output_type": "execute_result"
    }
   ],
   "source": [
    "nested['R']['Subject3']"
   ]
  }
 ],
 "metadata": {
  "kernelspec": {
   "display_name": "Python 3 (ipykernel)",
   "language": "python",
   "name": "python3"
  },
  "language_info": {
   "codemirror_mode": {
    "name": "ipython",
    "version": 3
   },
   "file_extension": ".py",
   "mimetype": "text/x-python",
   "name": "python",
   "nbconvert_exporter": "python",
   "pygments_lexer": "ipython3",
   "version": "3.9.13"
  }
 },
 "nbformat": 4,
 "nbformat_minor": 5
}
