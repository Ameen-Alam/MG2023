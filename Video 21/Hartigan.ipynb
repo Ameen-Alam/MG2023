{
 "cells": [
  {
   "cell_type": "markdown",
   "id": "dce026e5",
   "metadata": {},
   "source": [
    "# <center style='color:dodgerblue'> Internal Cluster Validation: `Hartigan` index </center>"
   ]
  },
  {
   "cell_type": "markdown",
   "id": "ec690af9",
   "metadata": {},
   "source": [
    "## 1. Import required libraries"
   ]
  },
  {
   "cell_type": "code",
   "execution_count": 1,
   "id": "84f639dc",
   "metadata": {},
   "outputs": [
    {
     "name": "stdout",
     "output_type": "stream",
     "text": [
      "river module version: 0.7.0\n"
     ]
    }
   ],
   "source": [
    "import river\n",
    "print('river module version:', river.__version__)\n",
    "\n",
    "from river.cluster import KMeans\n",
    "from river.stream import iter_array\n",
    "from river.metrics.cluster import Hartigan\n",
    "\n",
    "from sklearn import datasets"
   ]
  },
  {
   "cell_type": "markdown",
   "id": "e095c25b",
   "metadata": {},
   "source": [
    "## 2. Create dataset "
   ]
  },
  {
   "cell_type": "code",
   "execution_count": 2,
   "id": "1129e0f0",
   "metadata": {},
   "outputs": [],
   "source": [
    "features, _ = datasets.make_classification(n_samples=250, n_features=4, random_state=0)"
   ]
  },
  {
   "cell_type": "markdown",
   "id": "f4b764f0",
   "metadata": {},
   "source": [
    "##### `Internal cluster validation` is applicaple in situations where ground truth information is absent. Hence, we didn't generate any labels while creating our dataset. "
   ]
  },
  {
   "cell_type": "code",
   "execution_count": 3,
   "id": "ae6b7d3b",
   "metadata": {},
   "outputs": [
    {
     "data": {
      "text/plain": [
       "(250, 4)"
      ]
     },
     "execution_count": 3,
     "metadata": {},
     "output_type": "execute_result"
    }
   ],
   "source": [
    "features.shape # (samples, features)"
   ]
  },
  {
   "cell_type": "markdown",
   "id": "f26e03e0",
   "metadata": {},
   "source": [
    "## 3. Perform K-Means clustering considering 2 and 3 clusters"
   ]
  },
  {
   "cell_type": "code",
   "execution_count": 4,
   "id": "db605bfc",
   "metadata": {},
   "outputs": [],
   "source": [
    "kmeans1 = KMeans(n_clusters=2, seed=0)\n",
    "kmeans2 = KMeans(n_clusters=3, seed=0)"
   ]
  },
  {
   "cell_type": "markdown",
   "id": "8eb442ab",
   "metadata": {},
   "source": [
    "## 4. Calculate `Hartigan` index"
   ]
  },
  {
   "cell_type": "code",
   "execution_count": 5,
   "id": "e395f183",
   "metadata": {},
   "outputs": [],
   "source": [
    "metric1 = Hartigan()\n",
    "metric2 = Hartigan()"
   ]
  },
  {
   "cell_type": "code",
   "execution_count": 6,
   "id": "315b5861",
   "metadata": {},
   "outputs": [],
   "source": [
    "for i, _ in iter_array(features):\n",
    "    kmeans1 = kmeans1.learn_one(i)\n",
    "    pred1 = kmeans1.predict_one(i)\n",
    "    clustering_metric1 = metric1.update(i, pred1, kmeans1.centers)"
   ]
  },
  {
   "cell_type": "code",
   "execution_count": 7,
   "id": "9cf88d81",
   "metadata": {},
   "outputs": [],
   "source": [
    "for i, _ in iter_array(features):\n",
    "    kmeans2 = kmeans2.learn_one(i)\n",
    "    pred2 = kmeans2.predict_one(i)\n",
    "    clustering_metric2 = metric2.update(i, pred2, kmeans2.centers)"
   ]
  },
  {
   "cell_type": "code",
   "execution_count": 8,
   "id": "28dad25b",
   "metadata": {},
   "outputs": [
    {
     "name": "stdout",
     "output_type": "stream",
     "text": [
      "Hartigan index for 2-clusters: 0.94261\n",
      "Hartigan index for 3-clusters: 2.06436\n"
     ]
    }
   ],
   "source": [
    "print('Hartigan index for 2-clusters:', round(clustering_metric1.get(), 5))\n",
    "print('Hartigan index for 3-clusters:', round(clustering_metric2.get(), 5))"
   ]
  },
  {
   "cell_type": "markdown",
   "id": "26f8d42e",
   "metadata": {},
   "source": [
    "### Higher value of `Hartigan` index indicates better clustering."
   ]
  }
 ],
 "metadata": {
  "kernelspec": {
   "display_name": "Python 3 (ipykernel)",
   "language": "python",
   "name": "python3"
  },
  "language_info": {
   "codemirror_mode": {
    "name": "ipython",
    "version": 3
   },
   "file_extension": ".py",
   "mimetype": "text/x-python",
   "name": "python",
   "nbconvert_exporter": "python",
   "pygments_lexer": "ipython3",
   "version": "3.9.13"
  }
 },
 "nbformat": 4,
 "nbformat_minor": 5
}
