{
 "cells": [
  {
   "cell_type": "markdown",
   "id": "6c86ee9d",
   "metadata": {},
   "source": [
    "# <center style='color:burlywood'> String Formatting in Python </center>"
   ]
  },
  {
   "cell_type": "markdown",
   "id": "e3cde4b2",
   "metadata": {},
   "source": [
    "# 1. The `%` operator"
   ]
  },
  {
   "cell_type": "code",
   "execution_count": 1,
   "id": "dda92978",
   "metadata": {},
   "outputs": [
    {
     "name": "stdout",
     "output_type": "stream",
     "text": [
      "Name: Roger Federer, Age: 42, Grand Slams: 20\n"
     ]
    }
   ],
   "source": [
    "print('Name: %s, Age: %d, Grand Slams: %d' % ('Roger Federer', 42, 20))"
   ]
  },
  {
   "cell_type": "code",
   "execution_count": 2,
   "id": "46b77f69",
   "metadata": {},
   "outputs": [
    {
     "name": "stdout",
     "output_type": "stream",
     "text": [
      "A_0\n",
      "A_1\n",
      "A_2\n",
      "A_3\n",
      "A_4\n",
      "A_5\n",
      "A_6\n",
      "A_7\n",
      "A_8\n",
      "A_9\n"
     ]
    }
   ],
   "source": [
    "for i in range(10):\n",
    "    print('A_' + str(i))"
   ]
  },
  {
   "cell_type": "code",
   "execution_count": 3,
   "id": "6337bd3e",
   "metadata": {},
   "outputs": [
    {
     "name": "stdout",
     "output_type": "stream",
     "text": [
      "A_0\n",
      "A_1\n",
      "A_2\n",
      "A_3\n",
      "A_4\n",
      "A_5\n",
      "A_6\n",
      "A_7\n",
      "A_8\n",
      "A_9\n"
     ]
    }
   ],
   "source": [
    "for i in range(10):\n",
    "    print('A_%d' % i)"
   ]
  },
  {
   "cell_type": "code",
   "execution_count": 4,
   "id": "beb960b5",
   "metadata": {},
   "outputs": [
    {
     "name": "stdout",
     "output_type": "stream",
     "text": [
      "Floating-point number: 10000.123450\n"
     ]
    }
   ],
   "source": [
    "print('Floating-point number: %f' % 10000.12345)"
   ]
  },
  {
   "cell_type": "code",
   "execution_count": 5,
   "id": "2b0b20d0",
   "metadata": {},
   "outputs": [
    {
     "name": "stdout",
     "output_type": "stream",
     "text": [
      "Floating-point number: 10000.123\n"
     ]
    }
   ],
   "source": [
    "print('Floating-point number: %.3f' % 10000.12345)"
   ]
  },
  {
   "cell_type": "code",
   "execution_count": 6,
   "id": "2c6df903",
   "metadata": {},
   "outputs": [
    {
     "name": "stdout",
     "output_type": "stream",
     "text": [
      "Floating-point number: 10000\n"
     ]
    }
   ],
   "source": [
    "print('Floating-point number: %.0f' % 10000.12345)"
   ]
  },
  {
   "cell_type": "markdown",
   "id": "f8964f13",
   "metadata": {},
   "source": [
    "# 2. The `format` method"
   ]
  },
  {
   "cell_type": "code",
   "execution_count": 7,
   "id": "75c01d41",
   "metadata": {},
   "outputs": [
    {
     "name": "stdout",
     "output_type": "stream",
     "text": [
      "Name: Roger Federer, Age: 42, Grand Slams: 20\n"
     ]
    }
   ],
   "source": [
    "print('Name: {}, Age: {}, Grand Slams: {}'.format('Roger Federer', 42, 20))"
   ]
  },
  {
   "cell_type": "code",
   "execution_count": 8,
   "id": "91e1a7f8",
   "metadata": {},
   "outputs": [
    {
     "name": "stdout",
     "output_type": "stream",
     "text": [
      "Name: Roger Federer, Age: 42, Grand Slams: 20\n"
     ]
    }
   ],
   "source": [
    "print('Name: {2}, Age: {1}, Grand Slams: {0}'.format(20, 42, 'Roger Federer'))"
   ]
  },
  {
   "cell_type": "code",
   "execution_count": 9,
   "id": "771364e8",
   "metadata": {},
   "outputs": [
    {
     "name": "stdout",
     "output_type": "stream",
     "text": [
      "Name: Roger Federer, Age: 42, Grand Slams: 20\n"
     ]
    }
   ],
   "source": [
    "print('Name: {c}, Age: {b}, Grand Slams: {a}'.format(a=20, b=42, c='Roger Federer'))"
   ]
  },
  {
   "cell_type": "code",
   "execution_count": 10,
   "id": "ba622dc8",
   "metadata": {},
   "outputs": [
    {
     "name": "stdout",
     "output_type": "stream",
     "text": [
      "A_0\n",
      "A_1\n",
      "A_2\n",
      "A_3\n",
      "A_4\n",
      "A_5\n",
      "A_6\n",
      "A_7\n",
      "A_8\n",
      "A_9\n"
     ]
    }
   ],
   "source": [
    "for i in range(10):\n",
    "    print('A_{}'.format(i))"
   ]
  },
  {
   "cell_type": "code",
   "execution_count": 11,
   "id": "0b697583",
   "metadata": {},
   "outputs": [
    {
     "name": "stdout",
     "output_type": "stream",
     "text": [
      "Floating-point number: 10000.12345\n"
     ]
    }
   ],
   "source": [
    "print('Floating-point number: {}'.format(10000.12345))"
   ]
  },
  {
   "cell_type": "code",
   "execution_count": 12,
   "id": "2bb5c5d9",
   "metadata": {},
   "outputs": [
    {
     "name": "stdout",
     "output_type": "stream",
     "text": [
      "Floating-point number: 10000.123\n"
     ]
    }
   ],
   "source": [
    "print('Floating-point number: {:.3f}'.format(10000.12345))"
   ]
  },
  {
   "cell_type": "code",
   "execution_count": 13,
   "id": "9b27c4a9",
   "metadata": {},
   "outputs": [
    {
     "name": "stdout",
     "output_type": "stream",
     "text": [
      "Floating-point number: 10000.123450\n"
     ]
    }
   ],
   "source": [
    "print('Floating-point number: {:.6f}'.format(10000.12345))"
   ]
  },
  {
   "cell_type": "code",
   "execution_count": 14,
   "id": "a63d441f",
   "metadata": {},
   "outputs": [
    {
     "name": "stdout",
     "output_type": "stream",
     "text": [
      "Floating-point number: 10000\n"
     ]
    }
   ],
   "source": [
    "print('Floating-point number: {:.0f}'.format(10000.12345))"
   ]
  },
  {
   "cell_type": "markdown",
   "id": "e9869eda",
   "metadata": {},
   "source": [
    "# 3. The `f-string` "
   ]
  },
  {
   "cell_type": "code",
   "execution_count": 15,
   "id": "ab7c74ae",
   "metadata": {},
   "outputs": [
    {
     "name": "stdout",
     "output_type": "stream",
     "text": [
      "Name: Roger Federer, Age: 42, Grand Slams: 20\n"
     ]
    }
   ],
   "source": [
    "print(f\"Name: {'Roger Federer'}, Age: {42}, Grand Slams: {20}\")"
   ]
  },
  {
   "cell_type": "code",
   "execution_count": 16,
   "id": "0be5969a",
   "metadata": {},
   "outputs": [
    {
     "name": "stdout",
     "output_type": "stream",
     "text": [
      "A_0\n",
      "A_1\n",
      "A_2\n",
      "A_3\n",
      "A_4\n",
      "A_5\n",
      "A_6\n",
      "A_7\n",
      "A_8\n",
      "A_9\n"
     ]
    }
   ],
   "source": [
    "for i in range(10):\n",
    "    print(f'A_{i}')"
   ]
  },
  {
   "cell_type": "code",
   "execution_count": 17,
   "id": "b1a02336",
   "metadata": {},
   "outputs": [
    {
     "name": "stdout",
     "output_type": "stream",
     "text": [
      "Floating-point number: 10000.12345\n"
     ]
    }
   ],
   "source": [
    "print(f'Floating-point number: {10000.12345}')"
   ]
  },
  {
   "cell_type": "code",
   "execution_count": 18,
   "id": "42062671",
   "metadata": {},
   "outputs": [
    {
     "name": "stdout",
     "output_type": "stream",
     "text": [
      "Floating-point number: 10000.123\n"
     ]
    }
   ],
   "source": [
    "print(f'Floating-point number: {10000.12345:.3f}')"
   ]
  },
  {
   "cell_type": "code",
   "execution_count": 19,
   "id": "91db8ab4",
   "metadata": {},
   "outputs": [
    {
     "name": "stdout",
     "output_type": "stream",
     "text": [
      "Floating-point number: 10000.123450\n"
     ]
    }
   ],
   "source": [
    "print(f'Floating-point number: {10000.12345:.6f}')"
   ]
  },
  {
   "cell_type": "code",
   "execution_count": 20,
   "id": "fb536b55",
   "metadata": {},
   "outputs": [
    {
     "name": "stdout",
     "output_type": "stream",
     "text": [
      "Floating-point number: 10000\n"
     ]
    }
   ],
   "source": [
    "print(f'Floating-point number: {10000.12345:.0f}')"
   ]
  }
 ],
 "metadata": {
  "kernelspec": {
   "display_name": "Python 3 (ipykernel)",
   "language": "python",
   "name": "python3"
  },
  "language_info": {
   "codemirror_mode": {
    "name": "ipython",
    "version": 3
   },
   "file_extension": ".py",
   "mimetype": "text/x-python",
   "name": "python",
   "nbconvert_exporter": "python",
   "pygments_lexer": "ipython3",
   "version": "3.9.13"
  }
 },
 "nbformat": 4,
 "nbformat_minor": 5
}
