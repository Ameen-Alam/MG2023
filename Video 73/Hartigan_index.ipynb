{
 "cells": [
  {
   "cell_type": "markdown",
   "id": "d2146803",
   "metadata": {},
   "source": [
    "# <center>`Hartigan index`</center>"
   ]
  },
  {
   "cell_type": "markdown",
   "id": "7ca5f47b",
   "metadata": {},
   "source": [
    "# 1. Import required libraries"
   ]
  },
  {
   "cell_type": "code",
   "execution_count": 1,
   "id": "843fd473",
   "metadata": {},
   "outputs": [
    {
     "name": "stdout",
     "output_type": "stream",
     "text": [
      "river module version: 0.7.0\n"
     ]
    }
   ],
   "source": [
    "import river\n",
    "print('river module version:', river.__version__)\n",
    "\n",
    "from river.stream import iter_array\n",
    "from river.metrics.cluster import Hartigan\n",
    "\n",
    "import numpy as np\n",
    "import pandas as pd\n",
    "\n",
    "from sklearn.preprocessing import StandardScaler\n",
    "from sklearn import datasets\n",
    "from sklearn.cluster import KMeans\n",
    "\n",
    "from MODULE.ClustersFeatures import ClustersCharacteristics # custom module"
   ]
  },
  {
   "cell_type": "markdown",
   "id": "736f4a3f",
   "metadata": {},
   "source": [
    "# 2. Create dataset"
   ]
  },
  {
   "cell_type": "code",
   "execution_count": 2,
   "id": "4d181fd6",
   "metadata": {},
   "outputs": [],
   "source": [
    "features, _ = datasets.make_blobs(n_samples=500, centers=3, random_state=0)"
   ]
  },
  {
   "cell_type": "code",
   "execution_count": 3,
   "id": "16915197",
   "metadata": {},
   "outputs": [
    {
     "data": {
      "text/plain": [
       "(500, 2)"
      ]
     },
     "execution_count": 3,
     "metadata": {},
     "output_type": "execute_result"
    }
   ],
   "source": [
    "features.shape"
   ]
  },
  {
   "cell_type": "markdown",
   "id": "91afcd9c",
   "metadata": {},
   "source": [
    "# 3. Perform preprocessing"
   ]
  },
  {
   "cell_type": "code",
   "execution_count": 4,
   "id": "234b9bde",
   "metadata": {},
   "outputs": [],
   "source": [
    "scaler = StandardScaler()\n",
    "scaled_features = scaler.fit_transform(features)"
   ]
  },
  {
   "cell_type": "markdown",
   "id": "455c665a",
   "metadata": {},
   "source": [
    "# 4. Perform `K-Means clustering`"
   ]
  },
  {
   "cell_type": "code",
   "execution_count": 5,
   "id": "d480ddbf",
   "metadata": {},
   "outputs": [],
   "source": [
    "kmeans = KMeans(n_clusters=3, n_init='auto', random_state=0)\n",
    "kmeans.fit(scaled_features)\n",
    "preds = kmeans.labels_"
   ]
  },
  {
   "cell_type": "markdown",
   "id": "3290d5c3",
   "metadata": {},
   "source": [
    "# 5. Create a dataframe"
   ]
  },
  {
   "cell_type": "code",
   "execution_count": 6,
   "id": "c0611d25",
   "metadata": {},
   "outputs": [
    {
     "data": {
      "text/html": [
       "<div>\n",
       "<style scoped>\n",
       "    .dataframe tbody tr th:only-of-type {\n",
       "        vertical-align: middle;\n",
       "    }\n",
       "\n",
       "    .dataframe tbody tr th {\n",
       "        vertical-align: top;\n",
       "    }\n",
       "\n",
       "    .dataframe thead th {\n",
       "        text-align: right;\n",
       "    }\n",
       "</style>\n",
       "<table border=\"1\" class=\"dataframe\">\n",
       "  <thead>\n",
       "    <tr style=\"text-align: right;\">\n",
       "      <th></th>\n",
       "      <th>0</th>\n",
       "      <th>1</th>\n",
       "      <th>class</th>\n",
       "    </tr>\n",
       "  </thead>\n",
       "  <tbody>\n",
       "    <tr>\n",
       "      <th>0</th>\n",
       "      <td>0.387897</td>\n",
       "      <td>1.127112</td>\n",
       "      <td>2</td>\n",
       "    </tr>\n",
       "    <tr>\n",
       "      <th>1</th>\n",
       "      <td>-1.366036</td>\n",
       "      <td>0.535399</td>\n",
       "      <td>0</td>\n",
       "    </tr>\n",
       "    <tr>\n",
       "      <th>2</th>\n",
       "      <td>-1.424717</td>\n",
       "      <td>-0.452852</td>\n",
       "      <td>0</td>\n",
       "    </tr>\n",
       "    <tr>\n",
       "      <th>3</th>\n",
       "      <td>0.684388</td>\n",
       "      <td>0.003832</td>\n",
       "      <td>1</td>\n",
       "    </tr>\n",
       "    <tr>\n",
       "      <th>4</th>\n",
       "      <td>-0.804022</td>\n",
       "      <td>1.008488</td>\n",
       "      <td>0</td>\n",
       "    </tr>\n",
       "  </tbody>\n",
       "</table>\n",
       "</div>"
      ],
      "text/plain": [
       "          0         1  class\n",
       "0  0.387897  1.127112      2\n",
       "1 -1.366036  0.535399      0\n",
       "2 -1.424717 -0.452852      0\n",
       "3  0.684388  0.003832      1\n",
       "4 -0.804022  1.008488      0"
      ]
     },
     "execution_count": 6,
     "metadata": {},
     "output_type": "execute_result"
    }
   ],
   "source": [
    "df = pd.DataFrame(scaled_features)\n",
    "df['class'] = preds\n",
    "df.head()"
   ]
  },
  {
   "cell_type": "markdown",
   "id": "1b89d8cb",
   "metadata": {},
   "source": [
    "# 6. Calculate Hartigan index using `ClustersFeatures` module"
   ]
  },
  {
   "cell_type": "code",
   "execution_count": 7,
   "id": "57a628d6",
   "metadata": {},
   "outputs": [],
   "source": [
    "cc = ClustersCharacteristics(df, label_target='class')"
   ]
  },
  {
   "cell_type": "code",
   "execution_count": 8,
   "id": "a6a7df79",
   "metadata": {},
   "outputs": [
    {
     "data": {
      "text/plain": [
       "2.53056"
      ]
     },
     "execution_count": 8,
     "metadata": {},
     "output_type": "execute_result"
    }
   ],
   "source": [
    "round(cc.score_between_group_dispersion() / cc.score_pooled_within_cluster_dispersion(), 5)"
   ]
  },
  {
   "cell_type": "code",
   "execution_count": 9,
   "id": "17b8c4b1",
   "metadata": {},
   "outputs": [
    {
     "data": {
      "text/plain": [
       "0.92844"
      ]
     },
     "execution_count": 9,
     "metadata": {},
     "output_type": "execute_result"
    }
   ],
   "source": [
    "round(np.log(cc.score_between_group_dispersion() / cc.score_pooled_within_cluster_dispersion()), 5)"
   ]
  },
  {
   "cell_type": "code",
   "execution_count": 10,
   "id": "8ab0949f",
   "metadata": {},
   "outputs": [
    {
     "name": "stdout",
     "output_type": "stream",
     "text": [
      "Hartigan index using ClustersFeatures module: 0.92844\n"
     ]
    }
   ],
   "source": [
    "print('Hartigan index using ClustersFeatures module:', round(cc.score_index_log_ss_ratio(), 5))"
   ]
  },
  {
   "cell_type": "markdown",
   "id": "ae85070f",
   "metadata": {},
   "source": [
    "# 7. Calculate Hartigan index using `river` module"
   ]
  },
  {
   "cell_type": "code",
   "execution_count": 11,
   "id": "f79ffeff",
   "metadata": {},
   "outputs": [
    {
     "data": {
      "text/html": [
       "<div>\n",
       "<style scoped>\n",
       "    .dataframe tbody tr th:only-of-type {\n",
       "        vertical-align: middle;\n",
       "    }\n",
       "\n",
       "    .dataframe tbody tr th {\n",
       "        vertical-align: top;\n",
       "    }\n",
       "\n",
       "    .dataframe thead th {\n",
       "        text-align: right;\n",
       "    }\n",
       "</style>\n",
       "<table border=\"1\" class=\"dataframe\">\n",
       "  <thead>\n",
       "    <tr style=\"text-align: right;\">\n",
       "      <th>class</th>\n",
       "      <th>0</th>\n",
       "      <th>1</th>\n",
       "      <th>2</th>\n",
       "    </tr>\n",
       "  </thead>\n",
       "  <tbody>\n",
       "    <tr>\n",
       "      <th>0</th>\n",
       "      <td>-1.125549</td>\n",
       "      <td>0.888798</td>\n",
       "      <td>0.247540</td>\n",
       "    </tr>\n",
       "    <tr>\n",
       "      <th>1</th>\n",
       "      <td>0.127389</td>\n",
       "      <td>-1.062069</td>\n",
       "      <td>1.006024</td>\n",
       "    </tr>\n",
       "  </tbody>\n",
       "</table>\n",
       "</div>"
      ],
      "text/plain": [
       "class         0         1         2\n",
       "0     -1.125549  0.888798  0.247540\n",
       "1      0.127389 -1.062069  1.006024"
      ]
     },
     "execution_count": 11,
     "metadata": {},
     "output_type": "execute_result"
    }
   ],
   "source": [
    "cc.data_centroids"
   ]
  },
  {
   "cell_type": "code",
   "execution_count": 12,
   "id": "67228315",
   "metadata": {},
   "outputs": [],
   "source": [
    "metric = Hartigan()"
   ]
  },
  {
   "cell_type": "code",
   "execution_count": 13,
   "id": "0183448f",
   "metadata": {},
   "outputs": [],
   "source": [
    "for k, l in iter_array(scaled_features, preds):\n",
    "    clustering_metric = metric.update(k, l, dict(cc.data_centroids))"
   ]
  },
  {
   "cell_type": "code",
   "execution_count": 14,
   "id": "8994cdf3",
   "metadata": {},
   "outputs": [
    {
     "name": "stdout",
     "output_type": "stream",
     "text": [
      "Hartigan index using river module: 0.92844\n"
     ]
    }
   ],
   "source": [
    "print('Hartigan index using river module:', round(clustering_metric.get(), 5))"
   ]
  }
 ],
 "metadata": {
  "kernelspec": {
   "display_name": "Python 3 (ipykernel)",
   "language": "python",
   "name": "python3"
  },
  "language_info": {
   "codemirror_mode": {
    "name": "ipython",
    "version": 3
   },
   "file_extension": ".py",
   "mimetype": "text/x-python",
   "name": "python",
   "nbconvert_exporter": "python",
   "pygments_lexer": "ipython3",
   "version": "3.9.13"
  }
 },
 "nbformat": 4,
 "nbformat_minor": 5
}
