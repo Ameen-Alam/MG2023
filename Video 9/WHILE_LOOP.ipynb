{
 "cells": [
  {
   "cell_type": "markdown",
   "id": "3554c272",
   "metadata": {},
   "source": [
    "# <center style='color:khaki'> Different uses of `while` loop in Python programming language </center>"
   ]
  },
  {
   "cell_type": "markdown",
   "id": "ae0f0752",
   "metadata": {},
   "source": [
    "## 1. Simplest `while` loop"
   ]
  },
  {
   "cell_type": "code",
   "execution_count": 1,
   "id": "6043565d",
   "metadata": {},
   "outputs": [
    {
     "name": "stdout",
     "output_type": "stream",
     "text": [
      "0\n",
      "1\n",
      "2\n",
      "3\n",
      "4\n",
      "5\n",
      "6\n",
      "7\n",
      "8\n",
      "9\n"
     ]
    }
   ],
   "source": [
    "digit = 0\n",
    "\n",
    "while digit < 10: # condition\n",
    "    print(digit) # print vertically\n",
    "    digit = digit + 1"
   ]
  },
  {
   "cell_type": "code",
   "execution_count": 2,
   "id": "61b5fb1a",
   "metadata": {},
   "outputs": [
    {
     "name": "stdout",
     "output_type": "stream",
     "text": [
      "0 1 2 3 4 5 6 7 8 9 "
     ]
    }
   ],
   "source": [
    "digit = 0\n",
    "\n",
    "while digit < 10:\n",
    "    print(digit, end=' ') # print horizontally\n",
    "    digit += 1"
   ]
  },
  {
   "cell_type": "markdown",
   "id": "07218615",
   "metadata": {},
   "source": [
    "## 2. Print a message till the `condition` remains `True`"
   ]
  },
  {
   "cell_type": "code",
   "execution_count": 3,
   "id": "dc38f651",
   "metadata": {},
   "outputs": [
    {
     "name": "stdout",
     "output_type": "stream",
     "text": [
      "RUN!\n",
      "RUN!\n",
      "RUN!\n",
      "RUN!\n",
      "RUN!\n"
     ]
    }
   ],
   "source": [
    "i = 0\n",
    "\n",
    "while i < 5:\n",
    "    print('RUN!')\n",
    "    i += 1"
   ]
  },
  {
   "cell_type": "markdown",
   "id": "8b05a894",
   "metadata": {},
   "source": [
    "## 3. `break` and `continue` statements within `while` loop"
   ]
  },
  {
   "cell_type": "code",
   "execution_count": 4,
   "id": "8015f8ee",
   "metadata": {},
   "outputs": [
    {
     "name": "stdout",
     "output_type": "stream",
     "text": [
      "1 2 4 5 6 7 8 9 10 "
     ]
    }
   ],
   "source": [
    "digit = 0\n",
    "\n",
    "while digit < 10:\n",
    "    digit += 1\n",
    "    if digit == 3: continue # will not print 3\n",
    "    print(digit, end=' ')"
   ]
  },
  {
   "cell_type": "code",
   "execution_count": 5,
   "id": "965882bf",
   "metadata": {},
   "outputs": [
    {
     "name": "stdout",
     "output_type": "stream",
     "text": [
      "1 2 3 4 5 6 7 "
     ]
    }
   ],
   "source": [
    "digit = 0\n",
    "\n",
    "while digit < 10:\n",
    "    digit += 1\n",
    "    if digit == 8: break # will not print 8 (loop gets terminated)\n",
    "    print(digit, end=' ')"
   ]
  },
  {
   "cell_type": "code",
   "execution_count": 6,
   "id": "6818db55",
   "metadata": {},
   "outputs": [
    {
     "name": "stdout",
     "output_type": "stream",
     "text": [
      "1 2 4 5 6 7 "
     ]
    }
   ],
   "source": [
    "digit = 0\n",
    "\n",
    "while digit < 10:\n",
    "    digit += 1\n",
    "    if digit == 3: continue # will not print 3\n",
    "    if digit == 8: break # will not print 8 (loop gets terminated)\n",
    "    print(digit, end=' ')"
   ]
  },
  {
   "cell_type": "markdown",
   "id": "eea39a10",
   "metadata": {},
   "source": [
    "## 4. `else` statement with `while` loop"
   ]
  },
  {
   "cell_type": "code",
   "execution_count": 7,
   "id": "8efe40e9",
   "metadata": {},
   "outputs": [
    {
     "name": "stdout",
     "output_type": "stream",
     "text": [
      "0\n",
      "1\n",
      "2\n",
      "3\n",
      "4\n",
      "5\n",
      "6\n",
      "7\n",
      "8\n",
      "9\n",
      "10\n",
      "11 is greater than 10\n"
     ]
    }
   ],
   "source": [
    "digit = 0\n",
    "\n",
    "while digit <= 10:\n",
    "    print(digit)\n",
    "    digit += 1\n",
    "else: print(digit, 'is greater than', digit - 1)"
   ]
  },
  {
   "cell_type": "markdown",
   "id": "1cd4e869",
   "metadata": {},
   "source": [
    "## 5. `while` loop and `list`"
   ]
  },
  {
   "cell_type": "code",
   "execution_count": 8,
   "id": "afebe522",
   "metadata": {},
   "outputs": [
    {
     "name": "stdout",
     "output_type": "stream",
     "text": [
      "apple\n",
      "orange\n",
      "banana\n",
      "watermelon\n",
      "cherry\n"
     ]
    }
   ],
   "source": [
    "fruits = ['apple', 'orange', 'banana', 'watermelon', 'cherry']\n",
    "\n",
    "j = 0\n",
    "while j < len(fruits):\n",
    "    print(fruits[j]) # print items vertically\n",
    "    j += 1"
   ]
  },
  {
   "cell_type": "markdown",
   "id": "0fd3ce5b",
   "metadata": {},
   "source": [
    "## 6. `while` loop through a `string`"
   ]
  },
  {
   "cell_type": "code",
   "execution_count": 9,
   "id": "378fd365",
   "metadata": {},
   "outputs": [
    {
     "name": "stdout",
     "output_type": "stream",
     "text": [
      "t\n",
      "o\n",
      "k\n",
      "y\n",
      "o\n"
     ]
    }
   ],
   "source": [
    "city = 'tokyo'\n",
    "\n",
    "l = 0\n",
    "while l < len(city):\n",
    "    print(city[l]) # print string elements vertically\n",
    "    l += 1"
   ]
  },
  {
   "cell_type": "code",
   "execution_count": 10,
   "id": "88bd7f4f",
   "metadata": {},
   "outputs": [
    {
     "name": "stdout",
     "output_type": "stream",
     "text": [
      "t o k y o "
     ]
    }
   ],
   "source": [
    "city = 'tokyo'\n",
    "\n",
    "l = 0\n",
    "while l < len(city):\n",
    "    print(city[l], end=' ') # print string elements horizontally\n",
    "    l += 1"
   ]
  },
  {
   "cell_type": "markdown",
   "id": "37aea70e",
   "metadata": {},
   "source": [
    "## 7. Iterate through a `dictionary` using `while` loop"
   ]
  },
  {
   "cell_type": "code",
   "execution_count": 11,
   "id": "dbdf04a4",
   "metadata": {},
   "outputs": [
    {
     "name": "stdout",
     "output_type": "stream",
     "text": [
      "A | 1\n",
      "B | 2\n",
      "C | 3\n"
     ]
    }
   ],
   "source": [
    "create = {'A': 1, 'B': 2, 'C': 3}\n",
    "\n",
    "while create:\n",
    "    get = next(item for item in create)\n",
    "    print(get, '|', create.pop(get))"
   ]
  },
  {
   "cell_type": "markdown",
   "id": "872df1a7",
   "metadata": {},
   "source": [
    "## 8. Iterate through a `tuple` using `while` loop"
   ]
  },
  {
   "cell_type": "code",
   "execution_count": 12,
   "id": "17583185",
   "metadata": {},
   "outputs": [
    {
     "name": "stdout",
     "output_type": "stream",
     "text": [
      "Federer\n",
      "Nadal\n",
      "Djokovic\n",
      "Murray\n",
      "Roddick\n"
     ]
    }
   ],
   "source": [
    "players = ('Federer', 'Nadal', 'Djokovic', 'Murray', 'Roddick')\n",
    "\n",
    "k = 0\n",
    "while k < len(players):\n",
    "    print(players[k]) # print vertically\n",
    "    k += 1"
   ]
  },
  {
   "cell_type": "markdown",
   "id": "a3b5e9ce",
   "metadata": {},
   "source": [
    "## 9. Iterate through a `set` using `while` loop"
   ]
  },
  {
   "cell_type": "code",
   "execution_count": 13,
   "id": "051b8b86",
   "metadata": {},
   "outputs": [
    {
     "name": "stdout",
     "output_type": "stream",
     "text": [
      "C\n",
      "B\n",
      "E\n",
      "D\n",
      "A\n"
     ]
    }
   ],
   "source": [
    "letters = {'A', 'B', 'C', 'D', 'E'}\n",
    "\n",
    "letters_to_list = list(letters)\n",
    "\n",
    "m = 0\n",
    "while m < len(letters_to_list):\n",
    "    print(letters_to_list[m]) # print vertically\n",
    "    m += 1 "
   ]
  },
  {
   "cell_type": "markdown",
   "id": "1d8150b3",
   "metadata": {},
   "source": [
    "#### notice that the order of the elements are not maintained even after converting the `set` into a `list` "
   ]
  },
  {
   "cell_type": "markdown",
   "id": "8972572a",
   "metadata": {},
   "source": [
    "## 10. Nested `while` loops"
   ]
  },
  {
   "cell_type": "code",
   "execution_count": 14,
   "id": "9fca6258",
   "metadata": {},
   "outputs": [
    {
     "name": "stdout",
     "output_type": "stream",
     "text": [
      "5 | 10\n",
      "6 | 11\n",
      "7 | 12\n",
      "8 | 13\n",
      "9 | 14\n"
     ]
    }
   ],
   "source": [
    "p, q = 5, 10\n",
    "\n",
    "while p < 10:\n",
    "    while q < 15:\n",
    "        print(p, '|', q)\n",
    "        p += 1\n",
    "        q += 1"
   ]
  },
  {
   "cell_type": "markdown",
   "id": "43df3619",
   "metadata": {},
   "source": [
    "## 11. `while` loop and `range` function"
   ]
  },
  {
   "cell_type": "code",
   "execution_count": 15,
   "id": "83d5fbd3",
   "metadata": {},
   "outputs": [
    {
     "name": "stdout",
     "output_type": "stream",
     "text": [
      "0\n",
      "1\n",
      "2\n",
      "3\n",
      "4\n",
      "5\n",
      "6\n",
      "7\n",
      "8\n",
      "9\n"
     ]
    }
   ],
   "source": [
    "item = 0\n",
    "\n",
    "while item in range(10):\n",
    "    print(item) # print vertically\n",
    "    item += 1"
   ]
  }
 ],
 "metadata": {
  "kernelspec": {
   "display_name": "Python 3",
   "language": "python",
   "name": "python3"
  },
  "language_info": {
   "codemirror_mode": {
    "name": "ipython",
    "version": 3
   },
   "file_extension": ".py",
   "mimetype": "text/x-python",
   "name": "python",
   "nbconvert_exporter": "python",
   "pygments_lexer": "ipython3",
   "version": "3.8.13"
  }
 },
 "nbformat": 4,
 "nbformat_minor": 5
}
