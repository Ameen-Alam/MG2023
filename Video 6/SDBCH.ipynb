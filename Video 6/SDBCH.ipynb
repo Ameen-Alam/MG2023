{
 "cells": [
  {
   "cell_type": "markdown",
   "id": "dce026e5",
   "metadata": {},
   "source": [
    "# <center style='color:tan'> Internal Cluster Validation: `Silhouette` Score, `Davies-Bouldin (DB)` Score, `Calinski-Harabasz (CH)` Score </center>"
   ]
  },
  {
   "cell_type": "markdown",
   "id": "ec690af9",
   "metadata": {},
   "source": [
    "# 1. Import required libraries"
   ]
  },
  {
   "cell_type": "code",
   "execution_count": 1,
   "id": "84f639dc",
   "metadata": {},
   "outputs": [],
   "source": [
    "from sklearn import datasets\n",
    "from sklearn.cluster import KMeans\n",
    "from sklearn.preprocessing import StandardScaler\n",
    "from sklearn.metrics import silhouette_score\n",
    "from sklearn.metrics import davies_bouldin_score\n",
    "from sklearn.metrics import calinski_harabasz_score\n",
    "\n",
    "import pandas as pd\n",
    "import numpy as np"
   ]
  },
  {
   "cell_type": "markdown",
   "id": "e095c25b",
   "metadata": {},
   "source": [
    "# 2. Create dataset "
   ]
  },
  {
   "cell_type": "code",
   "execution_count": 2,
   "id": "1129e0f0",
   "metadata": {},
   "outputs": [],
   "source": [
    "features, _ = datasets.make_classification(n_samples=150, n_features=4, random_state=42)"
   ]
  },
  {
   "cell_type": "markdown",
   "id": "f4b764f0",
   "metadata": {},
   "source": [
    "##### `Internal cluster validation` is applicaple in situations where ground truth information is absent. Hence, we didn't generate any labels while creating our dataset. "
   ]
  },
  {
   "cell_type": "code",
   "execution_count": 3,
   "id": "ae6b7d3b",
   "metadata": {},
   "outputs": [
    {
     "data": {
      "text/plain": [
       "(150, 4)"
      ]
     },
     "execution_count": 3,
     "metadata": {},
     "output_type": "execute_result"
    }
   ],
   "source": [
    "features.shape # (samples, features)"
   ]
  },
  {
   "cell_type": "markdown",
   "id": "3147faab",
   "metadata": {},
   "source": [
    "# 3. Perform preprocessing"
   ]
  },
  {
   "cell_type": "code",
   "execution_count": 4,
   "id": "bd80d954",
   "metadata": {},
   "outputs": [],
   "source": [
    "scaler = StandardScaler()\n",
    "scaled = scaler.fit_transform(features)"
   ]
  },
  {
   "cell_type": "markdown",
   "id": "8d55d073",
   "metadata": {},
   "source": [
    "# 4. Create a dataframe"
   ]
  },
  {
   "cell_type": "code",
   "execution_count": 5,
   "id": "2f43bc4a",
   "metadata": {},
   "outputs": [
    {
     "data": {
      "text/html": [
       "<div>\n",
       "<style scoped>\n",
       "    .dataframe tbody tr th:only-of-type {\n",
       "        vertical-align: middle;\n",
       "    }\n",
       "\n",
       "    .dataframe tbody tr th {\n",
       "        vertical-align: top;\n",
       "    }\n",
       "\n",
       "    .dataframe thead th {\n",
       "        text-align: right;\n",
       "    }\n",
       "</style>\n",
       "<table border=\"1\" class=\"dataframe\">\n",
       "  <thead>\n",
       "    <tr style=\"text-align: right;\">\n",
       "      <th></th>\n",
       "      <th>0</th>\n",
       "      <th>1</th>\n",
       "      <th>2</th>\n",
       "      <th>3</th>\n",
       "    </tr>\n",
       "  </thead>\n",
       "  <tbody>\n",
       "    <tr>\n",
       "      <th>0</th>\n",
       "      <td>0.829921</td>\n",
       "      <td>-0.178240</td>\n",
       "      <td>-0.833476</td>\n",
       "      <td>0.501655</td>\n",
       "    </tr>\n",
       "    <tr>\n",
       "      <th>1</th>\n",
       "      <td>-1.743379</td>\n",
       "      <td>-1.322680</td>\n",
       "      <td>1.694849</td>\n",
       "      <td>-2.255140</td>\n",
       "    </tr>\n",
       "    <tr>\n",
       "      <th>2</th>\n",
       "      <td>-0.683461</td>\n",
       "      <td>-0.688386</td>\n",
       "      <td>0.658830</td>\n",
       "      <td>-1.004322</td>\n",
       "    </tr>\n",
       "    <tr>\n",
       "      <th>3</th>\n",
       "      <td>0.120082</td>\n",
       "      <td>1.337376</td>\n",
       "      <td>-0.075615</td>\n",
       "      <td>1.037536</td>\n",
       "    </tr>\n",
       "    <tr>\n",
       "      <th>4</th>\n",
       "      <td>0.281618</td>\n",
       "      <td>-0.579304</td>\n",
       "      <td>-0.299945</td>\n",
       "      <td>-0.197034</td>\n",
       "    </tr>\n",
       "  </tbody>\n",
       "</table>\n",
       "</div>"
      ],
      "text/plain": [
       "          0         1         2         3\n",
       "0  0.829921 -0.178240 -0.833476  0.501655\n",
       "1 -1.743379 -1.322680  1.694849 -2.255140\n",
       "2 -0.683461 -0.688386  0.658830 -1.004322\n",
       "3  0.120082  1.337376 -0.075615  1.037536\n",
       "4  0.281618 -0.579304 -0.299945 -0.197034"
      ]
     },
     "execution_count": 5,
     "metadata": {},
     "output_type": "execute_result"
    }
   ],
   "source": [
    "df = pd.DataFrame(scaled)\n",
    "df.head()"
   ]
  },
  {
   "cell_type": "code",
   "execution_count": 6,
   "id": "32ce689b",
   "metadata": {},
   "outputs": [
    {
     "data": {
      "text/plain": [
       "(150, 4)"
      ]
     },
     "execution_count": 6,
     "metadata": {},
     "output_type": "execute_result"
    }
   ],
   "source": [
    "df.shape"
   ]
  },
  {
   "cell_type": "markdown",
   "id": "f26e03e0",
   "metadata": {},
   "source": [
    "# 5. Perform K-Means clustering considering 3 clusters"
   ]
  },
  {
   "cell_type": "code",
   "execution_count": 7,
   "id": "ee754413",
   "metadata": {},
   "outputs": [],
   "source": [
    "kmeans1 = KMeans(n_clusters=3, n_init='auto', random_state=42)\n",
    "kmeans1.fit(df)\n",
    "preds1 = kmeans1.labels_"
   ]
  },
  {
   "cell_type": "markdown",
   "id": "33b9b807",
   "metadata": {},
   "source": [
    "# 6. Perform K-Means clustering considering 4 clusters"
   ]
  },
  {
   "cell_type": "code",
   "execution_count": 8,
   "id": "f8427995",
   "metadata": {},
   "outputs": [],
   "source": [
    "kmeans2 = KMeans(n_clusters=4, n_init='auto', random_state=42)\n",
    "kmeans2.fit(df)\n",
    "preds2 = kmeans2.labels_"
   ]
  },
  {
   "cell_type": "markdown",
   "id": "8eb442ab",
   "metadata": {},
   "source": [
    "# 7. Add two new columns to our dataframe"
   ]
  },
  {
   "cell_type": "code",
   "execution_count": 9,
   "id": "8451208c",
   "metadata": {},
   "outputs": [
    {
     "data": {
      "text/html": [
       "<div>\n",
       "<style scoped>\n",
       "    .dataframe tbody tr th:only-of-type {\n",
       "        vertical-align: middle;\n",
       "    }\n",
       "\n",
       "    .dataframe tbody tr th {\n",
       "        vertical-align: top;\n",
       "    }\n",
       "\n",
       "    .dataframe thead th {\n",
       "        text-align: right;\n",
       "    }\n",
       "</style>\n",
       "<table border=\"1\" class=\"dataframe\">\n",
       "  <thead>\n",
       "    <tr style=\"text-align: right;\">\n",
       "      <th></th>\n",
       "      <th>0</th>\n",
       "      <th>1</th>\n",
       "      <th>2</th>\n",
       "      <th>3</th>\n",
       "      <th>Prediction1</th>\n",
       "      <th>Prediction2</th>\n",
       "    </tr>\n",
       "  </thead>\n",
       "  <tbody>\n",
       "    <tr>\n",
       "      <th>0</th>\n",
       "      <td>0.829921</td>\n",
       "      <td>-0.178240</td>\n",
       "      <td>-0.833476</td>\n",
       "      <td>0.501655</td>\n",
       "      <td>1</td>\n",
       "      <td>1</td>\n",
       "    </tr>\n",
       "    <tr>\n",
       "      <th>1</th>\n",
       "      <td>-1.743379</td>\n",
       "      <td>-1.322680</td>\n",
       "      <td>1.694849</td>\n",
       "      <td>-2.255140</td>\n",
       "      <td>2</td>\n",
       "      <td>2</td>\n",
       "    </tr>\n",
       "    <tr>\n",
       "      <th>2</th>\n",
       "      <td>-0.683461</td>\n",
       "      <td>-0.688386</td>\n",
       "      <td>0.658830</td>\n",
       "      <td>-1.004322</td>\n",
       "      <td>2</td>\n",
       "      <td>2</td>\n",
       "    </tr>\n",
       "    <tr>\n",
       "      <th>3</th>\n",
       "      <td>0.120082</td>\n",
       "      <td>1.337376</td>\n",
       "      <td>-0.075615</td>\n",
       "      <td>1.037536</td>\n",
       "      <td>1</td>\n",
       "      <td>3</td>\n",
       "    </tr>\n",
       "    <tr>\n",
       "      <th>4</th>\n",
       "      <td>0.281618</td>\n",
       "      <td>-0.579304</td>\n",
       "      <td>-0.299945</td>\n",
       "      <td>-0.197034</td>\n",
       "      <td>1</td>\n",
       "      <td>1</td>\n",
       "    </tr>\n",
       "  </tbody>\n",
       "</table>\n",
       "</div>"
      ],
      "text/plain": [
       "          0         1         2         3  Prediction1  Prediction2\n",
       "0  0.829921 -0.178240 -0.833476  0.501655            1            1\n",
       "1 -1.743379 -1.322680  1.694849 -2.255140            2            2\n",
       "2 -0.683461 -0.688386  0.658830 -1.004322            2            2\n",
       "3  0.120082  1.337376 -0.075615  1.037536            1            3\n",
       "4  0.281618 -0.579304 -0.299945 -0.197034            1            1"
      ]
     },
     "execution_count": 9,
     "metadata": {},
     "output_type": "execute_result"
    }
   ],
   "source": [
    "df['Prediction1'] = preds1\n",
    "df['Prediction2'] = preds2\n",
    "df.head()"
   ]
  },
  {
   "cell_type": "code",
   "execution_count": 10,
   "id": "6d5cac69",
   "metadata": {},
   "outputs": [
    {
     "name": "stdout",
     "output_type": "stream",
     "text": [
      "[1 2 0]\n",
      "[1 2 3 0]\n"
     ]
    }
   ],
   "source": [
    "print(df['Prediction1'].unique())\n",
    "print(df['Prediction2'].unique())"
   ]
  },
  {
   "cell_type": "markdown",
   "id": "f2e13a06",
   "metadata": {},
   "source": [
    "The two lines shown above are displaying the unique labels present in the `K-Means` clustering outcome considering 3 and 4 clusters, respectively."
   ]
  },
  {
   "cell_type": "markdown",
   "id": "3b5fac98",
   "metadata": {},
   "source": [
    "# 8. Separate features and labels"
   ]
  },
  {
   "cell_type": "code",
   "execution_count": 11,
   "id": "1f1dd897",
   "metadata": {},
   "outputs": [],
   "source": [
    "df_f = df.iloc[:, :-2]\n",
    "df_l1 = df['Prediction1']\n",
    "df_l2 = df['Prediction2']"
   ]
  },
  {
   "cell_type": "markdown",
   "id": "3b0d2c40",
   "metadata": {},
   "source": [
    "# 9. Calculate `Silhouette` score"
   ]
  },
  {
   "cell_type": "code",
   "execution_count": 12,
   "id": "7fbf5adb",
   "metadata": {},
   "outputs": [
    {
     "name": "stdout",
     "output_type": "stream",
     "text": [
      "Silhouette score for 3-clusters: 0.36634\n",
      "Silhouette score for 4-clusters: 0.39327\n"
     ]
    }
   ],
   "source": [
    "print('Silhouette score for 3-clusters:', round(silhouette_score(df_f, df_l1), 5))\n",
    "print('Silhouette score for 4-clusters:', round(silhouette_score(df_f, df_l2), 5))"
   ]
  },
  {
   "cell_type": "markdown",
   "id": "12bcb061",
   "metadata": {},
   "source": [
    "## A higher value of `Silhouette` score indicates better clustering."
   ]
  },
  {
   "cell_type": "markdown",
   "id": "f595f28e",
   "metadata": {},
   "source": [
    "# 10. Calculate `Davies-Bouldin (DB)` score "
   ]
  },
  {
   "cell_type": "code",
   "execution_count": 13,
   "id": "1a3d49c9",
   "metadata": {},
   "outputs": [
    {
     "name": "stdout",
     "output_type": "stream",
     "text": [
      "Davies-Bouldin (DB) score for 3-clusters: 0.90118\n",
      "Davies-Bouldin (DB) score for 4-clusters: 0.87543\n"
     ]
    }
   ],
   "source": [
    "print('Davies-Bouldin (DB) score for 3-clusters:', round(davies_bouldin_score(df_f, df_l1), 5))\n",
    "print('Davies-Bouldin (DB) score for 4-clusters:', round(davies_bouldin_score(df_f, df_l2), 5))"
   ]
  },
  {
   "cell_type": "markdown",
   "id": "778b6f21",
   "metadata": {},
   "source": [
    "## A lower value of `Davies-Bouldin (DB)` score indicates better clustering."
   ]
  },
  {
   "cell_type": "markdown",
   "id": "8a8e865f",
   "metadata": {},
   "source": [
    "# 11. Calculate `Calinski-Harabasz (CH)` score"
   ]
  },
  {
   "cell_type": "code",
   "execution_count": 14,
   "id": "494415eb",
   "metadata": {},
   "outputs": [
    {
     "name": "stdout",
     "output_type": "stream",
     "text": [
      "Calinski-Harabasz (CH) score for 3-clusters: 99.92173\n",
      "Calinski-Harabasz (CH) score for 4-clusters: 125.73525\n"
     ]
    }
   ],
   "source": [
    "print('Calinski-Harabasz (CH) score for 3-clusters:', round(calinski_harabasz_score(df_f, df_l1), 5))\n",
    "print('Calinski-Harabasz (CH) score for 4-clusters:', round(calinski_harabasz_score(df_f, df_l2), 5))"
   ]
  },
  {
   "cell_type": "markdown",
   "id": "708aea73",
   "metadata": {},
   "source": [
    "## A higher value of `Calinski-Harabasz (CH)` score indicates better clustering."
   ]
  }
 ],
 "metadata": {
  "kernelspec": {
   "display_name": "Python 3 (ipykernel)",
   "language": "python",
   "name": "python3"
  },
  "language_info": {
   "codemirror_mode": {
    "name": "ipython",
    "version": 3
   },
   "file_extension": ".py",
   "mimetype": "text/x-python",
   "name": "python",
   "nbconvert_exporter": "python",
   "pygments_lexer": "ipython3",
   "version": "3.9.13"
  }
 },
 "nbformat": 4,
 "nbformat_minor": 5
}
