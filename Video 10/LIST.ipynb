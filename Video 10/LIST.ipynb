{
 "cells": [
  {
   "cell_type": "markdown",
   "id": "c95bf46e",
   "metadata": {},
   "source": [
    "# <center style='color:indigo'> `Lists` in Python </center>"
   ]
  },
  {
   "cell_type": "markdown",
   "id": "d1c646f4",
   "metadata": {},
   "source": [
    "## 1. Create a `list`"
   ]
  },
  {
   "cell_type": "code",
   "execution_count": 1,
   "id": "ba56595e",
   "metadata": {},
   "outputs": [
    {
     "data": {
      "text/plain": [
       "['apple', 5, 2.1, True, 3j, (2+7j), 'tuna']"
      ]
     },
     "execution_count": 1,
     "metadata": {},
     "output_type": "execute_result"
    }
   ],
   "source": [
    "list_1 = ['apple', 5, 2.1, True, 3j, 2 + 7j, 'tuna']\n",
    "list_1"
   ]
  },
  {
   "cell_type": "markdown",
   "id": "52e97e85",
   "metadata": {},
   "source": [
    "## 2. Check data type"
   ]
  },
  {
   "cell_type": "code",
   "execution_count": 2,
   "id": "22d52b20",
   "metadata": {},
   "outputs": [
    {
     "data": {
      "text/plain": [
       "list"
      ]
     },
     "execution_count": 2,
     "metadata": {},
     "output_type": "execute_result"
    }
   ],
   "source": [
    "type(list_1)"
   ]
  },
  {
   "cell_type": "markdown",
   "id": "df77db05",
   "metadata": {},
   "source": [
    "## 3. Check the length of the `list`"
   ]
  },
  {
   "cell_type": "code",
   "execution_count": 3,
   "id": "b861d4fa",
   "metadata": {},
   "outputs": [
    {
     "data": {
      "text/plain": [
       "7"
      ]
     },
     "execution_count": 3,
     "metadata": {},
     "output_type": "execute_result"
    }
   ],
   "source": [
    "len(list_1)"
   ]
  },
  {
   "cell_type": "markdown",
   "id": "1c57f9d9",
   "metadata": {},
   "source": [
    "## 4. Iterate through the `list` using `for` loop "
   ]
  },
  {
   "cell_type": "code",
   "execution_count": 4,
   "id": "0dac9068",
   "metadata": {},
   "outputs": [
    {
     "name": "stdout",
     "output_type": "stream",
     "text": [
      "apple\n",
      "5\n",
      "2.1\n",
      "True\n",
      "3j\n",
      "(2+7j)\n",
      "tuna\n"
     ]
    }
   ],
   "source": [
    "for item in list_1:\n",
    "    print(item)"
   ]
  },
  {
   "cell_type": "code",
   "execution_count": 5,
   "id": "18c716ec",
   "metadata": {},
   "outputs": [
    {
     "name": "stdout",
     "output_type": "stream",
     "text": [
      "<class 'str'>\n",
      "<class 'int'>\n",
      "<class 'float'>\n",
      "<class 'bool'>\n",
      "<class 'complex'>\n",
      "<class 'complex'>\n",
      "<class 'str'>\n"
     ]
    }
   ],
   "source": [
    "for item in list_1:\n",
    "    print(type(item)) # check the data type of each element in the 'list'"
   ]
  },
  {
   "cell_type": "markdown",
   "id": "55151936",
   "metadata": {},
   "source": [
    "## 5. Iterate through the `list` using `while` loop "
   ]
  },
  {
   "cell_type": "code",
   "execution_count": 6,
   "id": "cdd0e13e",
   "metadata": {},
   "outputs": [
    {
     "name": "stdout",
     "output_type": "stream",
     "text": [
      "apple\n",
      "5\n",
      "2.1\n",
      "True\n",
      "3j\n",
      "(2+7j)\n",
      "tuna\n"
     ]
    }
   ],
   "source": [
    "n = 0\n",
    "\n",
    "while n < len(list_1):\n",
    "    print(list_1[n])\n",
    "    n += 1"
   ]
  },
  {
   "cell_type": "markdown",
   "id": "51fd8046",
   "metadata": {},
   "source": [
    "## 6. Convert to a list using `list()` function"
   ]
  },
  {
   "cell_type": "code",
   "execution_count": 7,
   "id": "c4409e30",
   "metadata": {},
   "outputs": [
    {
     "data": {
      "text/plain": [
       "tuple"
      ]
     },
     "execution_count": 7,
     "metadata": {},
     "output_type": "execute_result"
    }
   ],
   "source": [
    "tuple_ = ('apple', 5, 2.1, True, 3j, 2 + 7j, 'tuna')\n",
    "type(tuple_)"
   ]
  },
  {
   "cell_type": "code",
   "execution_count": 8,
   "id": "af4ca018",
   "metadata": {},
   "outputs": [
    {
     "data": {
      "text/plain": [
       "['apple', 5, 2.1, True, 3j, (2+7j), 'tuna']"
      ]
     },
     "execution_count": 8,
     "metadata": {},
     "output_type": "execute_result"
    }
   ],
   "source": [
    "list_2 = list(tuple_) # converting tuple into a 'list'\n",
    "list_2"
   ]
  },
  {
   "cell_type": "code",
   "execution_count": 9,
   "id": "44a424c6",
   "metadata": {},
   "outputs": [
    {
     "data": {
      "text/plain": [
       "list"
      ]
     },
     "execution_count": 9,
     "metadata": {},
     "output_type": "execute_result"
    }
   ],
   "source": [
    "type(list_2)"
   ]
  },
  {
   "cell_type": "code",
   "execution_count": 10,
   "id": "f121a562",
   "metadata": {},
   "outputs": [
    {
     "data": {
      "text/plain": [
       "{(2+7j), 2.1, 3j, 5, True, 'apple', 'tuna'}"
      ]
     },
     "execution_count": 10,
     "metadata": {},
     "output_type": "execute_result"
    }
   ],
   "source": [
    "set_ = {'apple', 5, 2.1, True, 3j, 2 + 7j, 'tuna'}\n",
    "set_"
   ]
  },
  {
   "cell_type": "markdown",
   "id": "9b86226f",
   "metadata": {},
   "source": [
    "The order of the elements within the `set` is not maintained while printing"
   ]
  },
  {
   "cell_type": "code",
   "execution_count": 11,
   "id": "63b15bd4",
   "metadata": {},
   "outputs": [
    {
     "data": {
      "text/plain": [
       "[True, 2.1, 5, 'apple', (2+7j), 'tuna', 3j]"
      ]
     },
     "execution_count": 11,
     "metadata": {},
     "output_type": "execute_result"
    }
   ],
   "source": [
    "list_3 = list(set_) # converting set into a 'list'\n",
    "list_3"
   ]
  },
  {
   "cell_type": "code",
   "execution_count": 12,
   "id": "70bc011a",
   "metadata": {},
   "outputs": [
    {
     "data": {
      "text/plain": [
       "list"
      ]
     },
     "execution_count": 12,
     "metadata": {},
     "output_type": "execute_result"
    }
   ],
   "source": [
    "type(list_3)"
   ]
  },
  {
   "cell_type": "markdown",
   "id": "8f8dce6e",
   "metadata": {},
   "source": [
    "## 7. Access an element from the `list` using index number"
   ]
  },
  {
   "cell_type": "code",
   "execution_count": 13,
   "id": "e367de4a",
   "metadata": {},
   "outputs": [
    {
     "data": {
      "text/plain": [
       "['apple', 5, 2.1, True, 3j, (2+7j), 'tuna']"
      ]
     },
     "execution_count": 13,
     "metadata": {},
     "output_type": "execute_result"
    }
   ],
   "source": [
    "list_1"
   ]
  },
  {
   "cell_type": "code",
   "execution_count": 14,
   "id": "4c62972a",
   "metadata": {},
   "outputs": [
    {
     "data": {
      "text/plain": [
       "True"
      ]
     },
     "execution_count": 14,
     "metadata": {},
     "output_type": "execute_result"
    }
   ],
   "source": [
    "list_1[3] # positive indexing"
   ]
  },
  {
   "cell_type": "code",
   "execution_count": 15,
   "id": "4701a9b4",
   "metadata": {},
   "outputs": [
    {
     "data": {
      "text/plain": [
       "'tuna'"
      ]
     },
     "execution_count": 15,
     "metadata": {},
     "output_type": "execute_result"
    }
   ],
   "source": [
    "list_1[6]"
   ]
  },
  {
   "cell_type": "code",
   "execution_count": 16,
   "id": "a961210d",
   "metadata": {},
   "outputs": [
    {
     "data": {
      "text/plain": [
       "'tuna'"
      ]
     },
     "execution_count": 16,
     "metadata": {},
     "output_type": "execute_result"
    }
   ],
   "source": [
    "list_1[-1] # negative indexing"
   ]
  },
  {
   "cell_type": "code",
   "execution_count": 17,
   "id": "048fcd48",
   "metadata": {},
   "outputs": [
    {
     "data": {
      "text/plain": [
       "'apple'"
      ]
     },
     "execution_count": 17,
     "metadata": {},
     "output_type": "execute_result"
    }
   ],
   "source": [
    "list_1[-7]"
   ]
  },
  {
   "cell_type": "markdown",
   "id": "d6757c22",
   "metadata": {},
   "source": [
    "## 8. Create an empty `list`"
   ]
  },
  {
   "cell_type": "code",
   "execution_count": 18,
   "id": "6e2321f1",
   "metadata": {},
   "outputs": [
    {
     "data": {
      "text/plain": [
       "[]"
      ]
     },
     "execution_count": 18,
     "metadata": {},
     "output_type": "execute_result"
    }
   ],
   "source": [
    "empty = []\n",
    "empty"
   ]
  },
  {
   "cell_type": "code",
   "execution_count": 19,
   "id": "4ceea5be",
   "metadata": {},
   "outputs": [
    {
     "data": {
      "text/plain": [
       "list"
      ]
     },
     "execution_count": 19,
     "metadata": {},
     "output_type": "execute_result"
    }
   ],
   "source": [
    "type(empty)"
   ]
  },
  {
   "cell_type": "markdown",
   "id": "9a0868f2",
   "metadata": {},
   "source": [
    "## 9. Add items to an empty `list` using `append()` method"
   ]
  },
  {
   "cell_type": "code",
   "execution_count": 20,
   "id": "0bfc86cb",
   "metadata": {},
   "outputs": [],
   "source": [
    "for item in [1, 'banana', False, 5]:\n",
    "    empty.append(item)"
   ]
  },
  {
   "cell_type": "code",
   "execution_count": 21,
   "id": "1404b648",
   "metadata": {},
   "outputs": [
    {
     "data": {
      "text/plain": [
       "[1, 'banana', False, 5]"
      ]
     },
     "execution_count": 21,
     "metadata": {},
     "output_type": "execute_result"
    }
   ],
   "source": [
    "empty"
   ]
  },
  {
   "cell_type": "markdown",
   "id": "08751498",
   "metadata": {},
   "source": [
    "## 10. Create a new `list` using `copy()` method"
   ]
  },
  {
   "cell_type": "code",
   "execution_count": 22,
   "id": "274d681c",
   "metadata": {},
   "outputs": [
    {
     "data": {
      "text/plain": [
       "[1, 'banana', False, 5]"
      ]
     },
     "execution_count": 22,
     "metadata": {},
     "output_type": "execute_result"
    }
   ],
   "source": [
    "no_longer_empty = empty.copy()\n",
    "no_longer_empty"
   ]
  },
  {
   "cell_type": "code",
   "execution_count": 23,
   "id": "49e349dc",
   "metadata": {},
   "outputs": [
    {
     "data": {
      "text/plain": [
       "[1, 'banana', False, 5]"
      ]
     },
     "execution_count": 23,
     "metadata": {},
     "output_type": "execute_result"
    }
   ],
   "source": [
    "empty"
   ]
  },
  {
   "cell_type": "code",
   "execution_count": 24,
   "id": "fee16de5",
   "metadata": {},
   "outputs": [
    {
     "data": {
      "text/plain": [
       "[1, 'banana', False, 5, 'tiger']"
      ]
     },
     "execution_count": 24,
     "metadata": {},
     "output_type": "execute_result"
    }
   ],
   "source": [
    "no_longer_empty.append('tiger') # inserts new element at the end of a 'list'\n",
    "no_longer_empty"
   ]
  },
  {
   "cell_type": "code",
   "execution_count": 25,
   "id": "1ab6eac9",
   "metadata": {},
   "outputs": [
    {
     "data": {
      "text/plain": [
       "[1, 'banana', False, 5]"
      ]
     },
     "execution_count": 25,
     "metadata": {},
     "output_type": "execute_result"
    }
   ],
   "source": [
    "empty"
   ]
  },
  {
   "cell_type": "markdown",
   "id": "6be7d366",
   "metadata": {},
   "source": [
    "## 11. Add element in a specific position using `insert()` method"
   ]
  },
  {
   "cell_type": "code",
   "execution_count": 26,
   "id": "970a1185",
   "metadata": {},
   "outputs": [
    {
     "data": {
      "text/plain": [
       "[1, 'banana', False, 5, 'tiger']"
      ]
     },
     "execution_count": 26,
     "metadata": {},
     "output_type": "execute_result"
    }
   ],
   "source": [
    "no_longer_empty"
   ]
  },
  {
   "cell_type": "code",
   "execution_count": 27,
   "id": "1188d8e7",
   "metadata": {},
   "outputs": [
    {
     "data": {
      "text/plain": [
       "[1, 0.9, 'banana', False, 5, 'tiger']"
      ]
     },
     "execution_count": 27,
     "metadata": {},
     "output_type": "execute_result"
    }
   ],
   "source": [
    "no_longer_empty.insert(1, 0.9)\n",
    "no_longer_empty"
   ]
  },
  {
   "cell_type": "markdown",
   "id": "fc56335a",
   "metadata": {},
   "source": [
    "## 12. Add multiple items at a time using the `extend()` method"
   ]
  },
  {
   "cell_type": "code",
   "execution_count": 28,
   "id": "010140ff",
   "metadata": {},
   "outputs": [
    {
     "data": {
      "text/plain": [
       "[1, 2, 3, 4, 5, 6]"
      ]
     },
     "execution_count": 28,
     "metadata": {},
     "output_type": "execute_result"
    }
   ],
   "source": [
    "numbers = [1, 2, 3]\n",
    "numbers.extend([4, 5, 6])\n",
    "numbers"
   ]
  },
  {
   "cell_type": "markdown",
   "id": "da87e8fe",
   "metadata": {},
   "source": [
    "## 13. Get rid of an element using `remove()` method"
   ]
  },
  {
   "cell_type": "code",
   "execution_count": 29,
   "id": "8804d7e9",
   "metadata": {},
   "outputs": [
    {
     "data": {
      "text/plain": [
       "[1, 2, 3, 4, 5, 6]"
      ]
     },
     "execution_count": 29,
     "metadata": {},
     "output_type": "execute_result"
    }
   ],
   "source": [
    "numbers"
   ]
  },
  {
   "cell_type": "code",
   "execution_count": 30,
   "id": "f8f8e226",
   "metadata": {},
   "outputs": [
    {
     "data": {
      "text/plain": [
       "[2, 3, 4, 5, 6]"
      ]
     },
     "execution_count": 30,
     "metadata": {},
     "output_type": "execute_result"
    }
   ],
   "source": [
    "numbers.remove(1)\n",
    "numbers"
   ]
  },
  {
   "cell_type": "markdown",
   "id": "2244ab0b",
   "metadata": {},
   "source": [
    "## 14. Backward operation using `reverse()` method"
   ]
  },
  {
   "cell_type": "code",
   "execution_count": 31,
   "id": "9de296fc",
   "metadata": {},
   "outputs": [
    {
     "data": {
      "text/plain": [
       "[2, 3, 4, 5, 6]"
      ]
     },
     "execution_count": 31,
     "metadata": {},
     "output_type": "execute_result"
    }
   ],
   "source": [
    "numbers"
   ]
  },
  {
   "cell_type": "code",
   "execution_count": 32,
   "id": "8a426130",
   "metadata": {},
   "outputs": [
    {
     "data": {
      "text/plain": [
       "[6, 5, 4, 3, 2]"
      ]
     },
     "execution_count": 32,
     "metadata": {},
     "output_type": "execute_result"
    }
   ],
   "source": [
    "numbers.reverse()\n",
    "numbers"
   ]
  },
  {
   "cell_type": "markdown",
   "id": "db36f564",
   "metadata": {},
   "source": [
    "## 15. Get rid of an element using `pop()` method"
   ]
  },
  {
   "cell_type": "code",
   "execution_count": 33,
   "id": "27e8e01a",
   "metadata": {},
   "outputs": [
    {
     "data": {
      "text/plain": [
       "[6, 5, 4, 3, 2]"
      ]
     },
     "execution_count": 33,
     "metadata": {},
     "output_type": "execute_result"
    }
   ],
   "source": [
    "numbers"
   ]
  },
  {
   "cell_type": "code",
   "execution_count": 34,
   "id": "ae970f62",
   "metadata": {},
   "outputs": [
    {
     "data": {
      "text/plain": [
       "[6, 5, 4, 3]"
      ]
     },
     "execution_count": 34,
     "metadata": {},
     "output_type": "execute_result"
    }
   ],
   "source": [
    "numbers.pop()\n",
    "numbers"
   ]
  },
  {
   "cell_type": "code",
   "execution_count": 35,
   "id": "2012ba97",
   "metadata": {},
   "outputs": [
    {
     "data": {
      "text/plain": [
       "[5, 4, 3]"
      ]
     },
     "execution_count": 35,
     "metadata": {},
     "output_type": "execute_result"
    }
   ],
   "source": [
    "numbers.pop(0) # remove the 0-th indexed element from the 'list'\n",
    "numbers"
   ]
  },
  {
   "cell_type": "markdown",
   "id": "100ad5b9",
   "metadata": {},
   "source": [
    "## 16. Create a multi-dimensional `list`"
   ]
  },
  {
   "cell_type": "code",
   "execution_count": 36,
   "id": "ceda4722",
   "metadata": {},
   "outputs": [
    {
     "data": {
      "text/plain": [
       "[[1, 2], (3, 4), {5, 6}, 'shark', 0.4, True, 9j]"
      ]
     },
     "execution_count": 36,
     "metadata": {},
     "output_type": "execute_result"
    }
   ],
   "source": [
    "multi = [[1, 2], (3, 4), {5, 6}, 'shark', 0.4, True, 9j]\n",
    "multi"
   ]
  },
  {
   "cell_type": "code",
   "execution_count": 37,
   "id": "e6ed3eb5",
   "metadata": {},
   "outputs": [
    {
     "name": "stdout",
     "output_type": "stream",
     "text": [
      "[1, 2] \t <class 'list'>\n",
      "(3, 4) \t <class 'tuple'>\n",
      "{5, 6} \t <class 'set'>\n",
      "shark \t <class 'str'>\n",
      "0.4 \t <class 'float'>\n",
      "True \t <class 'bool'>\n",
      "9j \t <class 'complex'>\n"
     ]
    }
   ],
   "source": [
    "for item in multi:\n",
    "    print(item, '\\t', type(item))"
   ]
  },
  {
   "cell_type": "code",
   "execution_count": 38,
   "id": "cad66faf",
   "metadata": {},
   "outputs": [
    {
     "data": {
      "text/plain": [
       "[1, 2]"
      ]
     },
     "execution_count": 38,
     "metadata": {},
     "output_type": "execute_result"
    }
   ],
   "source": [
    "multi[0]"
   ]
  },
  {
   "cell_type": "code",
   "execution_count": 39,
   "id": "f7dbc982",
   "metadata": {},
   "outputs": [
    {
     "data": {
      "text/plain": [
       "1"
      ]
     },
     "execution_count": 39,
     "metadata": {},
     "output_type": "execute_result"
    }
   ],
   "source": [
    "multi[0][0]"
   ]
  },
  {
   "cell_type": "markdown",
   "id": "d9b122bc",
   "metadata": {},
   "source": [
    "## 17. Get the position of an element using `index()` method  "
   ]
  },
  {
   "cell_type": "code",
   "execution_count": 40,
   "id": "3e5ec9fb",
   "metadata": {},
   "outputs": [
    {
     "data": {
      "text/plain": [
       "0"
      ]
     },
     "execution_count": 40,
     "metadata": {},
     "output_type": "execute_result"
    }
   ],
   "source": [
    "multi.index([1, 2])"
   ]
  },
  {
   "cell_type": "markdown",
   "id": "45d294f0",
   "metadata": {},
   "source": [
    "## 18. Check the frequency of an element using `count()` method"
   ]
  },
  {
   "cell_type": "code",
   "execution_count": 41,
   "id": "7557198e",
   "metadata": {},
   "outputs": [
    {
     "data": {
      "text/plain": [
       "['A', 'B', 'A', 'C', 'A', 'A']"
      ]
     },
     "execution_count": 41,
     "metadata": {},
     "output_type": "execute_result"
    }
   ],
   "source": [
    "letters = ['A', 'B', 'A', 'C', 'A', 'A']\n",
    "letters"
   ]
  },
  {
   "cell_type": "code",
   "execution_count": 42,
   "id": "389f3afb",
   "metadata": {},
   "outputs": [
    {
     "data": {
      "text/plain": [
       "4"
      ]
     },
     "execution_count": 42,
     "metadata": {},
     "output_type": "execute_result"
    }
   ],
   "source": [
    "letters.count('A')"
   ]
  },
  {
   "cell_type": "markdown",
   "id": "1ddb3f22",
   "metadata": {},
   "source": [
    "## 19. Ascending and descending operation using `sort()` method"
   ]
  },
  {
   "cell_type": "code",
   "execution_count": 43,
   "id": "6f0fd958",
   "metadata": {},
   "outputs": [
    {
     "data": {
      "text/plain": [
       "[4, 2, 3, 0, 8, 10, 233]"
      ]
     },
     "execution_count": 43,
     "metadata": {},
     "output_type": "execute_result"
    }
   ],
   "source": [
    "new_list = [4, 2, 3, 0, 8, 10, 233]\n",
    "new_list"
   ]
  },
  {
   "cell_type": "code",
   "execution_count": 44,
   "id": "a0b89b0e",
   "metadata": {},
   "outputs": [
    {
     "data": {
      "text/plain": [
       "[0, 2, 3, 4, 8, 10, 233]"
      ]
     },
     "execution_count": 44,
     "metadata": {},
     "output_type": "execute_result"
    }
   ],
   "source": [
    "new_list.sort() # ascending order\n",
    "new_list"
   ]
  },
  {
   "cell_type": "code",
   "execution_count": 45,
   "id": "a7732662",
   "metadata": {},
   "outputs": [
    {
     "data": {
      "text/plain": [
       "[233, 10, 8, 4, 3, 2, 0]"
      ]
     },
     "execution_count": 45,
     "metadata": {},
     "output_type": "execute_result"
    }
   ],
   "source": [
    "new_list.sort(reverse=True) # descending order\n",
    "new_list"
   ]
  },
  {
   "cell_type": "markdown",
   "id": "7c0cfcc8",
   "metadata": {},
   "source": [
    "## 20. Delete all items from a `list` using `empty()` method"
   ]
  },
  {
   "cell_type": "code",
   "execution_count": 46,
   "id": "f8ebc7ea",
   "metadata": {},
   "outputs": [
    {
     "data": {
      "text/plain": [
       "[233, 10, 8, 4, 3, 2, 0]"
      ]
     },
     "execution_count": 46,
     "metadata": {},
     "output_type": "execute_result"
    }
   ],
   "source": [
    "new_list"
   ]
  },
  {
   "cell_type": "code",
   "execution_count": 47,
   "id": "e2b642b4",
   "metadata": {},
   "outputs": [
    {
     "data": {
      "text/plain": [
       "[]"
      ]
     },
     "execution_count": 47,
     "metadata": {},
     "output_type": "execute_result"
    }
   ],
   "source": [
    "new_list.clear()\n",
    "new_list"
   ]
  },
  {
   "cell_type": "markdown",
   "id": "c6ced2cd",
   "metadata": {},
   "source": [
    "## 21. Slicing a `list`"
   ]
  },
  {
   "cell_type": "code",
   "execution_count": 48,
   "id": "af139471",
   "metadata": {},
   "outputs": [
    {
     "data": {
      "text/plain": [
       "[32, 45, 78, 90, 65, 47]"
      ]
     },
     "execution_count": 48,
     "metadata": {},
     "output_type": "execute_result"
    }
   ],
   "source": [
    "final = [32, 45, 78, 90, 65, 47]\n",
    "final"
   ]
  },
  {
   "cell_type": "code",
   "execution_count": 49,
   "id": "16766ac6",
   "metadata": {},
   "outputs": [
    {
     "data": {
      "text/plain": [
       "[78, 90, 65, 47]"
      ]
     },
     "execution_count": 49,
     "metadata": {},
     "output_type": "execute_result"
    }
   ],
   "source": [
    "final[2:] # start printing elements from 2nd indexed position "
   ]
  },
  {
   "cell_type": "code",
   "execution_count": 50,
   "id": "f2b332a3",
   "metadata": {},
   "outputs": [
    {
     "data": {
      "text/plain": [
       "[78, 90]"
      ]
     },
     "execution_count": 50,
     "metadata": {},
     "output_type": "execute_result"
    }
   ],
   "source": [
    "final[2:4]"
   ]
  },
  {
   "cell_type": "code",
   "execution_count": 51,
   "id": "d73a4d1d",
   "metadata": {},
   "outputs": [
    {
     "data": {
      "text/plain": [
       "[32, 45]"
      ]
     },
     "execution_count": 51,
     "metadata": {},
     "output_type": "execute_result"
    }
   ],
   "source": [
    "final[:2]"
   ]
  },
  {
   "cell_type": "code",
   "execution_count": 52,
   "id": "5fd67db9",
   "metadata": {},
   "outputs": [
    {
     "data": {
      "text/plain": [
       "[78, 65]"
      ]
     },
     "execution_count": 52,
     "metadata": {},
     "output_type": "execute_result"
    }
   ],
   "source": [
    "final[2:6:2]"
   ]
  },
  {
   "cell_type": "code",
   "execution_count": 53,
   "id": "2f2e8fc3",
   "metadata": {},
   "outputs": [
    {
     "data": {
      "text/plain": [
       "[32, 45, 78, 90]"
      ]
     },
     "execution_count": 53,
     "metadata": {},
     "output_type": "execute_result"
    }
   ],
   "source": [
    "final[:-2]"
   ]
  },
  {
   "cell_type": "code",
   "execution_count": 54,
   "id": "a5b1d275",
   "metadata": {},
   "outputs": [
    {
     "data": {
      "text/plain": [
       "[90, 65, 47]"
      ]
     },
     "execution_count": 54,
     "metadata": {},
     "output_type": "execute_result"
    }
   ],
   "source": [
    "final[-3:]"
   ]
  },
  {
   "cell_type": "code",
   "execution_count": 55,
   "id": "f54b0ec1",
   "metadata": {},
   "outputs": [
    {
     "data": {
      "text/plain": [
       "[47, 65, 90, 78, 45, 32]"
      ]
     },
     "execution_count": 55,
     "metadata": {},
     "output_type": "execute_result"
    }
   ],
   "source": [
    "final[::-1] # prints in reverse order"
   ]
  }
 ],
 "metadata": {
  "kernelspec": {
   "display_name": "Python 3 (ipykernel)",
   "language": "python",
   "name": "python3"
  },
  "language_info": {
   "codemirror_mode": {
    "name": "ipython",
    "version": 3
   },
   "file_extension": ".py",
   "mimetype": "text/x-python",
   "name": "python",
   "nbconvert_exporter": "python",
   "pygments_lexer": "ipython3",
   "version": "3.9.13"
  }
 },
 "nbformat": 4,
 "nbformat_minor": 5
}
