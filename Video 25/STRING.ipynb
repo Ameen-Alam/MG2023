{
 "cells": [
  {
   "cell_type": "markdown",
   "id": "dab1d026",
   "metadata": {},
   "source": [
    "# <center style='color:green'> `Strings` in Python </center>"
   ]
  },
  {
   "cell_type": "markdown",
   "id": "f9cd85d5",
   "metadata": {},
   "source": [
    "## 1. Create a `string`"
   ]
  },
  {
   "cell_type": "code",
   "execution_count": 1,
   "id": "370e7463",
   "metadata": {},
   "outputs": [
    {
     "data": {
      "text/plain": [
       "'Arigatou Gozaimasu'"
      ]
     },
     "execution_count": 1,
     "metadata": {},
     "output_type": "execute_result"
    }
   ],
   "source": [
    "string_1 = 'Arigatou Gozaimasu' # thank you in Japanese language \n",
    "string_1"
   ]
  },
  {
   "cell_type": "code",
   "execution_count": 2,
   "id": "8bd4d554",
   "metadata": {},
   "outputs": [
    {
     "data": {
      "text/plain": [
       "str"
      ]
     },
     "execution_count": 2,
     "metadata": {},
     "output_type": "execute_result"
    }
   ],
   "source": [
    "type(string_1)"
   ]
  },
  {
   "cell_type": "markdown",
   "id": "849e07eb",
   "metadata": {},
   "source": [
    "## 2. Iterate through the `string` using `for` loop "
   ]
  },
  {
   "cell_type": "code",
   "execution_count": 3,
   "id": "f212c365",
   "metadata": {},
   "outputs": [
    {
     "name": "stdout",
     "output_type": "stream",
     "text": [
      "A\n",
      "r\n",
      "i\n",
      "g\n",
      "a\n",
      "t\n",
      "o\n",
      "u\n",
      " \n",
      "G\n",
      "o\n",
      "z\n",
      "a\n",
      "i\n",
      "m\n",
      "a\n",
      "s\n",
      "u\n"
     ]
    }
   ],
   "source": [
    "for letter in string_1:\n",
    "    print(letter) # prints vertically"
   ]
  },
  {
   "cell_type": "code",
   "execution_count": 4,
   "id": "13a37b06",
   "metadata": {},
   "outputs": [
    {
     "name": "stdout",
     "output_type": "stream",
     "text": [
      "Arigatou Gozaimasu"
     ]
    }
   ],
   "source": [
    "for letter in string_1:\n",
    "    print(letter, end='') # prints horizontally"
   ]
  },
  {
   "cell_type": "markdown",
   "id": "d6c72eae",
   "metadata": {},
   "source": [
    "## 3. `string` indexing and slicing "
   ]
  },
  {
   "cell_type": "code",
   "execution_count": 5,
   "id": "c8a98da3",
   "metadata": {},
   "outputs": [
    {
     "data": {
      "text/plain": [
       "'A'"
      ]
     },
     "execution_count": 5,
     "metadata": {},
     "output_type": "execute_result"
    }
   ],
   "source": [
    "string_1[0] # positive indexing"
   ]
  },
  {
   "cell_type": "code",
   "execution_count": 6,
   "id": "b6e1321f",
   "metadata": {},
   "outputs": [
    {
     "data": {
      "text/plain": [
       "'A'"
      ]
     },
     "execution_count": 6,
     "metadata": {},
     "output_type": "execute_result"
    }
   ],
   "source": [
    "string_1[-18] # negative indexing"
   ]
  },
  {
   "cell_type": "code",
   "execution_count": 7,
   "id": "7fcd23a3",
   "metadata": {},
   "outputs": [
    {
     "data": {
      "text/plain": [
       "('Arigatou', 'Arigatou')"
      ]
     },
     "execution_count": 7,
     "metadata": {},
     "output_type": "execute_result"
    }
   ],
   "source": [
    "string_1[:8], string_1[-18:-10] # slicing"
   ]
  },
  {
   "cell_type": "code",
   "execution_count": 8,
   "id": "594d32ee",
   "metadata": {},
   "outputs": [
    {
     "data": {
      "text/plain": [
       "('Arigatou', 'Arigatou')"
      ]
     },
     "execution_count": 8,
     "metadata": {},
     "output_type": "execute_result"
    }
   ],
   "source": [
    "string_1[0:8], string_1[-18:-10]"
   ]
  },
  {
   "cell_type": "code",
   "execution_count": 9,
   "id": "d92377b3",
   "metadata": {},
   "outputs": [
    {
     "data": {
      "text/plain": [
       "(' ', ' ')"
      ]
     },
     "execution_count": 9,
     "metadata": {},
     "output_type": "execute_result"
    }
   ],
   "source": [
    "string_1[8], string_1[-10]"
   ]
  },
  {
   "cell_type": "code",
   "execution_count": 10,
   "id": "48606eda",
   "metadata": {},
   "outputs": [
    {
     "data": {
      "text/plain": [
       "('Gozaimasu', 'Gozaimasu')"
      ]
     },
     "execution_count": 10,
     "metadata": {},
     "output_type": "execute_result"
    }
   ],
   "source": [
    "string_1[9:], string_1[-9:]"
   ]
  },
  {
   "cell_type": "code",
   "execution_count": 11,
   "id": "12227f4a",
   "metadata": {},
   "outputs": [
    {
     "data": {
      "text/plain": [
       "('imasu', 'imasu')"
      ]
     },
     "execution_count": 11,
     "metadata": {},
     "output_type": "execute_result"
    }
   ],
   "source": [
    "string_1[13:18], string_1[-5:]"
   ]
  },
  {
   "cell_type": "code",
   "execution_count": 12,
   "id": "65e0b433",
   "metadata": {},
   "outputs": [
    {
     "data": {
      "text/plain": [
       "('u', 'u')"
      ]
     },
     "execution_count": 12,
     "metadata": {},
     "output_type": "execute_result"
    }
   ],
   "source": [
    "string_1[17], string_1[-1]"
   ]
  },
  {
   "cell_type": "code",
   "execution_count": 13,
   "id": "a1e349f2",
   "metadata": {},
   "outputs": [
    {
     "data": {
      "text/plain": [
       "'Arigatou Gozaimasu'"
      ]
     },
     "execution_count": 13,
     "metadata": {},
     "output_type": "execute_result"
    }
   ],
   "source": [
    "string_1"
   ]
  },
  {
   "cell_type": "code",
   "execution_count": 14,
   "id": "0f0d8fe4",
   "metadata": {},
   "outputs": [
    {
     "data": {
      "text/plain": [
       "('Aiao oams', 'Aiao oams')"
      ]
     },
     "execution_count": 14,
     "metadata": {},
     "output_type": "execute_result"
    }
   ],
   "source": [
    "string_1[0:18:2], string_1[-18:-1:2]"
   ]
  },
  {
   "cell_type": "markdown",
   "id": "20bfd463",
   "metadata": {},
   "source": [
    "## 4. Check the length of `string`"
   ]
  },
  {
   "cell_type": "code",
   "execution_count": 15,
   "id": "9affd3da",
   "metadata": {},
   "outputs": [
    {
     "data": {
      "text/plain": [
       "18"
      ]
     },
     "execution_count": 15,
     "metadata": {},
     "output_type": "execute_result"
    }
   ],
   "source": [
    "len(string_1)"
   ]
  },
  {
   "cell_type": "markdown",
   "id": "7ea7b1a0",
   "metadata": {},
   "source": [
    "## 5. Iterate through the `string` using `while` loop"
   ]
  },
  {
   "cell_type": "code",
   "execution_count": 16,
   "id": "0eb30968",
   "metadata": {},
   "outputs": [
    {
     "name": "stdout",
     "output_type": "stream",
     "text": [
      "A\n",
      "r\n",
      "i\n",
      "g\n",
      "a\n",
      "t\n",
      "o\n",
      "u\n",
      " \n",
      "G\n",
      "o\n",
      "z\n",
      "a\n",
      "i\n",
      "m\n",
      "a\n",
      "s\n",
      "u\n"
     ]
    }
   ],
   "source": [
    "i = 0\n",
    "\n",
    "while i < len(string_1):\n",
    "    print(string_1[i]) # prints vertically\n",
    "    i += 1"
   ]
  },
  {
   "cell_type": "code",
   "execution_count": 17,
   "id": "de2f6fb0",
   "metadata": {},
   "outputs": [
    {
     "name": "stdout",
     "output_type": "stream",
     "text": [
      "A r i g a t o u   G o z a i m a s u "
     ]
    }
   ],
   "source": [
    "i = 0\n",
    "\n",
    "while i < len(string_1):\n",
    "    print(string_1[i], end=' ') # prints horizontally\n",
    "    i += 1"
   ]
  },
  {
   "cell_type": "markdown",
   "id": "eedd87c2",
   "metadata": {},
   "source": [
    "## 6. Check item in `string`"
   ]
  },
  {
   "cell_type": "code",
   "execution_count": 18,
   "id": "813a3f1a",
   "metadata": {},
   "outputs": [
    {
     "data": {
      "text/plain": [
       "'Arigatou Gozaimasu'"
      ]
     },
     "execution_count": 18,
     "metadata": {},
     "output_type": "execute_result"
    }
   ],
   "source": [
    "string_1"
   ]
  },
  {
   "cell_type": "code",
   "execution_count": 19,
   "id": "f6bd2a8c",
   "metadata": {},
   "outputs": [
    {
     "data": {
      "text/plain": [
       "True"
      ]
     },
     "execution_count": 19,
     "metadata": {},
     "output_type": "execute_result"
    }
   ],
   "source": [
    "'imasu' in string_1"
   ]
  },
  {
   "cell_type": "code",
   "execution_count": 20,
   "id": "fcad35fc",
   "metadata": {},
   "outputs": [
    {
     "data": {
      "text/plain": [
       "False"
      ]
     },
     "execution_count": 20,
     "metadata": {},
     "output_type": "execute_result"
    }
   ],
   "source": [
    "'Imasu' in string_1"
   ]
  },
  {
   "cell_type": "code",
   "execution_count": 21,
   "id": "f4ed8b82",
   "metadata": {},
   "outputs": [
    {
     "data": {
      "text/plain": [
       "False"
      ]
     },
     "execution_count": 21,
     "metadata": {},
     "output_type": "execute_result"
    }
   ],
   "source": [
    "'ariga' in string_1"
   ]
  },
  {
   "cell_type": "code",
   "execution_count": 22,
   "id": "ea65fe0c",
   "metadata": {},
   "outputs": [
    {
     "data": {
      "text/plain": [
       "True"
      ]
     },
     "execution_count": 22,
     "metadata": {},
     "output_type": "execute_result"
    }
   ],
   "source": [
    "'ariga' not in string_1"
   ]
  },
  {
   "cell_type": "markdown",
   "id": "5045ee11",
   "metadata": {},
   "source": [
    "## 7. `if-else` statement with `string`"
   ]
  },
  {
   "cell_type": "code",
   "execution_count": 23,
   "id": "59de2013",
   "metadata": {},
   "outputs": [
    {
     "data": {
      "text/plain": [
       "'Arigatou Gozaimasu'"
      ]
     },
     "execution_count": 23,
     "metadata": {},
     "output_type": "execute_result"
    }
   ],
   "source": [
    "string_1"
   ]
  },
  {
   "cell_type": "code",
   "execution_count": 24,
   "id": "a713aa0b",
   "metadata": {},
   "outputs": [
    {
     "name": "stdout",
     "output_type": "stream",
     "text": [
      "Found it\n"
     ]
    }
   ],
   "source": [
    "if 'imasu' in string_1:\n",
    "    print('Found it')\n",
    "else:\n",
    "    print('Not found')"
   ]
  },
  {
   "cell_type": "code",
   "execution_count": 25,
   "id": "43221a7b",
   "metadata": {},
   "outputs": [
    {
     "name": "stdout",
     "output_type": "stream",
     "text": [
      "Not found\n"
     ]
    }
   ],
   "source": [
    "if 'Imasu' in string_1:\n",
    "    print('Found it')\n",
    "else:\n",
    "    print('Not found')"
   ]
  },
  {
   "cell_type": "markdown",
   "id": "0780cf34",
   "metadata": {},
   "source": [
    "## 8. Print `string` in reverse order"
   ]
  },
  {
   "cell_type": "code",
   "execution_count": 26,
   "id": "2f4baf10",
   "metadata": {},
   "outputs": [
    {
     "data": {
      "text/plain": [
       "'Arigatou Gozaimasu'"
      ]
     },
     "execution_count": 26,
     "metadata": {},
     "output_type": "execute_result"
    }
   ],
   "source": [
    "string_1"
   ]
  },
  {
   "cell_type": "code",
   "execution_count": 27,
   "id": "ee136f94",
   "metadata": {},
   "outputs": [
    {
     "data": {
      "text/plain": [
       "'usamiazoG uotagirA'"
      ]
     },
     "execution_count": 27,
     "metadata": {},
     "output_type": "execute_result"
    }
   ],
   "source": [
    "string_1[::-1]"
   ]
  },
  {
   "cell_type": "code",
   "execution_count": 28,
   "id": "4bcd711d",
   "metadata": {},
   "outputs": [
    {
     "name": "stdout",
     "output_type": "stream",
     "text": [
      "usamiazoG uotagirA"
     ]
    }
   ],
   "source": [
    "for j in reversed(string_1):\n",
    "    print(j, end='')"
   ]
  },
  {
   "cell_type": "markdown",
   "id": "a57df75f",
   "metadata": {},
   "source": [
    "## 9. Remove empty space from the middle of a `string`"
   ]
  },
  {
   "cell_type": "code",
   "execution_count": 29,
   "id": "d1cce22b",
   "metadata": {},
   "outputs": [
    {
     "data": {
      "text/plain": [
       "'Arigatou Gozaimasu'"
      ]
     },
     "execution_count": 29,
     "metadata": {},
     "output_type": "execute_result"
    }
   ],
   "source": [
    "string_1"
   ]
  },
  {
   "cell_type": "code",
   "execution_count": 30,
   "id": "b649b878",
   "metadata": {},
   "outputs": [
    {
     "data": {
      "text/plain": [
       "'ArigatouGozaimasu'"
      ]
     },
     "execution_count": 30,
     "metadata": {},
     "output_type": "execute_result"
    }
   ],
   "source": [
    "string_1.replace(' ', '')"
   ]
  },
  {
   "cell_type": "code",
   "execution_count": 31,
   "id": "4fcb8665",
   "metadata": {},
   "outputs": [
    {
     "data": {
      "text/plain": [
       "'ArigatouGozaimasu'"
      ]
     },
     "execution_count": 31,
     "metadata": {},
     "output_type": "execute_result"
    }
   ],
   "source": [
    "string_1[:8] + string_1[9:]"
   ]
  },
  {
   "cell_type": "markdown",
   "id": "d1231eb8",
   "metadata": {},
   "source": [
    "## 10. `string` concatenation"
   ]
  },
  {
   "cell_type": "code",
   "execution_count": 32,
   "id": "891808fa",
   "metadata": {},
   "outputs": [
    {
     "data": {
      "text/plain": [
       "'oyasumi nasai'"
      ]
     },
     "execution_count": 32,
     "metadata": {},
     "output_type": "execute_result"
    }
   ],
   "source": [
    "a = 'oyasumi'\n",
    "b = 'nasai'\n",
    "\n",
    "c = a + ' ' + b\n",
    "c # good night in Japanese language"
   ]
  },
  {
   "cell_type": "markdown",
   "id": "548f0ad0",
   "metadata": {},
   "source": [
    "## 11. Different `string` operations "
   ]
  },
  {
   "cell_type": "code",
   "execution_count": 33,
   "id": "93b3426e",
   "metadata": {},
   "outputs": [
    {
     "data": {
      "text/plain": [
       "'Oyasumi nasai'"
      ]
     },
     "execution_count": 33,
     "metadata": {},
     "output_type": "execute_result"
    }
   ],
   "source": [
    "c.capitalize() # converts the first letter to uppercase"
   ]
  },
  {
   "cell_type": "code",
   "execution_count": 34,
   "id": "0311852f",
   "metadata": {},
   "outputs": [
    {
     "data": {
      "text/plain": [
       "True"
      ]
     },
     "execution_count": 34,
     "metadata": {},
     "output_type": "execute_result"
    }
   ],
   "source": [
    "c.islower()"
   ]
  },
  {
   "cell_type": "code",
   "execution_count": 35,
   "id": "b96007ae",
   "metadata": {},
   "outputs": [
    {
     "data": {
      "text/plain": [
       "['oyasumi', 'nasai']"
      ]
     },
     "execution_count": 35,
     "metadata": {},
     "output_type": "execute_result"
    }
   ],
   "source": [
    "c.rsplit(' ') # returns a list"
   ]
  },
  {
   "cell_type": "code",
   "execution_count": 36,
   "id": "af86b780",
   "metadata": {},
   "outputs": [
    {
     "data": {
      "text/plain": [
       "('oyasumi', ' ', 'nasai')"
      ]
     },
     "execution_count": 36,
     "metadata": {},
     "output_type": "execute_result"
    }
   ],
   "source": [
    "c.rpartition(' ') # returns a tuple"
   ]
  },
  {
   "cell_type": "code",
   "execution_count": 37,
   "id": "42649ecc",
   "metadata": {},
   "outputs": [
    {
     "data": {
      "text/plain": [
       "'TOKYO'"
      ]
     },
     "execution_count": 37,
     "metadata": {},
     "output_type": "execute_result"
    }
   ],
   "source": [
    "string_2 = 'TOKYO'\n",
    "string_2"
   ]
  },
  {
   "cell_type": "code",
   "execution_count": 38,
   "id": "4a2f3d97",
   "metadata": {},
   "outputs": [
    {
     "data": {
      "text/plain": [
       "'tokyo'"
      ]
     },
     "execution_count": 38,
     "metadata": {},
     "output_type": "execute_result"
    }
   ],
   "source": [
    "string_2.casefold() # converts string into lowercase (in this case)"
   ]
  },
  {
   "cell_type": "code",
   "execution_count": 39,
   "id": "54d3c63b",
   "metadata": {},
   "outputs": [
    {
     "data": {
      "text/plain": [
       "'T_O_K_Y_O'"
      ]
     },
     "execution_count": 39,
     "metadata": {},
     "output_type": "execute_result"
    }
   ],
   "source": [
    "('_').join(string_2) # joins this character after each letter"
   ]
  },
  {
   "cell_type": "code",
   "execution_count": 40,
   "id": "de06c00e",
   "metadata": {},
   "outputs": [
    {
     "data": {
      "text/plain": [
       "('TO', 'K', 'YO')"
      ]
     },
     "execution_count": 40,
     "metadata": {},
     "output_type": "execute_result"
    }
   ],
   "source": [
    "string_2.partition('K') # returns a tuple"
   ]
  },
  {
   "cell_type": "code",
   "execution_count": 41,
   "id": "bda5c9da",
   "metadata": {},
   "outputs": [
    {
     "data": {
      "text/plain": [
       "4"
      ]
     },
     "execution_count": 41,
     "metadata": {},
     "output_type": "execute_result"
    }
   ],
   "source": [
    "string_2.rfind('O') # returns the last position"
   ]
  },
  {
   "cell_type": "code",
   "execution_count": 42,
   "id": "51d2cd1c",
   "metadata": {},
   "outputs": [
    {
     "data": {
      "text/plain": [
       "4"
      ]
     },
     "execution_count": 42,
     "metadata": {},
     "output_type": "execute_result"
    }
   ],
   "source": [
    "string_2.rindex('O')"
   ]
  },
  {
   "cell_type": "code",
   "execution_count": 43,
   "id": "e2548021",
   "metadata": {},
   "outputs": [
    {
     "data": {
      "text/plain": [
       "'TOKYO'"
      ]
     },
     "execution_count": 43,
     "metadata": {},
     "output_type": "execute_result"
    }
   ],
   "source": [
    "string_2"
   ]
  },
  {
   "cell_type": "code",
   "execution_count": 44,
   "id": "f362ed3a",
   "metadata": {},
   "outputs": [
    {
     "data": {
      "text/plain": [
       "'tokyo'"
      ]
     },
     "execution_count": 44,
     "metadata": {},
     "output_type": "execute_result"
    }
   ],
   "source": [
    "string_2.lower()"
   ]
  },
  {
   "cell_type": "code",
   "execution_count": 45,
   "id": "fe08d537",
   "metadata": {},
   "outputs": [
    {
     "data": {
      "text/plain": [
       "True"
      ]
     },
     "execution_count": 45,
     "metadata": {},
     "output_type": "execute_result"
    }
   ],
   "source": [
    "string_2.isupper() # returns 'True' if characters are UPPERCASE"
   ]
  },
  {
   "cell_type": "code",
   "execution_count": 46,
   "id": "467789d8",
   "metadata": {},
   "outputs": [
    {
     "data": {
      "text/plain": [
       "'..TOKYO..'"
      ]
     },
     "execution_count": 46,
     "metadata": {},
     "output_type": "execute_result"
    }
   ],
   "source": [
    "string_2.center(9, '.') # returns a centered string"
   ]
  },
  {
   "cell_type": "code",
   "execution_count": 47,
   "id": "7e9cabe6",
   "metadata": {},
   "outputs": [
    {
     "data": {
      "text/plain": [
       "'  TOKYO  '"
      ]
     },
     "execution_count": 47,
     "metadata": {},
     "output_type": "execute_result"
    }
   ],
   "source": [
    "string_2.center(9,)"
   ]
  },
  {
   "cell_type": "code",
   "execution_count": 48,
   "id": "3619b688",
   "metadata": {},
   "outputs": [
    {
     "data": {
      "text/plain": [
       "'oyasumi nasai'"
      ]
     },
     "execution_count": 48,
     "metadata": {},
     "output_type": "execute_result"
    }
   ],
   "source": [
    "c"
   ]
  },
  {
   "cell_type": "code",
   "execution_count": 49,
   "id": "53c88563",
   "metadata": {},
   "outputs": [
    {
     "data": {
      "text/plain": [
       "3"
      ]
     },
     "execution_count": 49,
     "metadata": {},
     "output_type": "execute_result"
    }
   ],
   "source": [
    "c.count('a') # count a specific letter"
   ]
  },
  {
   "cell_type": "code",
   "execution_count": 50,
   "id": "9772881a",
   "metadata": {},
   "outputs": [
    {
     "data": {
      "text/plain": [
       "'TOKYO'"
      ]
     },
     "execution_count": 50,
     "metadata": {},
     "output_type": "execute_result"
    }
   ],
   "source": [
    "string_2"
   ]
  },
  {
   "cell_type": "code",
   "execution_count": 51,
   "id": "33f6407f",
   "metadata": {},
   "outputs": [
    {
     "data": {
      "text/plain": [
       "True"
      ]
     },
     "execution_count": 51,
     "metadata": {},
     "output_type": "execute_result"
    }
   ],
   "source": [
    "string_2.startswith('T')"
   ]
  },
  {
   "cell_type": "code",
   "execution_count": 52,
   "id": "c67f2243",
   "metadata": {},
   "outputs": [
    {
     "data": {
      "text/plain": [
       "True"
      ]
     },
     "execution_count": 52,
     "metadata": {},
     "output_type": "execute_result"
    }
   ],
   "source": [
    "string_2.endswith('O')"
   ]
  },
  {
   "cell_type": "code",
   "execution_count": 53,
   "id": "7798eedb",
   "metadata": {},
   "outputs": [
    {
     "data": {
      "text/plain": [
       "False"
      ]
     },
     "execution_count": 53,
     "metadata": {},
     "output_type": "execute_result"
    }
   ],
   "source": [
    "string_2.endswith('T')"
   ]
  },
  {
   "cell_type": "code",
   "execution_count": 54,
   "id": "804371c3",
   "metadata": {},
   "outputs": [
    {
     "data": {
      "text/plain": [
       "2"
      ]
     },
     "execution_count": 54,
     "metadata": {},
     "output_type": "execute_result"
    }
   ],
   "source": [
    "string_2.find('KYO') # returns the position of specified letter"
   ]
  },
  {
   "cell_type": "code",
   "execution_count": 55,
   "id": "e98e78d4",
   "metadata": {},
   "outputs": [
    {
     "data": {
      "text/plain": [
       "2"
      ]
     },
     "execution_count": 55,
     "metadata": {},
     "output_type": "execute_result"
    }
   ],
   "source": [
    "string_2.find('K')"
   ]
  },
  {
   "cell_type": "code",
   "execution_count": 56,
   "id": "907bb1eb",
   "metadata": {},
   "outputs": [
    {
     "data": {
      "text/plain": [
       "3"
      ]
     },
     "execution_count": 56,
     "metadata": {},
     "output_type": "execute_result"
    }
   ],
   "source": [
    "string_2.find('Y')"
   ]
  },
  {
   "cell_type": "code",
   "execution_count": 57,
   "id": "761dcaa1",
   "metadata": {},
   "outputs": [
    {
     "data": {
      "text/plain": [
       "0"
      ]
     },
     "execution_count": 57,
     "metadata": {},
     "output_type": "execute_result"
    }
   ],
   "source": [
    "string_2.index('TOK') # returns the index of specified letter"
   ]
  },
  {
   "cell_type": "code",
   "execution_count": 58,
   "id": "72fa4494",
   "metadata": {},
   "outputs": [
    {
     "data": {
      "text/plain": [
       "0"
      ]
     },
     "execution_count": 58,
     "metadata": {},
     "output_type": "execute_result"
    }
   ],
   "source": [
    "string_2.index('T')"
   ]
  },
  {
   "cell_type": "code",
   "execution_count": 59,
   "id": "d15bc336",
   "metadata": {},
   "outputs": [
    {
     "data": {
      "text/plain": [
       "2"
      ]
     },
     "execution_count": 59,
     "metadata": {},
     "output_type": "execute_result"
    }
   ],
   "source": [
    "string_2.index('K')"
   ]
  },
  {
   "cell_type": "code",
   "execution_count": 60,
   "id": "391c1ec7",
   "metadata": {},
   "outputs": [
    {
     "data": {
      "text/plain": [
       "'50cent'"
      ]
     },
     "execution_count": 60,
     "metadata": {},
     "output_type": "execute_result"
    }
   ],
   "source": [
    "string_3 = '50cent'\n",
    "string_3"
   ]
  },
  {
   "cell_type": "code",
   "execution_count": 61,
   "id": "36a01204",
   "metadata": {},
   "outputs": [
    {
     "data": {
      "text/plain": [
       "True"
      ]
     },
     "execution_count": 61,
     "metadata": {},
     "output_type": "execute_result"
    }
   ],
   "source": [
    "string_3.isalnum() # returns 'True' for alphanumeric characters"
   ]
  },
  {
   "cell_type": "code",
   "execution_count": 62,
   "id": "93d75eaf",
   "metadata": {},
   "outputs": [
    {
     "data": {
      "text/plain": [
       "False"
      ]
     },
     "execution_count": 62,
     "metadata": {},
     "output_type": "execute_result"
    }
   ],
   "source": [
    "string_3.isalpha()"
   ]
  },
  {
   "cell_type": "code",
   "execution_count": 63,
   "id": "c77c6ef0",
   "metadata": {},
   "outputs": [
    {
     "data": {
      "text/plain": [
       "'cent'"
      ]
     },
     "execution_count": 63,
     "metadata": {},
     "output_type": "execute_result"
    }
   ],
   "source": [
    "string_3[2:]"
   ]
  },
  {
   "cell_type": "code",
   "execution_count": 64,
   "id": "4b95e461",
   "metadata": {},
   "outputs": [
    {
     "data": {
      "text/plain": [
       "True"
      ]
     },
     "execution_count": 64,
     "metadata": {},
     "output_type": "execute_result"
    }
   ],
   "source": [
    "string_3[2:].isalpha() # returns 'True' for alphabets"
   ]
  },
  {
   "cell_type": "code",
   "execution_count": 65,
   "id": "1f89819b",
   "metadata": {},
   "outputs": [
    {
     "data": {
      "text/plain": [
       "'50'"
      ]
     },
     "execution_count": 65,
     "metadata": {},
     "output_type": "execute_result"
    }
   ],
   "source": [
    "string_3[:2]"
   ]
  },
  {
   "cell_type": "code",
   "execution_count": 66,
   "id": "4e697299",
   "metadata": {},
   "outputs": [
    {
     "data": {
      "text/plain": [
       "True"
      ]
     },
     "execution_count": 66,
     "metadata": {},
     "output_type": "execute_result"
    }
   ],
   "source": [
    "string_3[:2].isdecimal() # returns 'True' for decimals (0-9)"
   ]
  },
  {
   "cell_type": "code",
   "execution_count": 67,
   "id": "6036c1a3",
   "metadata": {},
   "outputs": [
    {
     "data": {
      "text/plain": [
       "True"
      ]
     },
     "execution_count": 67,
     "metadata": {},
     "output_type": "execute_result"
    }
   ],
   "source": [
    "string_3[:2].isdigit()"
   ]
  },
  {
   "cell_type": "code",
   "execution_count": 68,
   "id": "239a5f4c",
   "metadata": {},
   "outputs": [
    {
     "data": {
      "text/plain": [
       "True"
      ]
     },
     "execution_count": 68,
     "metadata": {},
     "output_type": "execute_result"
    }
   ],
   "source": [
    "string_3[:2].isnumeric()"
   ]
  },
  {
   "cell_type": "code",
   "execution_count": 69,
   "id": "f30e3fb6",
   "metadata": {},
   "outputs": [
    {
     "data": {
      "text/plain": [
       "'  kyoto  '"
      ]
     },
     "execution_count": 69,
     "metadata": {},
     "output_type": "execute_result"
    }
   ],
   "source": [
    "string_4 = '  kyoto  '\n",
    "string_4"
   ]
  },
  {
   "cell_type": "code",
   "execution_count": 70,
   "id": "4cbe1be5",
   "metadata": {},
   "outputs": [
    {
     "data": {
      "text/plain": [
       "'kyoto  '"
      ]
     },
     "execution_count": 70,
     "metadata": {},
     "output_type": "execute_result"
    }
   ],
   "source": [
    "string_4.lstrip()"
   ]
  },
  {
   "cell_type": "code",
   "execution_count": 71,
   "id": "e0acbc06",
   "metadata": {},
   "outputs": [
    {
     "data": {
      "text/plain": [
       "'  kyoto'"
      ]
     },
     "execution_count": 71,
     "metadata": {},
     "output_type": "execute_result"
    }
   ],
   "source": [
    "string_4.rstrip()"
   ]
  },
  {
   "cell_type": "code",
   "execution_count": 72,
   "id": "f9e0a4b0",
   "metadata": {},
   "outputs": [
    {
     "data": {
      "text/plain": [
       "'kyoto'"
      ]
     },
     "execution_count": 72,
     "metadata": {},
     "output_type": "execute_result"
    }
   ],
   "source": [
    "string_4.strip()"
   ]
  },
  {
   "cell_type": "code",
   "execution_count": 73,
   "id": "d1a6b666",
   "metadata": {},
   "outputs": [
    {
     "data": {
      "text/plain": [
       "'  KYOTO  '"
      ]
     },
     "execution_count": 73,
     "metadata": {},
     "output_type": "execute_result"
    }
   ],
   "source": [
    "string_4.swapcase()"
   ]
  },
  {
   "cell_type": "code",
   "execution_count": 74,
   "id": "ffd7508e",
   "metadata": {},
   "outputs": [
    {
     "data": {
      "text/plain": [
       "'000  kyoto  '"
      ]
     },
     "execution_count": 74,
     "metadata": {},
     "output_type": "execute_result"
    }
   ],
   "source": [
    "string_4.zfill(12)"
   ]
  },
  {
   "cell_type": "code",
   "execution_count": 75,
   "id": "f4c92014",
   "metadata": {},
   "outputs": [
    {
     "data": {
      "text/plain": [
       "9"
      ]
     },
     "execution_count": 75,
     "metadata": {},
     "output_type": "execute_result"
    }
   ],
   "source": [
    "len(string_4)"
   ]
  },
  {
   "cell_type": "code",
   "execution_count": 76,
   "id": "a45d8c21",
   "metadata": {},
   "outputs": [
    {
     "data": {
      "text/plain": [
       "'0  kyoto  '"
      ]
     },
     "execution_count": 76,
     "metadata": {},
     "output_type": "execute_result"
    }
   ],
   "source": [
    "string_4.zfill(10)"
   ]
  },
  {
   "cell_type": "code",
   "execution_count": 77,
   "id": "1a1aee0c",
   "metadata": {},
   "outputs": [
    {
     "data": {
      "text/plain": [
       "\"It's my life\""
      ]
     },
     "execution_count": 77,
     "metadata": {},
     "output_type": "execute_result"
    }
   ],
   "source": [
    "string_5 = \"It's my life\"\n",
    "string_5"
   ]
  },
  {
   "cell_type": "code",
   "execution_count": 78,
   "id": "13f5ce0a",
   "metadata": {},
   "outputs": [
    {
     "data": {
      "text/plain": [
       "\"It's my life\""
      ]
     },
     "execution_count": 78,
     "metadata": {},
     "output_type": "execute_result"
    }
   ],
   "source": [
    "string_5 = 'It\\'s my life' # escapes character\n",
    "string_5"
   ]
  },
  {
   "cell_type": "code",
   "execution_count": 79,
   "id": "53c77cbe",
   "metadata": {},
   "outputs": [
    {
     "name": "stdout",
     "output_type": "stream",
     "text": [
      "\n",
      "tokyo\n",
      "osaka\n",
      "kyoto\n",
      "nagasaki\n",
      "hiroshima\n",
      "\n"
     ]
    }
   ],
   "source": [
    "multi = '''\n",
    "tokyo\n",
    "osaka\n",
    "kyoto\n",
    "nagasaki\n",
    "hiroshima\n",
    "'''\n",
    "print(multi) # prints multi line string"
   ]
  }
 ],
 "metadata": {
  "kernelspec": {
   "display_name": "Python 3 (ipykernel)",
   "language": "python",
   "name": "python3"
  },
  "language_info": {
   "codemirror_mode": {
    "name": "ipython",
    "version": 3
   },
   "file_extension": ".py",
   "mimetype": "text/x-python",
   "name": "python",
   "nbconvert_exporter": "python",
   "pygments_lexer": "ipython3",
   "version": "3.9.13"
  }
 },
 "nbformat": 4,
 "nbformat_minor": 5
}
