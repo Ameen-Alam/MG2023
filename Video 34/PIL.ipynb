{
 "cells": [
  {
   "cell_type": "markdown",
   "id": "7b1ab87e",
   "metadata": {},
   "source": [
    "# <center style='color:orangered'> Image manipulation using `PIL` (Python Imaging Library) </center>"
   ]
  },
  {
   "cell_type": "markdown",
   "id": "741ad77f",
   "metadata": {},
   "source": [
    "## 1. Import `Image` and `ImageFilter` module from `PIL` library, `NumPy`"
   ]
  },
  {
   "cell_type": "code",
   "execution_count": null,
   "id": "0c216160",
   "metadata": {},
   "outputs": [],
   "source": [
    "from PIL import Image\n",
    "from PIL import ImageFilter\n",
    "import numpy as np"
   ]
  },
  {
   "cell_type": "code",
   "execution_count": null,
   "id": "30b4d125",
   "metadata": {},
   "outputs": [],
   "source": [
    "img_1 = Image.open('SQUID.JPG')\n",
    "img_1"
   ]
  },
  {
   "cell_type": "markdown",
   "id": "dc75c5ab",
   "metadata": {},
   "source": [
    "## 2. Check image size"
   ]
  },
  {
   "cell_type": "code",
   "execution_count": null,
   "id": "8c439124",
   "metadata": {},
   "outputs": [],
   "source": [
    "img_1.size # (width, height)"
   ]
  },
  {
   "cell_type": "code",
   "execution_count": null,
   "id": "f2388fae",
   "metadata": {},
   "outputs": [],
   "source": [
    "img_1.width"
   ]
  },
  {
   "cell_type": "code",
   "execution_count": null,
   "id": "4d6924b0",
   "metadata": {},
   "outputs": [],
   "source": [
    "img_1.height"
   ]
  },
  {
   "cell_type": "markdown",
   "id": "da7d854b",
   "metadata": {},
   "source": [
    "## 3. Check the file name of the image"
   ]
  },
  {
   "cell_type": "code",
   "execution_count": null,
   "id": "6911d69b",
   "metadata": {},
   "outputs": [],
   "source": [
    "img_1.filename"
   ]
  },
  {
   "cell_type": "markdown",
   "id": "b57d8cdb",
   "metadata": {},
   "source": [
    "## 4. Check file format"
   ]
  },
  {
   "cell_type": "code",
   "execution_count": null,
   "id": "24186b77",
   "metadata": {},
   "outputs": [],
   "source": [
    "img_1.format"
   ]
  },
  {
   "cell_type": "markdown",
   "id": "d7503640",
   "metadata": {},
   "source": [
    "## 5. Check pixel format of the image"
   ]
  },
  {
   "cell_type": "code",
   "execution_count": null,
   "id": "6794d722",
   "metadata": {},
   "outputs": [],
   "source": [
    "img_1.mode"
   ]
  },
  {
   "cell_type": "markdown",
   "id": "46cbdc0c",
   "metadata": {},
   "source": [
    "## 6. Resize the image"
   ]
  },
  {
   "cell_type": "code",
   "execution_count": null,
   "id": "c2f85e67",
   "metadata": {},
   "outputs": [],
   "source": [
    "resized_1 = img_1.resize((800, 400))\n",
    "resized_1"
   ]
  },
  {
   "cell_type": "markdown",
   "id": "0e72d4bd",
   "metadata": {},
   "source": [
    "## 7. Rotate the image"
   ]
  },
  {
   "cell_type": "code",
   "execution_count": null,
   "id": "d69bed6b",
   "metadata": {},
   "outputs": [],
   "source": [
    "rotated_1 = resized_1.rotate(10)\n",
    "rotated_1"
   ]
  },
  {
   "cell_type": "markdown",
   "id": "716e0361",
   "metadata": {},
   "source": [
    "## 8. Change image file format"
   ]
  },
  {
   "cell_type": "code",
   "execution_count": null,
   "id": "0d336f7f",
   "metadata": {},
   "outputs": [],
   "source": [
    "img_1.format # check current format again"
   ]
  },
  {
   "cell_type": "code",
   "execution_count": null,
   "id": "a98831a7",
   "metadata": {},
   "outputs": [],
   "source": [
    "img_1.save('SQUID.PNG')"
   ]
  },
  {
   "cell_type": "code",
   "execution_count": null,
   "id": "9db9ec2a",
   "metadata": {},
   "outputs": [],
   "source": [
    "img_1_png = Image.open('SQUID.PNG')\n",
    "img_1_png"
   ]
  },
  {
   "cell_type": "code",
   "execution_count": null,
   "id": "2d77a9be",
   "metadata": {},
   "outputs": [],
   "source": [
    "img_1_png.format"
   ]
  },
  {
   "cell_type": "markdown",
   "id": "3c2f96ed",
   "metadata": {},
   "source": [
    "## 9. Extract individual image bands "
   ]
  },
  {
   "cell_type": "code",
   "execution_count": null,
   "id": "890944fe",
   "metadata": {},
   "outputs": [],
   "source": [
    "r, g, b = resized_1.split()\n",
    "resized_1"
   ]
  },
  {
   "cell_type": "markdown",
   "id": "d12d6414",
   "metadata": {},
   "source": [
    "## 10. Create new multiband images"
   ]
  },
  {
   "cell_type": "code",
   "execution_count": null,
   "id": "2ff63808",
   "metadata": {},
   "outputs": [],
   "source": [
    "new_1_brg = Image.merge('RGB', (b, r, g))\n",
    "new_1_brg"
   ]
  },
  {
   "cell_type": "code",
   "execution_count": null,
   "id": "37cc1b82",
   "metadata": {},
   "outputs": [],
   "source": [
    "new_2_gbr = Image.merge('RGB', (g, b, r))\n",
    "new_2_gbr"
   ]
  },
  {
   "cell_type": "markdown",
   "id": "addd601e",
   "metadata": {},
   "source": [
    "## 11. Combine two images"
   ]
  },
  {
   "cell_type": "code",
   "execution_count": null,
   "id": "1585f100",
   "metadata": {},
   "outputs": [],
   "source": [
    "img_2 = Image.open('FISH.JPG')\n",
    "img_2"
   ]
  },
  {
   "cell_type": "code",
   "execution_count": null,
   "id": "b8c0a394",
   "metadata": {},
   "outputs": [],
   "source": [
    "img_2.size"
   ]
  },
  {
   "cell_type": "code",
   "execution_count": null,
   "id": "28568f8e",
   "metadata": {},
   "outputs": [],
   "source": [
    "resized_2 = img_2.resize((800, 400))\n",
    "resized_2"
   ]
  },
  {
   "cell_type": "code",
   "execution_count": null,
   "id": "5a68dfc9",
   "metadata": {},
   "outputs": [],
   "source": [
    "resized_1.size[0], resized_2.size[1]"
   ]
  },
  {
   "cell_type": "code",
   "execution_count": null,
   "id": "fe3ce358",
   "metadata": {},
   "outputs": [],
   "source": [
    "combined_1 = Image.new('RGB', (2*resized_1.size[0], resized_2.size[1]))"
   ]
  },
  {
   "cell_type": "code",
   "execution_count": null,
   "id": "b10dfc98",
   "metadata": {},
   "outputs": [],
   "source": [
    "combined_1.paste(resized_1, (0, 0))\n",
    "combined_1.paste(resized_2, (resized_1.size[0], 0))\n",
    "combined_1 # combine horizontally"
   ]
  },
  {
   "cell_type": "code",
   "execution_count": null,
   "id": "437d07c8",
   "metadata": {},
   "outputs": [],
   "source": [
    "resized_1.size[0], resized_2.size[1]"
   ]
  },
  {
   "cell_type": "code",
   "execution_count": null,
   "id": "361479de",
   "metadata": {},
   "outputs": [],
   "source": [
    "combined_2 = Image.new('RGB', (resized_1.size[0], 2*resized_2.size[1]))"
   ]
  },
  {
   "cell_type": "code",
   "execution_count": null,
   "id": "2966c372",
   "metadata": {},
   "outputs": [],
   "source": [
    "combined_2.paste(resized_1, (0, 0))\n",
    "combined_2.paste(resized_2, (0, resized_2.size[1]))\n",
    "combined_2 # combine vertically"
   ]
  },
  {
   "cell_type": "markdown",
   "id": "c8cee0d1",
   "metadata": {},
   "source": [
    "## 12. Crop an image"
   ]
  },
  {
   "cell_type": "code",
   "execution_count": null,
   "id": "fd0c8357",
   "metadata": {},
   "outputs": [],
   "source": [
    "resized_2"
   ]
  },
  {
   "cell_type": "code",
   "execution_count": null,
   "id": "d4d10a45",
   "metadata": {},
   "outputs": [],
   "source": [
    "cropped_2 = resized_2.crop((60, 190, 300, 320)) # (left, top, right, bottom)\n",
    "cropped_2"
   ]
  },
  {
   "cell_type": "markdown",
   "id": "7f3bcdd5",
   "metadata": {},
   "source": [
    "## 13. Apply filtering on an image"
   ]
  },
  {
   "cell_type": "code",
   "execution_count": null,
   "id": "7043d90b",
   "metadata": {},
   "outputs": [],
   "source": [
    "resized_1"
   ]
  },
  {
   "cell_type": "code",
   "execution_count": null,
   "id": "2a11f447",
   "metadata": {},
   "outputs": [],
   "source": [
    "blurred_1 = resized_1.filter(ImageFilter.BLUR)\n",
    "blurred_1"
   ]
  },
  {
   "cell_type": "code",
   "execution_count": null,
   "id": "6605ae81",
   "metadata": {},
   "outputs": [],
   "source": [
    "resized_2"
   ]
  },
  {
   "cell_type": "code",
   "execution_count": null,
   "id": "9ee4206a",
   "metadata": {},
   "outputs": [],
   "source": [
    "blurred_2 = resized_2.filter(ImageFilter.BLUR)\n",
    "blurred_2"
   ]
  },
  {
   "cell_type": "code",
   "execution_count": null,
   "id": "05899c6f",
   "metadata": {},
   "outputs": [],
   "source": [
    "contour_2 = resized_2.filter(ImageFilter.CONTOUR)\n",
    "contour_2"
   ]
  },
  {
   "cell_type": "markdown",
   "id": "77fdcc22",
   "metadata": {},
   "source": [
    "## 14. Flip an image"
   ]
  },
  {
   "cell_type": "code",
   "execution_count": null,
   "id": "fc4174bc",
   "metadata": {},
   "outputs": [],
   "source": [
    "resized_1"
   ]
  },
  {
   "cell_type": "code",
   "execution_count": null,
   "id": "15e5ee66",
   "metadata": {},
   "outputs": [],
   "source": [
    "flipped_1_1 = resized_1.transpose(Image.Transpose.FLIP_LEFT_RIGHT)\n",
    "flipped_1_1"
   ]
  },
  {
   "cell_type": "code",
   "execution_count": null,
   "id": "c021f424",
   "metadata": {},
   "outputs": [],
   "source": [
    "flipped_1_2 = resized_1.transpose(Image.Transpose.FLIP_TOP_BOTTOM)\n",
    "flipped_1_2"
   ]
  },
  {
   "cell_type": "code",
   "execution_count": null,
   "id": "77f87ca5",
   "metadata": {},
   "outputs": [],
   "source": [
    "flipped_1_3 = resized_1.transpose(Image.Transpose.ROTATE_90)\n",
    "flipped_1_3"
   ]
  },
  {
   "cell_type": "markdown",
   "id": "7033f38c",
   "metadata": {},
   "source": [
    "## 15. Create an image from `NumPy` array"
   ]
  },
  {
   "cell_type": "code",
   "execution_count": null,
   "id": "d0164e8a",
   "metadata": {},
   "outputs": [],
   "source": [
    "np.random.seed(42)\n",
    "\n",
    "arr = np.random.randn(200, 200)\n",
    "arr"
   ]
  },
  {
   "cell_type": "code",
   "execution_count": null,
   "id": "b29a1d69",
   "metadata": {},
   "outputs": [],
   "source": [
    "arr.shape"
   ]
  },
  {
   "cell_type": "code",
   "execution_count": null,
   "id": "40ac62fd",
   "metadata": {},
   "outputs": [],
   "source": [
    "arr_to_img_1 = Image.fromarray(arr, mode='L')\n",
    "arr_to_img_1 # grayscale"
   ]
  },
  {
   "cell_type": "code",
   "execution_count": null,
   "id": "3560f422",
   "metadata": {},
   "outputs": [],
   "source": [
    "arr_to_img_2 = Image.fromarray(arr, mode='RGB')\n",
    "arr_to_img_2 # color"
   ]
  }
 ],
 "metadata": {
  "kernelspec": {
   "display_name": "Python 3 (ipykernel)",
   "language": "python",
   "name": "python3"
  },
  "language_info": {
   "codemirror_mode": {
    "name": "ipython",
    "version": 3
   },
   "file_extension": ".py",
   "mimetype": "text/x-python",
   "name": "python",
   "nbconvert_exporter": "python",
   "pygments_lexer": "ipython3",
   "version": "3.9.13"
  }
 },
 "nbformat": 4,
 "nbformat_minor": 5
}
