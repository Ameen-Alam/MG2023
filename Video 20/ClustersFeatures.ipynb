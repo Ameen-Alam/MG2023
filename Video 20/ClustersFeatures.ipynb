{
 "cells": [
  {
   "cell_type": "markdown",
   "id": "dce026e5",
   "metadata": {},
   "source": [
    "# <center style='color:deeppink'> Internal Cluster Validation Using `ClustersFeatures` Module </center>"
   ]
  },
  {
   "cell_type": "markdown",
   "id": "ec690af9",
   "metadata": {},
   "source": [
    "## 1. Import required libraries"
   ]
  },
  {
   "cell_type": "code",
   "execution_count": 1,
   "id": "84f639dc",
   "metadata": {},
   "outputs": [
    {
     "name": "stdout",
     "output_type": "stream",
     "text": [
      "ClustersFeatures version: 1.0.3\n"
     ]
    }
   ],
   "source": [
    "import ClustersFeatures\n",
    "print('ClustersFeatures version:', ClustersFeatures.__version__)\n",
    "from ClustersFeatures import ClustersCharacteristics\n",
    "\n",
    "from sklearn.cluster import KMeans\n",
    "from sklearn import datasets\n",
    "\n",
    "import pandas as pd"
   ]
  },
  {
   "cell_type": "markdown",
   "id": "e095c25b",
   "metadata": {},
   "source": [
    "## 2. Create dataset "
   ]
  },
  {
   "cell_type": "code",
   "execution_count": 2,
   "id": "1129e0f0",
   "metadata": {},
   "outputs": [],
   "source": [
    "features, _ = datasets.make_classification(n_samples=250, n_features=4, random_state=1)"
   ]
  },
  {
   "cell_type": "markdown",
   "id": "f4b764f0",
   "metadata": {},
   "source": [
    "##### `Internal cluster validation` is applicaple in situations where ground truth information is absent. Hence, we didn't generate any labels while creating our dataset. "
   ]
  },
  {
   "cell_type": "code",
   "execution_count": 3,
   "id": "ae6b7d3b",
   "metadata": {},
   "outputs": [
    {
     "data": {
      "text/plain": [
       "(250, 4)"
      ]
     },
     "execution_count": 3,
     "metadata": {},
     "output_type": "execute_result"
    }
   ],
   "source": [
    "features.shape # (samples, features)"
   ]
  },
  {
   "cell_type": "markdown",
   "id": "f26e03e0",
   "metadata": {},
   "source": [
    "## 3. Perform K-Means clustering considering 2 clusters"
   ]
  },
  {
   "cell_type": "code",
   "execution_count": 4,
   "id": "ee754413",
   "metadata": {},
   "outputs": [
    {
     "name": "stdout",
     "output_type": "stream",
     "text": [
      "(250, 5)\n",
      "[1 0]\n"
     ]
    },
    {
     "data": {
      "text/html": [
       "<div>\n",
       "<style scoped>\n",
       "    .dataframe tbody tr th:only-of-type {\n",
       "        vertical-align: middle;\n",
       "    }\n",
       "\n",
       "    .dataframe tbody tr th {\n",
       "        vertical-align: top;\n",
       "    }\n",
       "\n",
       "    .dataframe thead th {\n",
       "        text-align: right;\n",
       "    }\n",
       "</style>\n",
       "<table border=\"1\" class=\"dataframe\">\n",
       "  <thead>\n",
       "    <tr style=\"text-align: right;\">\n",
       "      <th></th>\n",
       "      <th>0</th>\n",
       "      <th>1</th>\n",
       "      <th>2</th>\n",
       "      <th>3</th>\n",
       "      <th>Labels1</th>\n",
       "    </tr>\n",
       "  </thead>\n",
       "  <tbody>\n",
       "    <tr>\n",
       "      <th>0</th>\n",
       "      <td>-0.281532</td>\n",
       "      <td>-0.303150</td>\n",
       "      <td>-1.217345</td>\n",
       "      <td>1.024123</td>\n",
       "      <td>1</td>\n",
       "    </tr>\n",
       "    <tr>\n",
       "      <th>1</th>\n",
       "      <td>-0.218180</td>\n",
       "      <td>-0.200283</td>\n",
       "      <td>-1.119217</td>\n",
       "      <td>0.897119</td>\n",
       "      <td>1</td>\n",
       "    </tr>\n",
       "    <tr>\n",
       "      <th>2</th>\n",
       "      <td>-0.598217</td>\n",
       "      <td>-0.786243</td>\n",
       "      <td>-1.865780</td>\n",
       "      <td>1.751918</td>\n",
       "      <td>1</td>\n",
       "    </tr>\n",
       "    <tr>\n",
       "      <th>3</th>\n",
       "      <td>-1.194223</td>\n",
       "      <td>-2.003848</td>\n",
       "      <td>-1.521355</td>\n",
       "      <td>2.200870</td>\n",
       "      <td>1</td>\n",
       "    </tr>\n",
       "    <tr>\n",
       "      <th>4</th>\n",
       "      <td>-0.820275</td>\n",
       "      <td>-2.003250</td>\n",
       "      <td>2.135508</td>\n",
       "      <td>-0.359775</td>\n",
       "      <td>1</td>\n",
       "    </tr>\n",
       "  </tbody>\n",
       "</table>\n",
       "</div>"
      ],
      "text/plain": [
       "          0         1         2         3  Labels1\n",
       "0 -0.281532 -0.303150 -1.217345  1.024123        1\n",
       "1 -0.218180 -0.200283 -1.119217  0.897119        1\n",
       "2 -0.598217 -0.786243 -1.865780  1.751918        1\n",
       "3 -1.194223 -2.003848 -1.521355  2.200870        1\n",
       "4 -0.820275 -2.003250  2.135508 -0.359775        1"
      ]
     },
     "execution_count": 4,
     "metadata": {},
     "output_type": "execute_result"
    }
   ],
   "source": [
    "df1 = pd.DataFrame(features)\n",
    "\n",
    "kmeans1 = KMeans(n_clusters=2, n_init='auto', random_state=1)\n",
    "kmeans1.fit(df1)\n",
    "labels1 = kmeans1.labels_\n",
    "\n",
    "df1['Labels1'] = labels1\n",
    "print(df1.shape)\n",
    "print(df1.Labels1.unique())\n",
    "cc1 = ClustersCharacteristics(df1, label_target='Labels1')\n",
    "df1.head()"
   ]
  },
  {
   "cell_type": "markdown",
   "id": "33b9b807",
   "metadata": {},
   "source": [
    "## 4. Perform K-Means clustering considering 3 clusters"
   ]
  },
  {
   "cell_type": "code",
   "execution_count": 5,
   "id": "f8427995",
   "metadata": {},
   "outputs": [
    {
     "name": "stdout",
     "output_type": "stream",
     "text": [
      "(250, 5)\n",
      "[1 0 2]\n"
     ]
    },
    {
     "data": {
      "text/html": [
       "<div>\n",
       "<style scoped>\n",
       "    .dataframe tbody tr th:only-of-type {\n",
       "        vertical-align: middle;\n",
       "    }\n",
       "\n",
       "    .dataframe tbody tr th {\n",
       "        vertical-align: top;\n",
       "    }\n",
       "\n",
       "    .dataframe thead th {\n",
       "        text-align: right;\n",
       "    }\n",
       "</style>\n",
       "<table border=\"1\" class=\"dataframe\">\n",
       "  <thead>\n",
       "    <tr style=\"text-align: right;\">\n",
       "      <th></th>\n",
       "      <th>0</th>\n",
       "      <th>1</th>\n",
       "      <th>2</th>\n",
       "      <th>3</th>\n",
       "      <th>Labels2</th>\n",
       "    </tr>\n",
       "  </thead>\n",
       "  <tbody>\n",
       "    <tr>\n",
       "      <th>0</th>\n",
       "      <td>-0.281532</td>\n",
       "      <td>-0.303150</td>\n",
       "      <td>-1.217345</td>\n",
       "      <td>1.024123</td>\n",
       "      <td>1</td>\n",
       "    </tr>\n",
       "    <tr>\n",
       "      <th>1</th>\n",
       "      <td>-0.218180</td>\n",
       "      <td>-0.200283</td>\n",
       "      <td>-1.119217</td>\n",
       "      <td>0.897119</td>\n",
       "      <td>1</td>\n",
       "    </tr>\n",
       "    <tr>\n",
       "      <th>2</th>\n",
       "      <td>-0.598217</td>\n",
       "      <td>-0.786243</td>\n",
       "      <td>-1.865780</td>\n",
       "      <td>1.751918</td>\n",
       "      <td>1</td>\n",
       "    </tr>\n",
       "    <tr>\n",
       "      <th>3</th>\n",
       "      <td>-1.194223</td>\n",
       "      <td>-2.003848</td>\n",
       "      <td>-1.521355</td>\n",
       "      <td>2.200870</td>\n",
       "      <td>1</td>\n",
       "    </tr>\n",
       "    <tr>\n",
       "      <th>4</th>\n",
       "      <td>-0.820275</td>\n",
       "      <td>-2.003250</td>\n",
       "      <td>2.135508</td>\n",
       "      <td>-0.359775</td>\n",
       "      <td>0</td>\n",
       "    </tr>\n",
       "  </tbody>\n",
       "</table>\n",
       "</div>"
      ],
      "text/plain": [
       "          0         1         2         3  Labels2\n",
       "0 -0.281532 -0.303150 -1.217345  1.024123        1\n",
       "1 -0.218180 -0.200283 -1.119217  0.897119        1\n",
       "2 -0.598217 -0.786243 -1.865780  1.751918        1\n",
       "3 -1.194223 -2.003848 -1.521355  2.200870        1\n",
       "4 -0.820275 -2.003250  2.135508 -0.359775        0"
      ]
     },
     "execution_count": 5,
     "metadata": {},
     "output_type": "execute_result"
    }
   ],
   "source": [
    "df2 = pd.DataFrame(features)\n",
    "\n",
    "kmeans2 = KMeans(n_clusters=3, n_init='auto', random_state=1)\n",
    "kmeans2.fit(df2)\n",
    "labels2 = kmeans2.labels_\n",
    "\n",
    "df2['Labels2'] = labels2\n",
    "print(df2.shape)\n",
    "print(df2.Labels2.unique())\n",
    "cc2 = ClustersCharacteristics(df2, label_target='Labels2')\n",
    "df2.head()"
   ]
  },
  {
   "cell_type": "markdown",
   "id": "8eb442ab",
   "metadata": {},
   "source": [
    "## 5. Calculate `Ball-Hall` index"
   ]
  },
  {
   "cell_type": "code",
   "execution_count": 6,
   "id": "16b293cd",
   "metadata": {},
   "outputs": [
    {
     "name": "stdout",
     "output_type": "stream",
     "text": [
      "Ball-Hall index for 2-clusters: 3.04258\n",
      "Ball-Hall index for 3-clusters: 1.91677\n"
     ]
    }
   ],
   "source": [
    "print('Ball-Hall index for 2-clusters:', round(cc1.score_index_ball_hall(), 5))\n",
    "print('Ball-Hall index for 3-clusters:', round(cc2.score_index_ball_hall(), 5))"
   ]
  },
  {
   "cell_type": "markdown",
   "id": "032257f5",
   "metadata": {},
   "source": [
    "### Lower value of `Ball-Hall` index means better clustering."
   ]
  },
  {
   "cell_type": "markdown",
   "id": "3b5fac98",
   "metadata": {},
   "source": [
    "## 6. Calculate `Banfeld-Raftery` index"
   ]
  },
  {
   "cell_type": "code",
   "execution_count": 7,
   "id": "1f1dd897",
   "metadata": {},
   "outputs": [
    {
     "name": "stdout",
     "output_type": "stream",
     "text": [
      "Banfeld-Raftery index for 2-clusters: 276.62073\n",
      "Banfeld-Raftery index for 3-clusters: 160.51897\n"
     ]
    }
   ],
   "source": [
    "print('Banfeld-Raftery index for 2-clusters:', round(cc1.score_index_banfeld_Raftery(), 5))\n",
    "print('Banfeld-Raftery index for 3-clusters:', round(cc2.score_index_banfeld_Raftery(), 5))"
   ]
  },
  {
   "cell_type": "markdown",
   "id": "ffb902af",
   "metadata": {},
   "source": [
    "### Lower value of `Banfeld-Raftery` index means better clustering."
   ]
  },
  {
   "cell_type": "markdown",
   "id": "f8186993",
   "metadata": {},
   "source": [
    "## 7. Calculate `Ray-Turi` index"
   ]
  },
  {
   "cell_type": "code",
   "execution_count": 8,
   "id": "7fbf5adb",
   "metadata": {},
   "outputs": [
    {
     "name": "stdout",
     "output_type": "stream",
     "text": [
      "Ray-Turi index for 2-clusters: 0.33844\n",
      "Ray-Turi index for 3-clusters: 0.22495\n"
     ]
    }
   ],
   "source": [
    "print('Ray-Turi index for 2-clusters:', round(cc1.score_index_ray_turi(), 5))\n",
    "print('Ray-Turi index for 3-clusters:', round(cc2.score_index_ray_turi(), 5))"
   ]
  },
  {
   "cell_type": "markdown",
   "id": "c7b34f44",
   "metadata": {},
   "source": [
    "### Lower value of `Ray-Turi` index means better clustering."
   ]
  },
  {
   "cell_type": "markdown",
   "id": "f595f28e",
   "metadata": {},
   "source": [
    "## 8. Calculate `Xie-Beni` index "
   ]
  },
  {
   "cell_type": "code",
   "execution_count": 9,
   "id": "1a3d49c9",
   "metadata": {},
   "outputs": [
    {
     "name": "stdout",
     "output_type": "stream",
     "text": [
      "Xie-Beni index for 2-clusters: 496.54651\n",
      "Xie-Beni index for 3-clusters: 126.40268\n"
     ]
    }
   ],
   "source": [
    "print('Xie-Beni index for 2-clusters:', round(cc1.score_index_xie_beni(), 5))\n",
    "print('Xie-Beni index for 3-clusters:', round(cc2.score_index_xie_beni(), 5))"
   ]
  },
  {
   "cell_type": "markdown",
   "id": "a33c1f9d",
   "metadata": {},
   "source": [
    "### Lower value of `Xie-Beni` index means better clustering."
   ]
  },
  {
   "cell_type": "markdown",
   "id": "8a8e865f",
   "metadata": {},
   "source": [
    "## 9. Calculate `C` index"
   ]
  },
  {
   "cell_type": "code",
   "execution_count": 10,
   "id": "e781d5ce",
   "metadata": {},
   "outputs": [
    {
     "name": "stdout",
     "output_type": "stream",
     "text": [
      "C index for 2-clusters: 0.1962\n",
      "C index for 3-clusters: 0.11912\n"
     ]
    }
   ],
   "source": [
    "print('C index for 2-clusters:', round(cc1.score_index_c(), 5))\n",
    "print('C index for 3-clusters:', round(cc2.score_index_c(), 5))"
   ]
  },
  {
   "cell_type": "markdown",
   "id": "bac917d1",
   "metadata": {},
   "source": [
    "### Lower value of `C` index means better clustering."
   ]
  },
  {
   "cell_type": "markdown",
   "id": "b520e402",
   "metadata": {},
   "source": [
    "## 10. Calculate `Mclain-Rao` index "
   ]
  },
  {
   "cell_type": "code",
   "execution_count": 11,
   "id": "f7e74d2d",
   "metadata": {},
   "outputs": [
    {
     "name": "stdout",
     "output_type": "stream",
     "text": [
      "Mclain-Rao index for 2-clusters: 0.59801\n",
      "Mclain-Rao index for 3-clusters: 0.48652\n"
     ]
    }
   ],
   "source": [
    "print('Mclain-Rao index for 2-clusters:', round(cc1.score_index_mclain_rao(), 5))\n",
    "print('Mclain-Rao index for 3-clusters:', round(cc2.score_index_mclain_rao(), 5))"
   ]
  },
  {
   "cell_type": "markdown",
   "id": "fcfa74ee",
   "metadata": {},
   "source": [
    "### Lower value of `Mclain-Rao` index means better clustering."
   ]
  },
  {
   "cell_type": "markdown",
   "id": "55574fc4",
   "metadata": {},
   "source": [
    "## 11. Calculate `Wemmert-Gancarski` index "
   ]
  },
  {
   "cell_type": "code",
   "execution_count": 12,
   "id": "3dd5bd33",
   "metadata": {},
   "outputs": [
    {
     "name": "stdout",
     "output_type": "stream",
     "text": [
      "Wemmert-Gancarski index for 2-clusters: 0.50183\n",
      "Wemmert-Gancarski index for 3-clusters: 0.55066\n"
     ]
    }
   ],
   "source": [
    "print('Wemmert-Gancarski index for 2-clusters:', round(cc1.score_index_wemmert_gancarski(), 5))\n",
    "print('Wemmert-Gancarski index for 3-clusters:', round(cc2.score_index_wemmert_gancarski(), 5))"
   ]
  },
  {
   "cell_type": "markdown",
   "id": "e014813d",
   "metadata": {},
   "source": [
    "### Higher value of `Wemmert-Gancarski` index means better clustering."
   ]
  },
  {
   "cell_type": "markdown",
   "id": "0efe083e",
   "metadata": {},
   "source": [
    "## 12. Calculate `PBM` index "
   ]
  },
  {
   "cell_type": "code",
   "execution_count": 13,
   "id": "123e7ba0",
   "metadata": {},
   "outputs": [
    {
     "name": "stdout",
     "output_type": "stream",
     "text": [
      "PBM index for 2-clusters: 3.95345\n",
      "PBM index for 3-clusters: 3.97818\n"
     ]
    }
   ],
   "source": [
    "print('PBM index for 2-clusters:', round(cc1.score_index_PBM(), 5))\n",
    "print('PBM index for 3-clusters:', round(cc2.score_index_PBM(), 5))"
   ]
  },
  {
   "cell_type": "markdown",
   "id": "dfbd4ad0",
   "metadata": {},
   "source": [
    "### Higher value of `PBM` index means better clustering."
   ]
  }
 ],
 "metadata": {
  "kernelspec": {
   "display_name": "Python 3 (ipykernel)",
   "language": "python",
   "name": "python3"
  },
  "language_info": {
   "codemirror_mode": {
    "name": "ipython",
    "version": 3
   },
   "file_extension": ".py",
   "mimetype": "text/x-python",
   "name": "python",
   "nbconvert_exporter": "python",
   "pygments_lexer": "ipython3",
   "version": "3.9.13"
  }
 },
 "nbformat": 4,
 "nbformat_minor": 5
}
