{
 "cells": [
  {
   "cell_type": "markdown",
   "id": "dab1d026",
   "metadata": {},
   "source": [
    "# <center style='color:olive'> `Sets` in Python </center>"
   ]
  },
  {
   "cell_type": "markdown",
   "id": "f9cd85d5",
   "metadata": {},
   "source": [
    "## 1. Create a `set`"
   ]
  },
  {
   "cell_type": "code",
   "execution_count": 1,
   "id": "370e7463",
   "metadata": {},
   "outputs": [
    {
     "data": {
      "text/plain": [
       "{(9+3j), 67, 9.5, False, True, 'man'}"
      ]
     },
     "execution_count": 1,
     "metadata": {},
     "output_type": "execute_result"
    }
   ],
   "source": [
    "set_1 = {'man', 67, 9.5, True, False, 9 + 3j}\n",
    "set_1 # doesn't follow order"
   ]
  },
  {
   "cell_type": "code",
   "execution_count": 2,
   "id": "8bd4d554",
   "metadata": {},
   "outputs": [
    {
     "data": {
      "text/plain": [
       "set"
      ]
     },
     "execution_count": 2,
     "metadata": {},
     "output_type": "execute_result"
    }
   ],
   "source": [
    "type(set_1)"
   ]
  },
  {
   "cell_type": "markdown",
   "id": "a0684594",
   "metadata": {},
   "source": [
    "## 2. Check the length of a `set`"
   ]
  },
  {
   "cell_type": "code",
   "execution_count": 3,
   "id": "6abd69e3",
   "metadata": {},
   "outputs": [
    {
     "data": {
      "text/plain": [
       "6"
      ]
     },
     "execution_count": 3,
     "metadata": {},
     "output_type": "execute_result"
    }
   ],
   "source": [
    "len(set_1)"
   ]
  },
  {
   "cell_type": "markdown",
   "id": "849e07eb",
   "metadata": {},
   "source": [
    "## 3. Duplicacy is not allowed in `set` "
   ]
  },
  {
   "cell_type": "code",
   "execution_count": 4,
   "id": "f212c365",
   "metadata": {},
   "outputs": [
    {
     "data": {
      "text/plain": [
       "{(9+3j), 67, 9.5, False, True, 'man'}"
      ]
     },
     "execution_count": 4,
     "metadata": {},
     "output_type": "execute_result"
    }
   ],
   "source": [
    "set_2 = {'man', 67, 9.5, True, False, 9 + 3j, True}\n",
    "set_2"
   ]
  },
  {
   "cell_type": "markdown",
   "id": "de05bfd6",
   "metadata": {},
   "source": [
    "## 4. Iterate through a `set` using `for` loop"
   ]
  },
  {
   "cell_type": "code",
   "execution_count": 5,
   "id": "8a62e251",
   "metadata": {},
   "outputs": [
    {
     "name": "stdout",
     "output_type": "stream",
     "text": [
      "False \t <class 'bool'>\n",
      "True \t <class 'bool'>\n",
      "man \t <class 'str'>\n",
      "67 \t <class 'int'>\n",
      "(9+3j) \t <class 'complex'>\n",
      "9.5 \t <class 'float'>\n"
     ]
    }
   ],
   "source": [
    "for item in set_1:\n",
    "    print(item, '\\t', type(item))"
   ]
  },
  {
   "cell_type": "markdown",
   "id": "d6c72eae",
   "metadata": {},
   "source": [
    "## 5. Iterate through a `set` using `while` loop"
   ]
  },
  {
   "cell_type": "code",
   "execution_count": 6,
   "id": "6f31f419",
   "metadata": {},
   "outputs": [
    {
     "name": "stdout",
     "output_type": "stream",
     "text": [
      "False\n",
      "True\n",
      "man\n",
      "67\n",
      "(9+3j)\n",
      "9.5\n"
     ]
    }
   ],
   "source": [
    "set_1_to_list = list(set_1)\n",
    "\n",
    "n = 0\n",
    "while n < len(set_1_to_list):\n",
    "    print(set_1_to_list[n])\n",
    "    n += 1"
   ]
  },
  {
   "cell_type": "markdown",
   "id": "20bfd463",
   "metadata": {},
   "source": [
    "## 6. Create a set using `set()` function"
   ]
  },
  {
   "cell_type": "code",
   "execution_count": 7,
   "id": "9affd3da",
   "metadata": {},
   "outputs": [
    {
     "data": {
      "text/plain": [
       "{1, 2, 3, 4, 5}"
      ]
     },
     "execution_count": 7,
     "metadata": {},
     "output_type": "execute_result"
    }
   ],
   "source": [
    "set_3 = set((1, 2, 3, 4, 5))\n",
    "set_3"
   ]
  },
  {
   "cell_type": "code",
   "execution_count": 8,
   "id": "d3187b36",
   "metadata": {},
   "outputs": [
    {
     "data": {
      "text/plain": [
       "set"
      ]
     },
     "execution_count": 8,
     "metadata": {},
     "output_type": "execute_result"
    }
   ],
   "source": [
    "type(set_3)"
   ]
  },
  {
   "cell_type": "markdown",
   "id": "1b8e9f21",
   "metadata": {},
   "source": [
    "## 7. Add an item to a `set` using `add()` method"
   ]
  },
  {
   "cell_type": "code",
   "execution_count": 9,
   "id": "2fa27c48",
   "metadata": {},
   "outputs": [
    {
     "data": {
      "text/plain": [
       "{1, 2, 3, 4, 5, 6}"
      ]
     },
     "execution_count": 9,
     "metadata": {},
     "output_type": "execute_result"
    }
   ],
   "source": [
    "set_3.add(6)\n",
    "set_3"
   ]
  },
  {
   "cell_type": "markdown",
   "id": "de048571",
   "metadata": {},
   "source": [
    "## 8. Remove an item from a `set` using `remove()` method"
   ]
  },
  {
   "cell_type": "code",
   "execution_count": 10,
   "id": "1e0c59d7",
   "metadata": {},
   "outputs": [
    {
     "data": {
      "text/plain": [
       "{1, 2, 4, 5, 6}"
      ]
     },
     "execution_count": 10,
     "metadata": {},
     "output_type": "execute_result"
    }
   ],
   "source": [
    "set_3.remove(3)\n",
    "set_3"
   ]
  },
  {
   "cell_type": "markdown",
   "id": "eedd87c2",
   "metadata": {},
   "source": [
    "## 9. Insert items from another `set` using `update()` method"
   ]
  },
  {
   "cell_type": "code",
   "execution_count": 11,
   "id": "813a3f1a",
   "metadata": {},
   "outputs": [
    {
     "data": {
      "text/plain": [
       "{1, 2, 4, 5, 6, 'A', 'B'}"
      ]
     },
     "execution_count": 11,
     "metadata": {},
     "output_type": "execute_result"
    }
   ],
   "source": [
    "set_4 = {'A', 'B'}\n",
    "set_3.update(set_4)\n",
    "set_3"
   ]
  },
  {
   "cell_type": "markdown",
   "id": "f915353c",
   "metadata": {},
   "source": [
    "## 10. Create a new `set` using `copy()` method"
   ]
  },
  {
   "cell_type": "code",
   "execution_count": 12,
   "id": "d53f8f06",
   "metadata": {},
   "outputs": [
    {
     "data": {
      "text/plain": [
       "{'A', 'B'}"
      ]
     },
     "execution_count": 12,
     "metadata": {},
     "output_type": "execute_result"
    }
   ],
   "source": [
    "set_5 = set_4.copy()\n",
    "set_5"
   ]
  },
  {
   "cell_type": "code",
   "execution_count": 13,
   "id": "418a1523",
   "metadata": {},
   "outputs": [
    {
     "data": {
      "text/plain": [
       "{'A', 'B'}"
      ]
     },
     "execution_count": 13,
     "metadata": {},
     "output_type": "execute_result"
    }
   ],
   "source": [
    "set_4"
   ]
  },
  {
   "cell_type": "code",
   "execution_count": 14,
   "id": "b8222b94",
   "metadata": {},
   "outputs": [
    {
     "data": {
      "text/plain": [
       "{'A', 'B', 'C'}"
      ]
     },
     "execution_count": 14,
     "metadata": {},
     "output_type": "execute_result"
    }
   ],
   "source": [
    "set_5.add('C')\n",
    "set_5"
   ]
  },
  {
   "cell_type": "code",
   "execution_count": 15,
   "id": "e8ddf59d",
   "metadata": {},
   "outputs": [
    {
     "data": {
      "text/plain": [
       "{'A', 'B'}"
      ]
     },
     "execution_count": 15,
     "metadata": {},
     "output_type": "execute_result"
    }
   ],
   "source": [
    "set_4"
   ]
  },
  {
   "cell_type": "markdown",
   "id": "5045ee11",
   "metadata": {},
   "source": [
    "## 11. Join two `sets` using `union()` method"
   ]
  },
  {
   "cell_type": "code",
   "execution_count": 16,
   "id": "59de2013",
   "metadata": {},
   "outputs": [
    {
     "data": {
      "text/plain": [
       "{7, 8, 9, 'a', 'b', 'c'}"
      ]
     },
     "execution_count": 16,
     "metadata": {},
     "output_type": "execute_result"
    }
   ],
   "source": [
    "create1 = {'a', 'b', 'c'}\n",
    "create2 = {7, 8, 9}\n",
    "create = create1.union(create2)\n",
    "create"
   ]
  },
  {
   "cell_type": "markdown",
   "id": "46180201",
   "metadata": {},
   "source": [
    "## 12. Discard values using `difference()` method"
   ]
  },
  {
   "cell_type": "code",
   "execution_count": 17,
   "id": "52696472",
   "metadata": {},
   "outputs": [
    {
     "data": {
      "text/plain": [
       "{'a', 'b', 'c'}"
      ]
     },
     "execution_count": 17,
     "metadata": {},
     "output_type": "execute_result"
    }
   ],
   "source": [
    "create1"
   ]
  },
  {
   "cell_type": "code",
   "execution_count": 18,
   "id": "488ec9ae",
   "metadata": {},
   "outputs": [
    {
     "data": {
      "text/plain": [
       "{7, 8, 9, 'a', 'b', 'c'}"
      ]
     },
     "execution_count": 18,
     "metadata": {},
     "output_type": "execute_result"
    }
   ],
   "source": [
    "create"
   ]
  },
  {
   "cell_type": "code",
   "execution_count": 19,
   "id": "854e1b5b",
   "metadata": {},
   "outputs": [
    {
     "data": {
      "text/plain": [
       "{7, 8, 9}"
      ]
     },
     "execution_count": 19,
     "metadata": {},
     "output_type": "execute_result"
    }
   ],
   "source": [
    "create.difference(create1) # discards everything present in 'create1'"
   ]
  },
  {
   "cell_type": "markdown",
   "id": "0780cf34",
   "metadata": {},
   "source": [
    "## 13. Discard values from the first `set` using `difference_update()` method"
   ]
  },
  {
   "cell_type": "code",
   "execution_count": 20,
   "id": "cf2764f3",
   "metadata": {},
   "outputs": [
    {
     "data": {
      "text/plain": [
       "{7, 8, 9, 'a', 'b', 'c'}"
      ]
     },
     "execution_count": 20,
     "metadata": {},
     "output_type": "execute_result"
    }
   ],
   "source": [
    "create"
   ]
  },
  {
   "cell_type": "code",
   "execution_count": 21,
   "id": "e16cc425",
   "metadata": {},
   "outputs": [
    {
     "data": {
      "text/plain": [
       "{7, 8, 9}"
      ]
     },
     "execution_count": 21,
     "metadata": {},
     "output_type": "execute_result"
    }
   ],
   "source": [
    "create2"
   ]
  },
  {
   "cell_type": "code",
   "execution_count": 22,
   "id": "a1a15230",
   "metadata": {},
   "outputs": [],
   "source": [
    "create.difference_update(create2) # discard items from 'create'"
   ]
  },
  {
   "cell_type": "code",
   "execution_count": 23,
   "id": "2a05ab1f",
   "metadata": {},
   "outputs": [
    {
     "data": {
      "text/plain": [
       "{'a', 'b', 'c'}"
      ]
     },
     "execution_count": 23,
     "metadata": {},
     "output_type": "execute_result"
    }
   ],
   "source": [
    "create"
   ]
  },
  {
   "cell_type": "markdown",
   "id": "a57df75f",
   "metadata": {},
   "source": [
    "## 14. Remove an item from `set` using `discard()` method"
   ]
  },
  {
   "cell_type": "code",
   "execution_count": 24,
   "id": "d1cce22b",
   "metadata": {},
   "outputs": [
    {
     "data": {
      "text/plain": [
       "{'daisy', 'lily', 'orchid', 'rose'}"
      ]
     },
     "execution_count": 24,
     "metadata": {},
     "output_type": "execute_result"
    }
   ],
   "source": [
    "set_5 = {'lily', 'rose', 'daisy', 'orchid'}\n",
    "set_5"
   ]
  },
  {
   "cell_type": "code",
   "execution_count": 25,
   "id": "b1259e56",
   "metadata": {},
   "outputs": [
    {
     "data": {
      "text/plain": [
       "{'daisy', 'lily', 'orchid'}"
      ]
     },
     "execution_count": 25,
     "metadata": {},
     "output_type": "execute_result"
    }
   ],
   "source": [
    "set_5.discard('rose')\n",
    "set_5"
   ]
  },
  {
   "cell_type": "markdown",
   "id": "722b1aaa",
   "metadata": {},
   "source": [
    "## 15. Remove a random item from `set` using `pop()` method"
   ]
  },
  {
   "cell_type": "code",
   "execution_count": 26,
   "id": "6fbff870",
   "metadata": {},
   "outputs": [
    {
     "data": {
      "text/plain": [
       "{'daisy', 'lily', 'orchid'}"
      ]
     },
     "execution_count": 26,
     "metadata": {},
     "output_type": "execute_result"
    }
   ],
   "source": [
    "set_5"
   ]
  },
  {
   "cell_type": "code",
   "execution_count": 27,
   "id": "869c1c8a",
   "metadata": {},
   "outputs": [
    {
     "data": {
      "text/plain": [
       "{'daisy', 'orchid'}"
      ]
     },
     "execution_count": 27,
     "metadata": {},
     "output_type": "execute_result"
    }
   ],
   "source": [
    "set_5.pop()\n",
    "set_5"
   ]
  },
  {
   "cell_type": "markdown",
   "id": "d1231eb8",
   "metadata": {},
   "source": [
    "## 16. Select common items within `sets` using `intersection` method"
   ]
  },
  {
   "cell_type": "code",
   "execution_count": 28,
   "id": "891808fa",
   "metadata": {},
   "outputs": [],
   "source": [
    "a = {0.1, 0.2, 0.3}\n",
    "b = {0.3, 0.4, 0.5}"
   ]
  },
  {
   "cell_type": "code",
   "execution_count": 29,
   "id": "659d88dd",
   "metadata": {},
   "outputs": [
    {
     "data": {
      "text/plain": [
       "{0.3}"
      ]
     },
     "execution_count": 29,
     "metadata": {},
     "output_type": "execute_result"
    }
   ],
   "source": [
    "a.intersection(b) # selects common items from 'a' and 'b'"
   ]
  },
  {
   "cell_type": "markdown",
   "id": "548f0ad0",
   "metadata": {},
   "source": [
    "## 17. Select common items and update the first `set` using `intersection_update()` method"
   ]
  },
  {
   "cell_type": "code",
   "execution_count": 30,
   "id": "93b3426e",
   "metadata": {},
   "outputs": [
    {
     "data": {
      "text/plain": [
       "{0.1, 0.2, 0.3}"
      ]
     },
     "execution_count": 30,
     "metadata": {},
     "output_type": "execute_result"
    }
   ],
   "source": [
    "a"
   ]
  },
  {
   "cell_type": "code",
   "execution_count": 31,
   "id": "8064f89b",
   "metadata": {},
   "outputs": [],
   "source": [
    "a.intersection_update(b)"
   ]
  },
  {
   "cell_type": "code",
   "execution_count": 32,
   "id": "3838253b",
   "metadata": {},
   "outputs": [
    {
     "data": {
      "text/plain": [
       "{0.3}"
      ]
     },
     "execution_count": 32,
     "metadata": {},
     "output_type": "execute_result"
    }
   ],
   "source": [
    "a"
   ]
  },
  {
   "cell_type": "code",
   "execution_count": 33,
   "id": "767cf552",
   "metadata": {},
   "outputs": [
    {
     "data": {
      "text/plain": [
       "{0.3, 0.4, 0.5}"
      ]
     },
     "execution_count": 33,
     "metadata": {},
     "output_type": "execute_result"
    }
   ],
   "source": [
    "b"
   ]
  },
  {
   "cell_type": "markdown",
   "id": "fca660e3",
   "metadata": {},
   "source": [
    "## 18. Check intersection between two `sets` using `isdisjoint()` method"
   ]
  },
  {
   "cell_type": "code",
   "execution_count": 34,
   "id": "263baa9a",
   "metadata": {},
   "outputs": [],
   "source": [
    "c = {100, 200, 300}\n",
    "d = {300, 400, 500}\n",
    "e = {400, 500, 600}"
   ]
  },
  {
   "cell_type": "code",
   "execution_count": 35,
   "id": "a4455b0b",
   "metadata": {},
   "outputs": [
    {
     "data": {
      "text/plain": [
       "False"
      ]
     },
     "execution_count": 35,
     "metadata": {},
     "output_type": "execute_result"
    }
   ],
   "source": [
    "c.isdisjoint(d) # intersection exists"
   ]
  },
  {
   "cell_type": "code",
   "execution_count": 36,
   "id": "eb30fa99",
   "metadata": {},
   "outputs": [
    {
     "data": {
      "text/plain": [
       "True"
      ]
     },
     "execution_count": 36,
     "metadata": {},
     "output_type": "execute_result"
    }
   ],
   "source": [
    "c.isdisjoint(e) # intersection doesn't exist"
   ]
  },
  {
   "cell_type": "markdown",
   "id": "f98c9dcf",
   "metadata": {},
   "source": [
    "## 19. Check `subset` using `issubset()` method"
   ]
  },
  {
   "cell_type": "code",
   "execution_count": 37,
   "id": "ac7162be",
   "metadata": {},
   "outputs": [],
   "source": [
    "k = {12, 13}\n",
    "l = {11, 12, 13, 14}"
   ]
  },
  {
   "cell_type": "code",
   "execution_count": 38,
   "id": "3958a8a7",
   "metadata": {},
   "outputs": [
    {
     "data": {
      "text/plain": [
       "True"
      ]
     },
     "execution_count": 38,
     "metadata": {},
     "output_type": "execute_result"
    }
   ],
   "source": [
    "k.issubset(l)"
   ]
  },
  {
   "cell_type": "code",
   "execution_count": 39,
   "id": "76653dc9",
   "metadata": {},
   "outputs": [
    {
     "data": {
      "text/plain": [
       "False"
      ]
     },
     "execution_count": 39,
     "metadata": {},
     "output_type": "execute_result"
    }
   ],
   "source": [
    "l.issubset(k)"
   ]
  },
  {
   "cell_type": "markdown",
   "id": "35b8b618",
   "metadata": {},
   "source": [
    "## 20. Check `superset` using `issuperset()` method"
   ]
  },
  {
   "cell_type": "code",
   "execution_count": 40,
   "id": "71d5ee73",
   "metadata": {},
   "outputs": [
    {
     "data": {
      "text/plain": [
       "False"
      ]
     },
     "execution_count": 40,
     "metadata": {},
     "output_type": "execute_result"
    }
   ],
   "source": [
    "k.issuperset(l)"
   ]
  },
  {
   "cell_type": "code",
   "execution_count": 41,
   "id": "9913a7f1",
   "metadata": {},
   "outputs": [
    {
     "data": {
      "text/plain": [
       "True"
      ]
     },
     "execution_count": 41,
     "metadata": {},
     "output_type": "execute_result"
    }
   ],
   "source": [
    "l.issuperset(k)"
   ]
  },
  {
   "cell_type": "markdown",
   "id": "0b781bdd",
   "metadata": {},
   "source": [
    "## 21. Return items not present in both `sets` using `symmetric_difference()` method"
   ]
  },
  {
   "cell_type": "code",
   "execution_count": 42,
   "id": "5779f5b8",
   "metadata": {},
   "outputs": [
    {
     "data": {
      "text/plain": [
       "{11, 14}"
      ]
     },
     "execution_count": 42,
     "metadata": {},
     "output_type": "execute_result"
    }
   ],
   "source": [
    "k.symmetric_difference(l)"
   ]
  },
  {
   "cell_type": "code",
   "execution_count": 43,
   "id": "de12e610",
   "metadata": {},
   "outputs": [
    {
     "data": {
      "text/plain": [
       "{11, 14}"
      ]
     },
     "execution_count": 43,
     "metadata": {},
     "output_type": "execute_result"
    }
   ],
   "source": [
    "l.symmetric_difference(k)"
   ]
  },
  {
   "cell_type": "markdown",
   "id": "b992b644",
   "metadata": {},
   "source": [
    "## 22. Return items not present in both `sets` and update the first `set` using `symmetric_difference_update()` method"
   ]
  },
  {
   "cell_type": "code",
   "execution_count": 44,
   "id": "877e273b",
   "metadata": {},
   "outputs": [
    {
     "data": {
      "text/plain": [
       "{12, 13}"
      ]
     },
     "execution_count": 44,
     "metadata": {},
     "output_type": "execute_result"
    }
   ],
   "source": [
    "k"
   ]
  },
  {
   "cell_type": "code",
   "execution_count": 45,
   "id": "5ac3d88e",
   "metadata": {},
   "outputs": [
    {
     "data": {
      "text/plain": [
       "{11, 12, 13, 14}"
      ]
     },
     "execution_count": 45,
     "metadata": {},
     "output_type": "execute_result"
    }
   ],
   "source": [
    "l"
   ]
  },
  {
   "cell_type": "code",
   "execution_count": 46,
   "id": "01bad618",
   "metadata": {},
   "outputs": [],
   "source": [
    "k.symmetric_difference_update(l)"
   ]
  },
  {
   "cell_type": "code",
   "execution_count": 47,
   "id": "0d2dc8cb",
   "metadata": {},
   "outputs": [
    {
     "data": {
      "text/plain": [
       "{11, 14}"
      ]
     },
     "execution_count": 47,
     "metadata": {},
     "output_type": "execute_result"
    }
   ],
   "source": [
    "k"
   ]
  },
  {
   "cell_type": "code",
   "execution_count": 48,
   "id": "80bbfead",
   "metadata": {},
   "outputs": [
    {
     "data": {
      "text/plain": [
       "{11, 12, 13, 14}"
      ]
     },
     "execution_count": 48,
     "metadata": {},
     "output_type": "execute_result"
    }
   ],
   "source": [
    "l"
   ]
  },
  {
   "cell_type": "markdown",
   "id": "7b5bf9c3",
   "metadata": {},
   "source": [
    "## 23. Remove everything from a `set` using `clear()` method"
   ]
  },
  {
   "cell_type": "code",
   "execution_count": 49,
   "id": "86e76cfb",
   "metadata": {},
   "outputs": [
    {
     "data": {
      "text/plain": [
       "{1000, 2000, 3000}"
      ]
     },
     "execution_count": 49,
     "metadata": {},
     "output_type": "execute_result"
    }
   ],
   "source": [
    "set_6 = {1000, 2000, 3000}\n",
    "set_6"
   ]
  },
  {
   "cell_type": "code",
   "execution_count": 50,
   "id": "abac2ac7",
   "metadata": {},
   "outputs": [],
   "source": [
    "set_6.clear()"
   ]
  },
  {
   "cell_type": "code",
   "execution_count": 51,
   "id": "819b36fa",
   "metadata": {},
   "outputs": [
    {
     "data": {
      "text/plain": [
       "set()"
      ]
     },
     "execution_count": 51,
     "metadata": {},
     "output_type": "execute_result"
    }
   ],
   "source": [
    "set_6"
   ]
  }
 ],
 "metadata": {
  "kernelspec": {
   "display_name": "Python 3 (ipykernel)",
   "language": "python",
   "name": "python3"
  },
  "language_info": {
   "codemirror_mode": {
    "name": "ipython",
    "version": 3
   },
   "file_extension": ".py",
   "mimetype": "text/x-python",
   "name": "python",
   "nbconvert_exporter": "python",
   "pygments_lexer": "ipython3",
   "version": "3.9.13"
  }
 },
 "nbformat": 4,
 "nbformat_minor": 5
}
